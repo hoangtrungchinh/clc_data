{
 "cells": [
  {
   "cell_type": "markdown",
   "metadata": {},
   "source": [
    "INSTALL\n",
    "- FAISS - \n",
    "- Sent2Vec"
   ]
  },
  {
   "cell_type": "code",
   "execution_count": 1,
   "metadata": {},
   "outputs": [],
   "source": [
    "import numpy as np\n",
    "import faiss   "
   ]
  },
  {
   "cell_type": "code",
   "execution_count": 2,
   "metadata": {},
   "outputs": [
    {
     "name": "stdout",
     "output_type": "stream",
     "text": [
      "/home/chinh/clc_data/Script/Buddhism-sent2vec-en-vi-0.999-20210408-1742\r\n"
     ]
    }
   ],
   "source": [
    "import os\n",
    "import time\n",
    "name = \"Buddhism-sent2vec-en-vi-0.999-\"+ str(time.strftime(\"%Y%m%d-%H%M\"))\n",
    "\n",
    "!mkdir $name\n",
    "path = os.getcwd() + \"/\" + name\n",
    "os.chdir(path)\n",
    "\n",
    "!pwd\n",
    "\n",
    "\n",
    "os.chdir(path)"
   ]
  },
  {
   "cell_type": "code",
   "execution_count": 3,
   "metadata": {},
   "outputs": [
    {
     "name": "stdout",
     "output_type": "stream",
     "text": [
      "--2021-04-08 17:42:30--  https://github.com/hoangtrungchinh/clc_data/raw/master/buddhism.tar.gz\n",
      "Resolving github.com (github.com)... 192.30.255.113\n",
      "Connecting to github.com (github.com)|192.30.255.113|:443... connected.\n",
      "HTTP request sent, awaiting response... 302 Found\n",
      "Location: https://raw.githubusercontent.com/hoangtrungchinh/clc_data/master/buddhism.tar.gz [following]\n",
      "--2021-04-08 17:42:32--  https://raw.githubusercontent.com/hoangtrungchinh/clc_data/master/buddhism.tar.gz\n",
      "Resolving raw.githubusercontent.com (raw.githubusercontent.com)... 185.199.110.133, 185.199.111.133, 185.199.109.133, ...\n",
      "Connecting to raw.githubusercontent.com (raw.githubusercontent.com)|185.199.110.133|:443... connected.\n",
      "HTTP request sent, awaiting response... 200 OK\n",
      "Length: 910043 (889K) [application/octet-stream]\n",
      "Saving to: ‘buddhism.tar.gz’\n",
      "\n",
      "buddhism.tar.gz     100%[===================>] 888,71K  3,38MB/s    in 0,3s    \n",
      "\n",
      "2021-04-08 17:42:32 (3,38 MB/s) - ‘buddhism.tar.gz’ saved [910043/910043]\n",
      "\n",
      "Buddhism.vi\n",
      "Buddhism.en\n"
     ]
    }
   ],
   "source": [
    "!wget https://github.com/hoangtrungchinh/clc_data/raw/master/buddhism.tar.gz\n",
    "!mkdir data_bin\n",
    "!tar -xvf  'buddhism.tar.gz' -C 'data_bin'"
   ]
  },
  {
   "cell_type": "code",
   "execution_count": 4,
   "metadata": {},
   "outputs": [
    {
     "name": "stdout",
     "output_type": "stream",
     "text": [
      "['data_bin/Buddhism.en']\n",
      "['data_bin/Buddhism.vi']\n",
      "12880\n",
      "12880\n"
     ]
    }
   ],
   "source": [
    "# import file\n",
    "import numpy as np\n",
    "import glob\n",
    "\n",
    "en_files = sorted(glob.glob(\"data_bin/*.en\"))\n",
    "vi_files = sorted(glob.glob(\"data_bin/*.vi\"))\n",
    "print(en_files)\n",
    "print(vi_files)\n",
    "\n",
    "lst_en = []\n",
    "lst_vi = []\n",
    "\n",
    "start = time.time()\n",
    "\n",
    "for file in en_files:\n",
    "  with open(file) as file_in:\n",
    "    for line in file_in:\n",
    "      lst_en.append(line)\n",
    "\n",
    "for file in vi_files:\n",
    "  with open(file) as file_in:\n",
    "    for line in file_in:\n",
    "      lst_vi.append(line)\n",
    "\n",
    "print(len(lst_en))\n",
    "print(len(lst_vi))"
   ]
  },
  {
   "cell_type": "code",
   "execution_count": 5,
   "metadata": {
    "scrolled": true
   },
   "outputs": [
    {
     "name": "stdout",
     "output_type": "stream",
     "text": [
      "10304\n",
      "10304\n",
      "1288\n",
      "1288\n",
      "1288\n",
      "1288\n",
      "Every day after lunch, I helped the two temple boys clean the kitchen, then I left for a two-mile walk to a temple in the next village, where the head monk would drill me in Pali lessons.\n",
      "\n",
      "Mỗi ngày sau bữa ăn, tôi phụ hai cậu bé ở chùa dọn dẹp nhà bếp, rồi tôi phải đi bộ gần ba cây số để đến một ngôi chùa ở làng kế bên, nơi vị trụ trì ở đó sẽ dạy tiếng Pali cho tôi.\n",
      "\n",
      "If we are earnest, we should understand this problem of experience.\n",
      "\n",
      "Nếu chúng ta nghiêm túc, chúng ta nên hiểu rõ vấn đề của trải nghiệm này.\n",
      "\n",
      "You may be very generous in giving a large donation to your society, to your friends, but awfully mean about giving a bigger tip—you know what I mean by ‘mean’.\n",
      "\n",
      "Bạn có lẽ rất quảng đại khi trao một hiến dâng to tát cho xã hội của bạn, cho bạn bè của bạn, nhưng rất keo kiệt khi cho một món quà lớn hơn – bạn biết tôi có ý gì qua từ ngữ ‘keo kiệt’.\n",
      "\n"
     ]
    }
   ],
   "source": [
    "# SPLIT TRAIN, TEST, VALID\n",
    "from sklearn.model_selection import train_test_split\n",
    "en_train, en_test_valid, vi_train, vi_test_valid =  train_test_split(lst_en, lst_vi, test_size=0.2, random_state=123)\n",
    "en_valid, en_test, vi_valid, vi_test = train_test_split(en_test_valid, vi_test_valid, test_size=0.5, random_state=123)\n",
    "print(len(en_train))\n",
    "print(len(vi_train))\n",
    "print(len(en_valid))\n",
    "print(len(vi_valid))\n",
    "print(len(en_test))\n",
    "print(len(vi_test))\n",
    "print(en_train[20])\n",
    "print(vi_train[20])\n",
    "print(en_valid[-1])\n",
    "print(vi_valid[-1])\n",
    "print(en_test[-1])\n",
    "print(vi_test[-1])"
   ]
  },
  {
   "cell_type": "code",
   "execution_count": 6,
   "metadata": {},
   "outputs": [
    {
     "name": "stdout",
     "output_type": "stream",
     "text": [
      "total 3972\r\n",
      "drwxrwxr-x  3 chinh chinh    4096 Thg 4   8 17:42 .\r\n",
      "drwxrwxr-x 16 chinh chinh    4096 Thg 4   8 17:42 ..\r\n",
      "-rw-rw-r--  1 chinh chinh  910043 Thg 4   8 17:42 buddhism.tar.gz\r\n",
      "drwxrwxr-x  2 chinh chinh    4096 Thg 4   8 17:42 data_bin\r\n",
      "-rw-rw-r--  1 chinh chinh  127163 Thg 4   8 17:42 en_test\r\n",
      "-rw-rw-r--  1 chinh chinh 1023485 Thg 4   8 17:42 en_train\r\n",
      "-rw-rw-r--  1 chinh chinh  125859 Thg 4   8 17:42 en_valid\r\n",
      "-rw-rw-r--  1 chinh chinh  182237 Thg 4   8 17:42 vi_test\r\n",
      "-rw-rw-r--  1 chinh chinh 1486401 Thg 4   8 17:42 vi_train\r\n",
      "-rw-rw-r--  1 chinh chinh  184873 Thg 4   8 17:42 vi_valid\r\n"
     ]
    }
   ],
   "source": [
    "file_variable = [en_train,vi_train,en_valid,vi_valid,en_test,vi_test]\n",
    "file_names = [\"en_train\",\"vi_train\",\"en_valid\",\"vi_valid\",\"en_test\",\"vi_test\"]\n",
    "\n",
    "for i in range(len(file_names)):\n",
    "  with open(file_names[i], 'w') as f:\n",
    "    for item in file_variable[i]:\n",
    "      f.write(item)\n",
    "!ls -al"
   ]
  },
  {
   "cell_type": "code",
   "execution_count": 7,
   "metadata": {},
   "outputs": [
    {
     "name": "stdout",
     "output_type": "stream",
     "text": [
      "=== Ending, Total time (second):  9.072224140167236\n"
     ]
    }
   ],
   "source": [
    "start = time.time()\n",
    "import sent2vec\n",
    "model = sent2vec.Sent2vecModel()\n",
    "model.load_model('../../../wiki_unigrams.bin')\n",
    "\n",
    "print('=== Ending, Total time (second): ', time.time() - start)"
   ]
  },
  {
   "cell_type": "code",
   "execution_count": 8,
   "metadata": {},
   "outputs": [],
   "source": [
    "srcfile = \"en_train\"\n",
    "tarfile = \"vi_train\"\n",
    "# lst_srcfile = open(srcfile, \"r\").readlines()\n",
    "# lst_tarfile = open(tarfile, \"r\").readlines()\n",
    "lst_srcfile = en_train\n",
    "lst_tarfile = vi_train\n",
    "\n",
    "vec_lst_srcfile = model.embed_sentences(lst_srcfile)"
   ]
  },
  {
   "cell_type": "markdown",
   "metadata": {},
   "source": [
    "Test Cosin similarity"
   ]
  },
  {
   "cell_type": "code",
   "execution_count": 9,
   "metadata": {
    "scrolled": true
   },
   "outputs": [
    {
     "name": "stdout",
     "output_type": "stream",
     "text": [
      "=== Ending, Total time (second):  0.33879971504211426\n",
      "10304\n",
      "10304\n",
      "[[    0  5715  1742   597  9241  5380]\n",
      " [    1  3520  4428  3897  3763  9449]\n",
      " [    2  9928  9070  3498  6860   503]\n",
      " ...\n",
      " [10301 10069  6259  1807  7503  3555]\n",
      " [10302  9194  6782   956  9429  4538]\n",
      " [10303   329   478   100  1208  1028]]\n",
      "[[4.7683716e-07 7.6361585e-01 7.6419914e-01 8.3771658e-01 8.5858643e-01\n",
      "  8.7362075e-01]\n",
      " [4.7683716e-07 6.5204394e-01 7.4527025e-01 7.5698471e-01 7.9065466e-01\n",
      "  7.9523373e-01]\n",
      " [0.0000000e+00 7.5219345e-01 7.7750969e-01 8.3772433e-01 8.4872437e-01\n",
      "  8.5395491e-01]\n",
      " ...\n",
      " [0.0000000e+00 6.5340424e-01 8.0812383e-01 8.2349205e-01 8.2415068e-01\n",
      "  8.2527947e-01]\n",
      " [0.0000000e+00 6.3898289e-01 7.9943395e-01 8.4639382e-01 8.6467588e-01\n",
      "  8.8177025e-01]\n",
      " [0.0000000e+00 1.0000002e+00 1.0000002e+00 1.0000002e+00 1.0000002e+00\n",
      "  1.0000002e+00]]\n"
     ]
    }
   ],
   "source": [
    "import faiss\n",
    "\n",
    "start = time.time()\n",
    "vec_lst_srcfile = model.embed_sentences(lst_srcfile)\n",
    "index = faiss.IndexFlatL2(600)\n",
    "index.ntotal\n",
    "faiss.normalize_L2(vec_lst_srcfile)\n",
    "index.add(vec_lst_srcfile)\n",
    "k = 6\n",
    "distance, index = index.search(vec_lst_srcfile, k)\n",
    "\n",
    "print('=== Ending, Total time (second): ', time.time() - start)\n",
    "print(len(distance))\n",
    "print(len(index))\n",
    "\n",
    "print(index)\n",
    "print(distance)"
   ]
  },
  {
   "cell_type": "code",
   "execution_count": 10,
   "metadata": {},
   "outputs": [
    {
     "name": "stdout",
     "output_type": "stream",
     "text": [
      "<class 'numpy.ndarray'>\n",
      "(10304, 600)\n"
     ]
    }
   ],
   "source": [
    "print(type(vec_lst_srcfile))\n",
    "print(vec_lst_srcfile.shape)\n"
   ]
  },
  {
   "cell_type": "code",
   "execution_count": 11,
   "metadata": {},
   "outputs": [
    {
     "name": "stdout",
     "output_type": "stream",
     "text": [
      "329\n",
      "==================================\n",
      "0.9999999\n",
      "0.99999994\n"
     ]
    }
   ],
   "source": [
    "i = 6\n",
    "j = k-1\n",
    "print(index[i][j])\n",
    "print(\"==================================\")\n",
    "print(distance[i][j])\n",
    "a = vec_lst_srcfile[i]\n",
    "# print(a)\n",
    "b = vec_lst_srcfile[index[i][j]]\n",
    "# TEST\n",
    "dist_squared = np.sum(np.square(a - b))\n",
    "print(dist_squared)"
   ]
  },
  {
   "cell_type": "code",
   "execution_count": 12,
   "metadata": {},
   "outputs": [
    {
     "name": "stdout",
     "output_type": "stream",
     "text": [
      "threshold = 0.8 EM sentences = 6885 / 10304 0.6681871118012422 %\n",
      "threshold = 0.85 EM sentences = 6027 / 10304 0.5849184782608695 %\n",
      "threshold = 0.9 EM sentences = 5072 / 10304 0.4922360248447205 %\n",
      "threshold = 0.95 EM sentences = 4049 / 10304 0.39295419254658387 %\n",
      "threshold = 0.99 EM sentences = 3246 / 10304 0.31502329192546585 %\n",
      "=== Ending, Total time (second):  0.8569827079772949\n"
     ]
    }
   ],
   "source": [
    "start = time.time()\n",
    "saperate = \" || \"\n",
    "\n",
    "src_label = \"S\"\n",
    "emb_label = \"E\"\n",
    "thres_arr = [0.8, 0.85, 0.9, 0.95, 0.99]\n",
    "for i in range(len(thres_arr)):\n",
    "    threshold = thres_arr[i]\n",
    "    out_file_write = open(\"en_train_EM_\"+str(thres_arr[i]), 'w')\n",
    "    out_file_write_score = open(\"en_train_EM_score_\"+str(thres_arr[i]), 'w')\n",
    "    out_file_write_factor = open(\"en_train_EM_factor_\"+str(thres_arr[i]), 'w')\n",
    "    num_gth_thres = 0\n",
    "\n",
    "    for i in range(len(lst_srcfile)):\n",
    "        score = distance[i][1]\n",
    "        content = \"\"\n",
    "        content_label_arr = []\n",
    "        if score >= threshold:\n",
    "            num_gth_thres += 1\n",
    "            best_simi_index = index[i][1]\n",
    "            content = lst_srcfile[i].strip() + saperate + lst_tarfile[best_simi_index].strip()\n",
    "\n",
    "            content_label = [src_label] * len(lst_srcfile[i].split())\n",
    "            content_label.append(emb_label)\n",
    "            content_label = content_label + [emb_label] * len(lst_tarfile[best_simi_index].split())\n",
    "\n",
    "            content_label_arr = \" \".join(content_label)\n",
    "        else:\n",
    "            content = lst_srcfile[i].strip()\n",
    "            content_label = [src_label] * len(lst_srcfile[i].split())\n",
    "            content_label_arr = \" \".join(content_label)\n",
    " \n",
    "        out_file_write.writelines(content+ \"\\n\")    \n",
    "        out_file_write_factor.writelines(content_label_arr + \"\\n\")\n",
    "        out_file_write_score.writelines(str(score) + \"\\n\")\n",
    "\n",
    "    print('threshold =', threshold, \"EM sentences =\", num_gth_thres, \"/\", len(lst_srcfile), num_gth_thres/len(lst_srcfile), \"%\" )\n",
    "\n",
    "    out_file_write.close()\n",
    "    out_file_write_score.close()\n",
    "    out_file_write_factor.close()\n",
    "\n",
    "done = time.time()\n",
    "elapsed = done - start\n",
    "print('=== Ending, Total time (second): ', elapsed)"
   ]
  },
  {
   "cell_type": "code",
   "execution_count": null,
   "metadata": {},
   "outputs": [],
   "source": []
  }
 ],
 "metadata": {
  "kernelspec": {
   "display_name": "Python 3",
   "language": "python",
   "name": "python3"
  },
  "language_info": {
   "codemirror_mode": {
    "name": "ipython",
    "version": 3
   },
   "file_extension": ".py",
   "mimetype": "text/x-python",
   "name": "python",
   "nbconvert_exporter": "python",
   "pygments_lexer": "ipython3",
   "version": "3.8.5"
  }
 },
 "nbformat": 4,
 "nbformat_minor": 4
}
