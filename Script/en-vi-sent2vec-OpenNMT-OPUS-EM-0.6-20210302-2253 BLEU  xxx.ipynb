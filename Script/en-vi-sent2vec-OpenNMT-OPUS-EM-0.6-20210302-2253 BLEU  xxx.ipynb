{
 "cells": [
  {
   "cell_type": "code",
   "execution_count": 1,
   "metadata": {
    "colab": {
     "base_uri": "https://localhost:8080/"
    },
    "executionInfo": {
     "elapsed": 26876,
     "status": "ok",
     "timestamp": 1614654728116,
     "user": {
      "displayName": "chinhguitar chinhguitar",
      "photoUrl": "",
      "userId": "14436598568037311077"
     },
     "user_tz": -420
    },
    "id": "42yosgiGoLTC",
    "outputId": "41f4b17f-9c3e-4d3a-e717-4589b5369842"
   },
   "outputs": [
    {
     "name": "stdout",
     "output_type": "stream",
     "text": [
      "/home/chinh/clc_data/Script/en-vi-sent2vec-OpenNMT-OPUS-EM-0.6-20210302-2324\r\n"
     ]
    }
   ],
   "source": [
    "import os\n",
    "import time\n",
    "FOLDERNAME = \"en-vi-sent2vec-OpenNMT-OPUS-EM-0.6-\" + str(time.strftime(\"%Y%m%d-%H%M\"))\n",
    "!mkdir $FOLDERNAME\n",
    "\n",
    "os.chdir(FOLDERNAME)\n",
    "!pwd\n",
    "\n",
    "# import os\n",
    "# path = '/content/drive/Shared drives/chinh-share/nmt-v3/OpenNMT-TED-EM-bert-ratio-8-2-2-20210128-0637'\n",
    "# os.chdir(path)\n",
    "# !pwd"
   ]
  },
  {
   "cell_type": "code",
   "execution_count": 2,
   "metadata": {
    "colab": {
     "base_uri": "https://localhost:8080/"
    },
    "executionInfo": {
     "elapsed": 46945,
     "status": "ok",
     "timestamp": 1614654748199,
     "user": {
      "displayName": "chinhguitar chinhguitar",
      "photoUrl": "",
      "userId": "14436598568037311077"
     },
     "user_tz": -420
    },
    "id": "fFQX3CyRxJPn",
    "outputId": "75b8858c-e69a-4894-dffb-21a6f17c9ce5",
    "scrolled": true
   },
   "outputs": [
    {
     "name": "stdout",
     "output_type": "stream",
     "text": [
      "--2021-03-02 23:24:22--  https://github.com/hoangtrungchinh/clc_data/raw/master/opus-100-corpus-en-vi-EM.zip\n",
      "Resolving github.com (github.com)... 52.74.223.119\n",
      "Connecting to github.com (github.com)|52.74.223.119|:443... connected.\n",
      "HTTP request sent, awaiting response... 302 Found\n",
      "Location: https://raw.githubusercontent.com/hoangtrungchinh/clc_data/master/opus-100-corpus-en-vi-EM.zip [following]\n",
      "--2021-03-02 23:24:23--  https://raw.githubusercontent.com/hoangtrungchinh/clc_data/master/opus-100-corpus-en-vi-EM.zip\n",
      "Resolving raw.githubusercontent.com (raw.githubusercontent.com)... 185.199.111.133, 185.199.108.133, 185.199.110.133, ...\n",
      "Connecting to raw.githubusercontent.com (raw.githubusercontent.com)|185.199.111.133|:443... connected.\n",
      "HTTP request sent, awaiting response... 200 OK\n",
      "Length: 93465891 (89M) [application/zip]\n",
      "Saving to: ‘opus-100-corpus-en-vi-EM.zip’\n",
      "\n",
      "opus-100-corpus-en- 100%[===================>]  89,14M  6,45MB/s    in 16s     \n",
      "\n",
      "2021-03-02 23:24:45 (5,42 MB/s) - ‘opus-100-corpus-en-vi-EM.zip’ saved [93465891/93465891]\n",
      "\n",
      "Archive:  opus-100-corpus-en-vi-EM.zip\n",
      "  inflating: en_test                 \n",
      "  inflating: en_train                \n",
      "  inflating: en_train_EM_0.6         \n",
      "  inflating: en_train_EM_0.7         \n",
      "  inflating: en_train_EM_0.8         \n",
      "  inflating: en_train_EM_0.9         \n",
      "  inflating: en_train_EM_factor_0.6  \n",
      "  inflating: en_train_EM_factor_0.7  \n",
      "  inflating: en_train_EM_factor_0.8  \n",
      "  inflating: en_train_EM_factor_0.9  \n",
      "  inflating: en_train_EM_score_0.6   \n",
      "  inflating: en_train_EM_score_0.7   \n",
      "  inflating: en_train_EM_score_0.8   \n",
      "  inflating: en_train_EM_score_0.9   \n",
      "  inflating: en_valid                \n",
      "  inflating: vi_test                 \n",
      "  inflating: vi_train                \n",
      "  inflating: vi_valid                \n"
     ]
    }
   ],
   "source": [
    "!wget https://github.com/hoangtrungchinh/clc_data/raw/master/opus-100-corpus-en-vi-EM.zip\n",
    "!mkdir data_bin\n",
    "!unzip 'opus-100-corpus-en-vi-EM.zip'"
   ]
  },
  {
   "cell_type": "code",
   "execution_count": 3,
   "metadata": {
    "colab": {
     "base_uri": "https://localhost:8080/"
    },
    "executionInfo": {
     "elapsed": 63680,
     "status": "ok",
     "timestamp": 1614654764940,
     "user": {
      "displayName": "chinhguitar chinhguitar",
      "photoUrl": "",
      "userId": "14436598568037311077"
     },
     "user_tz": -420
    },
    "id": "LswvFB4cxzSb",
    "outputId": "ac922960-ab9d-45c6-c4b5-96a9be08e782",
    "scrolled": true
   },
   "outputs": [
    {
     "name": "stdout",
     "output_type": "stream",
     "text": [
      "[2021-03-02 23:24:48,601 INFO] Extracting features...\n",
      "[2021-03-02 23:24:48,601 INFO]  * number of source features: 0.\n",
      "[2021-03-02 23:24:48,601 INFO]  * number of target features: 0.\n",
      "[2021-03-02 23:24:48,601 INFO] Building `Fields` object...\n",
      "[2021-03-02 23:24:48,601 INFO] Building & saving training data...\n",
      "multiprocessing.pool.RemoteTraceback: \n",
      "\"\"\"\n",
      "Traceback (most recent call last):\n",
      "  File \"/home/chinh/anaconda3/lib/python3.8/multiprocessing/pool.py\", line 125, in worker\n",
      "    result = (True, func(*args, **kwds))\n",
      "  File \"/home/chinh/anaconda3/lib/python3.8/site-packages/onmt/bin/preprocess.py\", line 54, in process_one_shard\n",
      "    assert len(src_shard) == len(tgt_shard)\n",
      "AssertionError\n",
      "\"\"\"\n",
      "\n",
      "The above exception was the direct cause of the following exception:\n",
      "\n",
      "Traceback (most recent call last):\n",
      "  File \"/home/chinh/anaconda3/bin/onmt_preprocess\", line 8, in <module>\n",
      "    sys.exit(main())\n",
      "  File \"/home/chinh/anaconda3/lib/python3.8/site-packages/onmt/bin/preprocess.py\", line 318, in main\n",
      "    preprocess(opt)\n",
      "  File \"/home/chinh/anaconda3/lib/python3.8/site-packages/onmt/bin/preprocess.py\", line 297, in preprocess\n",
      "    build_save_dataset(\n",
      "  File \"/home/chinh/anaconda3/lib/python3.8/site-packages/onmt/bin/preprocess.py\", line 205, in build_save_dataset\n",
      "    for sub_counter in p.imap(func, shard_iter):\n",
      "  File \"/home/chinh/anaconda3/lib/python3.8/multiprocessing/pool.py\", line 868, in next\n",
      "    raise value\n",
      "AssertionError\n"
     ]
    }
   ],
   "source": [
    "!mkdir -p output\n",
    "!onmt_preprocess -train_src 'en_train_EM_0.6' -train_tgt 'vi_train' -valid_src 'en_valid' -valid_tgt 'vi_valid' -save_data 'output/en-vi' "
   ]
  },
  {
   "cell_type": "code",
   "execution_count": null,
   "metadata": {
    "colab": {
     "base_uri": "https://localhost:8080/"
    },
    "executionInfo": {
     "elapsed": 3666077,
     "status": "ok",
     "timestamp": 1614672978716,
     "user": {
      "displayName": "chinhguitar chinhguitar",
      "photoUrl": "",
      "userId": "14436598568037311077"
     },
     "user_tz": -420
    },
    "id": "gYyQECmi0TX5",
    "outputId": "80510d96-9c5a-4f4a-e4e7-09f0ec735fd8"
   },
   "outputs": [],
   "source": [
    "!mkdir -p model\n",
    "!onmt_train -data 'output/en-vi' \\\\\n",
    "-save_model 'model/en-vi' \\\\\n",
    "-layers 6 -rnn_size 512 -word_vec_size 512 -transformer_ff 2048 -heads 8 \\\\\n",
    "-encoder_type transformer -decoder_type transformer -position_encoding \\\\\n",
    "-train_steps 30000  -max_generator_batches 2 -dropout 0.1 -batch_size 4096 \\\\\n",
    "-batch_type tokens -normalization tokens  -accum_count 2 -optim adam -adam_beta2 0.998 \\\\\n",
    "-decay_method noam -warmup_steps 8000 -learning_rate 2 -max_grad_norm 0 -param_init 0 \\\\\n",
    "-param_init_glorot -label_smoothing 0.1 -valid_steps 1000 -save_checkpoint_steps 1000 \\\\\n",
    "-report_every 1000 -world_size 1 -gpu_ranks 0"
   ]
  },
  {
   "cell_type": "code",
   "execution_count": null,
   "metadata": {
    "colab": {
     "base_uri": "https://localhost:8080/"
    },
    "executionInfo": {
     "elapsed": 61,
     "status": "ok",
     "timestamp": 1614672978721,
     "user": {
      "displayName": "chinhguitar chinhguitar",
      "photoUrl": "",
      "userId": "14436598568037311077"
     },
     "user_tz": -420
    },
    "id": "1XOEz-j6IbNR",
    "outputId": "d9b1d2d6-17cf-4a55-8e9a-cc2a9776390c"
   },
   "outputs": [],
   "source": [
    "!ls -al model model/"
   ]
  },
  {
   "cell_type": "code",
   "execution_count": null,
   "metadata": {
    "colab": {
     "base_uri": "https://localhost:8080/"
    },
    "executionInfo": {
     "elapsed": 3739455,
     "status": "ok",
     "timestamp": 1614676718147,
     "user": {
      "displayName": "chinhguitar chinhguitar",
      "photoUrl": "",
      "userId": "14436598568037311077"
     },
     "user_tz": -420
    },
    "id": "1S26AN4rHUAH",
    "outputId": "25344b3b-781c-4d81-94f4-8eab591c0264"
   },
   "outputs": [],
   "source": [
    "!onmt_translate -model model/en-vi_step_30000.pt -src en_test -tgt vi_test -output predict.txt"
   ]
  },
  {
   "cell_type": "code",
   "execution_count": null,
   "metadata": {
    "colab": {
     "base_uri": "https://localhost:8080/"
    },
    "executionInfo": {
     "elapsed": 36,
     "status": "ok",
     "timestamp": 1614676718149,
     "user": {
      "displayName": "chinhguitar chinhguitar",
      "photoUrl": "",
      "userId": "14436598568037311077"
     },
     "user_tz": -420
    },
    "id": "kPGsYFs_XpAO",
    "outputId": "8c171aea-1407-47f3-fb8f-2957ff297df4"
   },
   "outputs": [],
   "source": [
    "!tail vi_test"
   ]
  },
  {
   "cell_type": "code",
   "execution_count": null,
   "metadata": {
    "colab": {
     "base_uri": "https://localhost:8080/"
    },
    "executionInfo": {
     "elapsed": 23010,
     "status": "ok",
     "timestamp": 1614676741139,
     "user": {
      "displayName": "chinhguitar chinhguitar",
      "photoUrl": "",
      "userId": "14436598568037311077"
     },
     "user_tz": -420
    },
    "id": "Rf5W-T8MzRK3",
    "outputId": "24d2c4b9-2119-4291-971f-41f5ecdb0962"
   },
   "outputs": [],
   "source": [
    "!git clone https://github.com/OpenNMT/OpenNMT-py.git"
   ]
  },
  {
   "cell_type": "code",
   "execution_count": null,
   "metadata": {
    "colab": {
     "base_uri": "https://localhost:8080/"
    },
    "executionInfo": {
     "elapsed": 436,
     "status": "ok",
     "timestamp": 1614676741553,
     "user": {
      "displayName": "chinhguitar chinhguitar",
      "photoUrl": "",
      "userId": "14436598568037311077"
     },
     "user_tz": -420
    },
    "id": "Iw_Gma2gz0PK",
    "outputId": "fe71a6c3-835f-4492-b478-c715ab698e5f"
   },
   "outputs": [],
   "source": [
    "!ls -al"
   ]
  },
  {
   "cell_type": "code",
   "execution_count": null,
   "metadata": {
    "colab": {
     "base_uri": "https://localhost:8080/"
    },
    "executionInfo": {
     "elapsed": 3104,
     "status": "ok",
     "timestamp": 1614676744642,
     "user": {
      "displayName": "chinhguitar chinhguitar",
      "photoUrl": "",
      "userId": "14436598568037311077"
     },
     "user_tz": -420
    },
    "id": "7T7xCaDdR469",
    "outputId": "3d0be0db-031d-4dd4-a2a1-71192af5ee6a"
   },
   "outputs": [],
   "source": [
    "!perl OpenNMT-py/tools/multi-bleu.perl vi_test < predict.txt"
   ]
  }
 ],
 "metadata": {
  "accelerator": "GPU",
  "colab": {
   "collapsed_sections": [],
   "machine_shape": "hm",
   "name": "en-vi-sent2vec-OpenNMT-TED-EM-0.6-20210302-0311 BLEU  22.31.ipynb",
   "provenance": [],
   "toc_visible": true
  },
  "kernelspec": {
   "display_name": "Python 3",
   "language": "python",
   "name": "python3"
  },
  "language_info": {
   "codemirror_mode": {
    "name": "ipython",
    "version": 3
   },
   "file_extension": ".py",
   "mimetype": "text/x-python",
   "name": "python",
   "nbconvert_exporter": "python",
   "pygments_lexer": "ipython3",
   "version": "3.8.5"
  }
 },
 "nbformat": 4,
 "nbformat_minor": 1
}
