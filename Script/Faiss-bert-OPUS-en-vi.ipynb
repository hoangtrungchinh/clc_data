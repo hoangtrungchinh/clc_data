{
 "cells": [
  {
   "cell_type": "markdown",
   "metadata": {},
   "source": [
    "INSTALL\n",
    "- FAISS - \n",
    "- Sent2Vec"
   ]
  },
  {
   "cell_type": "code",
   "execution_count": 1,
   "metadata": {},
   "outputs": [],
   "source": [
    "import numpy as np\n",
    "import faiss   "
   ]
  },
  {
   "cell_type": "code",
   "execution_count": 2,
   "metadata": {},
   "outputs": [
    {
     "name": "stdout",
     "output_type": "stream",
     "text": [
      "/home/chinh/clc_data/Script/Faiss-EM-OPUS-bert-en-vi20210304-1327\r\n"
     ]
    }
   ],
   "source": [
    "import os\n",
    "import time\n",
    "name = \"Faiss-EM-OPUS-bert-en-vi\"+ str(time.strftime(\"%Y%m%d-%H%M\"))\n",
    "\n",
    "!mkdir $name\n",
    "path = os.getcwd() + \"/\" + name\n",
    "os.chdir(path)\n",
    "\n",
    "!pwd\n",
    "os.chdir(path)"
   ]
  },
  {
   "cell_type": "code",
   "execution_count": 3,
   "metadata": {},
   "outputs": [
    {
     "name": "stdout",
     "output_type": "stream",
     "text": [
      "--2021-03-04 13:27:05--  https://github.com/hoangtrungchinh/clc_data/raw/master/opus-100-corpus.zip\n",
      "Resolving github.com (github.com)... 52.74.223.119\n",
      "Connecting to github.com (github.com)|52.74.223.119|:443... connected.\n",
      "HTTP request sent, awaiting response... 302 Found\n",
      "Location: https://raw.githubusercontent.com/hoangtrungchinh/clc_data/master/opus-100-corpus.zip [following]\n",
      "--2021-03-04 13:27:06--  https://raw.githubusercontent.com/hoangtrungchinh/clc_data/master/opus-100-corpus.zip\n",
      "Resolving raw.githubusercontent.com (raw.githubusercontent.com)... 185.199.110.133, 185.199.108.133, 185.199.111.133, ...\n",
      "Connecting to raw.githubusercontent.com (raw.githubusercontent.com)|185.199.110.133|:443... connected.\n",
      "HTTP request sent, awaiting response... 200 OK\n",
      "Length: 30690851 (29M) [application/zip]\n",
      "Saving to: ‘opus-100-corpus.zip’\n",
      "\n",
      "opus-100-corpus.zip 100%[===================>]  29,27M  5,47MB/s    in 5,1s    \n",
      "\n",
      "2021-03-04 13:27:14 (5,73 MB/s) - ‘opus-100-corpus.zip’ saved [30690851/30690851]\n",
      "\n",
      "Archive:  opus-100-corpus.zip\n",
      "  inflating: data_bin/opus.en-vi-dev.en  \n",
      "  inflating: data_bin/opus.en-vi-dev.vi  \n",
      "  inflating: data_bin/opus.en-vi-test.en  \n",
      "  inflating: data_bin/opus.en-vi-test.vi  \n",
      "  inflating: data_bin/opus.en-vi-train.en  \n",
      "  inflating: data_bin/opus.en-vi-train.vi  \n"
     ]
    }
   ],
   "source": [
    "!wget https://github.com/hoangtrungchinh/clc_data/raw/master/opus-100-corpus.zip\n",
    "!mkdir data_bin\n",
    "!unzip 'opus-100-corpus.zip' -d 'data_bin'"
   ]
  },
  {
   "cell_type": "code",
   "execution_count": 4,
   "metadata": {},
   "outputs": [
    {
     "name": "stdout",
     "output_type": "stream",
     "text": [
      "['data_bin/opus.en-vi-dev.en', 'data_bin/opus.en-vi-test.en', 'data_bin/opus.en-vi-train.en']\n",
      "['data_bin/opus.en-vi-dev.vi', 'data_bin/opus.en-vi-test.vi', 'data_bin/opus.en-vi-train.vi']\n",
      "1004000\n",
      "1004000\n"
     ]
    }
   ],
   "source": [
    "# import file\n",
    "import numpy as np\n",
    "import glob\n",
    "\n",
    "en_files = sorted(glob.glob(\"data_bin/*.en\"))\n",
    "vi_files = sorted(glob.glob(\"data_bin/*.vi\"))\n",
    "print(en_files)\n",
    "print(vi_files)\n",
    "\n",
    "lst_en = []\n",
    "lst_vi = []\n",
    "\n",
    "start = time.time()\n",
    "\n",
    "for file in en_files:\n",
    "  with open(file) as file_in:\n",
    "    for line in file_in:\n",
    "      lst_en.append(line.strip())\n",
    "\n",
    "for file in vi_files:\n",
    "  with open(file) as file_in:\n",
    "    for line in file_in:\n",
    "      lst_vi.append(line.strip())\n",
    "\n",
    "print(len(lst_en))\n",
    "print(len(lst_vi))"
   ]
  },
  {
   "cell_type": "code",
   "execution_count": 5,
   "metadata": {
    "scrolled": true
   },
   "outputs": [
    {
     "name": "stdout",
     "output_type": "stream",
     "text": [
      "803200\n",
      "803200\n",
      "100400\n",
      "100400\n",
      "100400\n",
      "100400\n",
      "Childs?\n",
      "Childs?\n",
      "It's powered up now, isn't it?\n",
      "Bây giờ nó bật rồi phải không nhỉ?\n",
      "Why the hell are you going to Cuddy's baby naming?\n",
      "Bị làm sao mà anh lại đi dự lễ đặt tên em bé của Cuddy chứ?\n"
     ]
    }
   ],
   "source": [
    "# SPLIT TRAIN, TEST, VALID\n",
    "from sklearn.model_selection import train_test_split\n",
    "en_train, en_test_valid, vi_train, vi_test_valid =  train_test_split(lst_en, lst_vi, test_size=0.2, random_state=123)\n",
    "en_valid, en_test, vi_valid, vi_test = train_test_split(en_test_valid, vi_test_valid, test_size=0.5, random_state=123)\n",
    "print(len(en_train))\n",
    "print(len(vi_train))\n",
    "print(len(en_valid))\n",
    "print(len(vi_valid))\n",
    "print(len(en_test))\n",
    "print(len(vi_test))\n",
    "print(en_train[20])\n",
    "print(vi_train[20])\n",
    "print(en_valid[-1])\n",
    "print(vi_valid[-1])\n",
    "print(en_test[-1])\n",
    "print(vi_test[-1])"
   ]
  },
  {
   "cell_type": "code",
   "execution_count": 6,
   "metadata": {
    "scrolled": true
   },
   "outputs": [
    {
     "name": "stdout",
     "output_type": "stream",
     "text": [
      "total 105172\r\n",
      "drwxrwxr-x 3 chinh chinh     4096 Thg 3   4 13:27 .\r\n",
      "drwxrwxr-x 6 chinh chinh     4096 Thg 3   4 13:27 ..\r\n",
      "drwxrwxr-x 2 chinh chinh     4096 Thg 3   4 13:27 data_bin\r\n",
      "-rw-rw-r-- 1 chinh chinh  3318349 Thg 3   4 13:27 en_test\r\n",
      "-rw-rw-r-- 1 chinh chinh 26563375 Thg 3   4 13:27 en_train\r\n",
      "-rw-rw-r-- 1 chinh chinh  3328557 Thg 3   4 13:27 en_valid\r\n",
      "-rw-rw-r-- 1 chinh chinh 30690851 Thg 3   4 13:27 opus-100-corpus.zip\r\n",
      "-rw-rw-r-- 1 chinh chinh  4365722 Thg 3   4 13:27 vi_test\r\n",
      "-rw-rw-r-- 1 chinh chinh 35019161 Thg 3   4 13:27 vi_train\r\n",
      "-rw-rw-r-- 1 chinh chinh  4382771 Thg 3   4 13:27 vi_valid\r\n"
     ]
    }
   ],
   "source": [
    "file_variable = [en_train,vi_train,en_valid,vi_valid,en_test,vi_test]\n",
    "file_names = [\"en_train\",\"vi_train\",\"en_valid\",\"vi_valid\",\"en_test\",\"vi_test\"]\n",
    "\n",
    "for i in range(len(file_names)):\n",
    "  with open(file_names[i], 'w') as f:\n",
    "    for item in file_variable[i]:\n",
    "      f.write(item)\n",
    "      f.write(\"\\n\")\n",
    "    \n",
    "!ls -al"
   ]
  },
  {
   "cell_type": "code",
   "execution_count": 7,
   "metadata": {},
   "outputs": [],
   "source": [
    "from sentence_transformers import SentenceTransformer, util\n",
    "model = SentenceTransformer('stsb-bert-large')\n",
    "# # model = SentenceTransformer('LaBSE')\n",
    "# #Sentences are encoded by calling model.encode()\n",
    "# emb1 = model.encode(\"This is a red cat with a hat.\")\n",
    "# emb2 = model.encode(\"Have you seen my red cat?\")\n",
    "\n",
    "# cos_sim = util.pytorch_cos_sim(emb1, emb2)\n",
    "# print(\"Cosine-Similarity:\", cos_sim)"
   ]
  },
  {
   "cell_type": "code",
   "execution_count": 8,
   "metadata": {},
   "outputs": [],
   "source": [
    "# print(cos_sim.numpy()[0][0])"
   ]
  },
  {
   "cell_type": "code",
   "execution_count": 9,
   "metadata": {},
   "outputs": [
    {
     "name": "stdout",
     "output_type": "stream",
     "text": [
      "=== Ending, Total time (second):  4250.3012664318085\n"
     ]
    }
   ],
   "source": [
    "start = time.time()\n",
    "srcfile = \"en_train\"\n",
    "tarfile = \"vi_train\"\n",
    "lst_srcfile = en_train\n",
    "lst_tarfile = vi_train\n",
    "\n",
    "vec_lst_srcfile = model.encode(lst_srcfile)\n",
    "print('=== Ending, Total time (second): ', time.time() - start)"
   ]
  },
  {
   "cell_type": "markdown",
   "metadata": {},
   "source": [
    "Test Cosin similarity"
   ]
  },
  {
   "cell_type": "code",
   "execution_count": 10,
   "metadata": {
    "scrolled": true
   },
   "outputs": [
    {
     "name": "stdout",
     "output_type": "stream",
     "text": [
      "=== Ending, Total time (second):  3419.6206061840057\n",
      "803200\n",
      "803200\n",
      "[[ 76309 157897 178919      0 236179 233242]\n",
      " [     1 364452 144270 466705 178997   7736]\n",
      " [ 87166      2 665949 113807 653536 342496]\n",
      " ...\n",
      " [803197 680232 231625 193396 117066 726611]\n",
      " [527692 180813 803198 768526 620014 591275]\n",
      " [112858 803199 233037 547484 412678 603907]]\n",
      "[[2.3841858e-07 2.3841858e-07 2.3841858e-07 2.3841858e-07 4.7683716e-07\n",
      "  4.7683716e-07]\n",
      " [0.0000000e+00 7.5549066e-01 7.8083515e-01 7.8685856e-01 7.8685868e-01\n",
      "  7.9649842e-01]\n",
      " [5.9604645e-07 7.1525574e-07 4.4238329e-02 4.4238329e-02 4.4238329e-02\n",
      "  4.4238448e-02]\n",
      " ...\n",
      " [0.0000000e+00 0.0000000e+00 0.0000000e+00 0.0000000e+00 1.1877370e-01\n",
      "  1.5424967e-01]\n",
      " [0.0000000e+00 0.0000000e+00 0.0000000e+00 1.6851425e-02 1.6851544e-02\n",
      "  3.0599356e-02]\n",
      " [1.1920929e-07 2.3841858e-07 2.0524204e-01 2.4202156e-01 2.4600720e-01\n",
      "  2.4600732e-01]]\n"
     ]
    }
   ],
   "source": [
    "import faiss\n",
    "# print(vec_lst_srcfile.shape[1])\n",
    "start = time.time()\n",
    "index = faiss.IndexFlatL2(vec_lst_srcfile.shape[1])\n",
    "index.ntotal\n",
    "faiss.normalize_L2(vec_lst_srcfile)\n",
    "index.add(vec_lst_srcfile)\n",
    "k = 6\n",
    "distance, index = index.search(vec_lst_srcfile, k)\n",
    "\n",
    "print('=== Ending, Total time (second): ', time.time() - start)\n",
    "print(len(distance))\n",
    "print(len(index))\n",
    "\n",
    "print(index)\n",
    "print(distance)"
   ]
  },
  {
   "cell_type": "code",
   "execution_count": 11,
   "metadata": {},
   "outputs": [
    {
     "name": "stdout",
     "output_type": "stream",
     "text": [
      "index: 233242 distance: 4.7683716e-07 tested: 9.880157e-13\n",
      "index: 7736 distance: 0.7964984 tested: 0.79649854\n",
      "index: 342496 distance: 0.04423845 tested: 0.04423824\n",
      "index: 689250 distance: 0.13553846 tested: 0.13553843\n",
      "index: 716971 distance: 0.3948524 tested: 0.39485264\n",
      "index: 439779 distance: 0.27048755 tested: 0.27048755\n",
      "index: 712179 distance: 0.30991995 tested: 0.30992\n",
      "index: 396271 distance: 0.3393216 tested: 0.33932066\n",
      "index: 146392 distance: 0.60712147 tested: 0.6071214\n",
      "index: 717325 distance: 0.4028021 tested: 0.4028022\n"
     ]
    }
   ],
   "source": [
    "j = k-1\n",
    "# TEST\n",
    "for i in range(10):\n",
    "    a = vec_lst_srcfile[i]\n",
    "    b = vec_lst_srcfile[index[i][j]]\n",
    "    dist_squared = np.sum(np.square(a - b))\n",
    "    print(\"index:\",index[i][j], \"distance:\",distance[i][j], \"tested:\",dist_squared)"
   ]
  },
  {
   "cell_type": "code",
   "execution_count": 12,
   "metadata": {
    "scrolled": true
   },
   "outputs": [
    {
     "name": "stdout",
     "output_type": "stream",
     "text": [
      "threshold = 0.9 EM sentences = 7435 / 803200 0.009256723107569722 %\n",
      "threshold = 0.8 EM sentences = 29080 / 803200 0.036205179282868524 %\n",
      "threshold = 0.7 EM sentences = 72197 / 803200 0.08988670318725099 %\n",
      "threshold = 0.6 EM sentences = 134867 / 803200 0.1679121015936255 %\n",
      "=== Ending, Total time (second):  25.040567874908447\n"
     ]
    }
   ],
   "source": [
    "start = time.time()\n",
    "saperate = \" || \"\n",
    "\n",
    "src_label = \"S\"\n",
    "emb_label = \"E\"\n",
    "thres_arr = [0.9, 0.8, 0.7, 0.6]\n",
    "for i in range(len(thres_arr)):\n",
    "    threshold = thres_arr[i]\n",
    "    out_file_write = open(\"en_train_EM_\"+str(thres_arr[i]), 'w')\n",
    "    out_file_write_score = open(\"en_train_EM_score_\"+str(thres_arr[i]), 'w')\n",
    "    out_file_write_factor = open(\"en_train_EM_factor_\"+str(thres_arr[i]), 'w')\n",
    "    num_gth_thres = 0\n",
    "\n",
    "    for i in range(len(lst_srcfile)):\n",
    "        score = distance[i][1]\n",
    "        content = \"\"\n",
    "        content_label_arr = []\n",
    "        if score >= threshold:\n",
    "            num_gth_thres += 1\n",
    "            best_simi_index = index[i][1]\n",
    "            content = lst_srcfile[i] + saperate + lst_tarfile[best_simi_index]\n",
    "\n",
    "            content_label = [src_label] * len(lst_srcfile[i].split())\n",
    "            content_label.append(emb_label)\n",
    "            content_label = content_label + [emb_label] * len(lst_tarfile[best_simi_index].split())\n",
    "\n",
    "            content_label_arr = \" \".join(content_label)\n",
    "        else:\n",
    "            content = lst_srcfile[i]\n",
    "            content_label = [src_label] * len(lst_srcfile[i].split())\n",
    "            content_label_arr = \" \".join(content_label)\n",
    "\n",
    "        out_file_write.writelines(content+ \"\\n\")    \n",
    "        out_file_write_factor.writelines(content_label_arr + \"\\n\")\n",
    "        out_file_write_score.writelines(str(score) + \"\\n\")\n",
    "\n",
    "    print('threshold =', threshold, \"EM sentences =\", num_gth_thres, \"/\", len(lst_srcfile), num_gth_thres/len(lst_srcfile), \"%\" )\n",
    "\n",
    "    out_file_write.close()\n",
    "    out_file_write_score.close()\n",
    "    out_file_write_factor.close()\n",
    "\n",
    "done = time.time()\n",
    "elapsed = done - start\n",
    "print('=== Ending, Total time (second): ', elapsed)"
   ]
  },
  {
   "cell_type": "code",
   "execution_count": null,
   "metadata": {},
   "outputs": [],
   "source": []
  },
  {
   "cell_type": "code",
   "execution_count": null,
   "metadata": {},
   "outputs": [],
   "source": []
  },
  {
   "cell_type": "code",
   "execution_count": null,
   "metadata": {},
   "outputs": [],
   "source": []
  },
  {
   "cell_type": "code",
   "execution_count": null,
   "metadata": {},
   "outputs": [],
   "source": []
  }
 ],
 "metadata": {
  "kernelspec": {
   "display_name": "Python 3",
   "language": "python",
   "name": "python3"
  },
  "language_info": {
   "codemirror_mode": {
    "name": "ipython",
    "version": 3
   },
   "file_extension": ".py",
   "mimetype": "text/x-python",
   "name": "python",
   "nbconvert_exporter": "python",
   "pygments_lexer": "ipython3",
   "version": "3.8.5"
  }
 },
 "nbformat": 4,
 "nbformat_minor": 4
}
