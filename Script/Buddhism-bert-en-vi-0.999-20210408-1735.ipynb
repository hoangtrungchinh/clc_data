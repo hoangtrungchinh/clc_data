{
 "cells": [
  {
   "cell_type": "markdown",
   "metadata": {},
   "source": [
    "INSTALL\n",
    "- FAISS - \n",
    "- Sent2Vec"
   ]
  },
  {
   "cell_type": "code",
   "execution_count": 1,
   "metadata": {},
   "outputs": [],
   "source": [
    "import numpy as np\n",
    "import faiss   "
   ]
  },
  {
   "cell_type": "code",
   "execution_count": 2,
   "metadata": {},
   "outputs": [
    {
     "name": "stdout",
     "output_type": "stream",
     "text": [
      "/home/chinh/clc_data/Script/Buddhism-bert-en-vi-0.999-20210408-1735\r\n"
     ]
    }
   ],
   "source": [
    "import os\n",
    "import time\n",
    "name = \"Buddhism-bert-en-vi-0.999-\"+ str(time.strftime(\"%Y%m%d-%H%M\"))\n",
    "\n",
    "!mkdir $name\n",
    "path = os.getcwd() + \"/\" + name\n",
    "os.chdir(path)\n",
    "\n",
    "!pwd\n",
    "\n",
    "\n",
    "os.chdir(path)\n",
    "\n",
    "\n",
    "# import os\n",
    "# os.chdir(\"/home/lw/clc_fairseq/TED-20210121-1335\")"
   ]
  },
  {
   "cell_type": "code",
   "execution_count": 3,
   "metadata": {},
   "outputs": [
    {
     "name": "stdout",
     "output_type": "stream",
     "text": [
      "--2021-04-08 17:35:14--  https://github.com/hoangtrungchinh/clc_data/raw/master/buddhism.tar.gz\n",
      "Resolving github.com (github.com)... 192.30.255.113\n",
      "Connecting to github.com (github.com)|192.30.255.113|:443... connected.\n",
      "HTTP request sent, awaiting response... 302 Found\n",
      "Location: https://raw.githubusercontent.com/hoangtrungchinh/clc_data/master/buddhism.tar.gz [following]\n",
      "--2021-04-08 17:35:15--  https://raw.githubusercontent.com/hoangtrungchinh/clc_data/master/buddhism.tar.gz\n",
      "Resolving raw.githubusercontent.com (raw.githubusercontent.com)... 185.199.109.133, 185.199.108.133, 185.199.110.133, ...\n",
      "Connecting to raw.githubusercontent.com (raw.githubusercontent.com)|185.199.109.133|:443... connected.\n",
      "HTTP request sent, awaiting response... 200 OK\n",
      "Length: 910043 (889K) [application/octet-stream]\n",
      "Saving to: ‘buddhism.tar.gz’\n",
      "\n",
      "buddhism.tar.gz     100%[===================>] 888,71K  4,71MB/s    in 0,2s    \n",
      "\n",
      "2021-04-08 17:35:16 (4,71 MB/s) - ‘buddhism.tar.gz’ saved [910043/910043]\n",
      "\n",
      "Buddhism.vi\n",
      "Buddhism.en\n"
     ]
    }
   ],
   "source": [
    "!wget https://github.com/hoangtrungchinh/clc_data/raw/master/buddhism.tar.gz\n",
    "!mkdir data_bin\n",
    "!tar -xvf  'buddhism.tar.gz' -C 'data_bin'"
   ]
  },
  {
   "cell_type": "code",
   "execution_count": 4,
   "metadata": {},
   "outputs": [
    {
     "name": "stdout",
     "output_type": "stream",
     "text": [
      "['data_bin/Buddhism.en']\n",
      "['data_bin/Buddhism.vi']\n",
      "12880\n",
      "12880\n"
     ]
    }
   ],
   "source": [
    "# import file\n",
    "import numpy as np\n",
    "import glob\n",
    "\n",
    "en_files = sorted(glob.glob(\"data_bin/*.en\"))\n",
    "vi_files = sorted(glob.glob(\"data_bin/*.vi\"))\n",
    "print(en_files)\n",
    "print(vi_files)\n",
    "\n",
    "lst_en = []\n",
    "lst_vi = []\n",
    "\n",
    "start = time.time()\n",
    "\n",
    "for file in en_files:\n",
    "  with open(file) as file_in:\n",
    "    for line in file_in:\n",
    "      lst_en.append(line)\n",
    "\n",
    "for file in vi_files:\n",
    "  with open(file) as file_in:\n",
    "    for line in file_in:\n",
    "      lst_vi.append(line)\n",
    "\n",
    "print(len(lst_en))\n",
    "print(len(lst_vi))"
   ]
  },
  {
   "cell_type": "code",
   "execution_count": 5,
   "metadata": {
    "scrolled": true
   },
   "outputs": [
    {
     "name": "stdout",
     "output_type": "stream",
     "text": [
      "10304\n",
      "10304\n",
      "1288\n",
      "1288\n",
      "1288\n",
      "1288\n",
      "Every day after lunch, I helped the two temple boys clean the kitchen, then I left for a two-mile walk to a temple in the next village, where the head monk would drill me in Pali lessons.\n",
      "\n",
      "Mỗi ngày sau bữa ăn, tôi phụ hai cậu bé ở chùa dọn dẹp nhà bếp, rồi tôi phải đi bộ gần ba cây số để đến một ngôi chùa ở làng kế bên, nơi vị trụ trì ở đó sẽ dạy tiếng Pali cho tôi.\n",
      "\n",
      "If we are earnest, we should understand this problem of experience.\n",
      "\n",
      "Nếu chúng ta nghiêm túc, chúng ta nên hiểu rõ vấn đề của trải nghiệm này.\n",
      "\n",
      "You may be very generous in giving a large donation to your society, to your friends, but awfully mean about giving a bigger tip—you know what I mean by ‘mean’.\n",
      "\n",
      "Bạn có lẽ rất quảng đại khi trao một hiến dâng to tát cho xã hội của bạn, cho bạn bè của bạn, nhưng rất keo kiệt khi cho một món quà lớn hơn – bạn biết tôi có ý gì qua từ ngữ ‘keo kiệt’.\n",
      "\n"
     ]
    }
   ],
   "source": [
    "# SPLIT TRAIN, TEST, VALID\n",
    "from sklearn.model_selection import train_test_split\n",
    "en_train, en_test_valid, vi_train, vi_test_valid =  train_test_split(lst_en, lst_vi, test_size=0.2, random_state=123)\n",
    "en_valid, en_test, vi_valid, vi_test = train_test_split(en_test_valid, vi_test_valid, test_size=0.5, random_state=123)\n",
    "print(len(en_train))\n",
    "print(len(vi_train))\n",
    "print(len(en_valid))\n",
    "print(len(vi_valid))\n",
    "print(len(en_test))\n",
    "print(len(vi_test))\n",
    "print(en_train[20])\n",
    "print(vi_train[20])\n",
    "print(en_valid[-1])\n",
    "print(vi_valid[-1])\n",
    "print(en_test[-1])\n",
    "print(vi_test[-1])"
   ]
  },
  {
   "cell_type": "code",
   "execution_count": 6,
   "metadata": {
    "scrolled": true
   },
   "outputs": [
    {
     "name": "stdout",
     "output_type": "stream",
     "text": [
      "total 3972\r\n",
      "drwxrwxr-x  3 chinh chinh    4096 Thg 4   8 17:35 .\r\n",
      "drwxrwxr-x 15 chinh chinh    4096 Thg 4   8 17:35 ..\r\n",
      "-rw-rw-r--  1 chinh chinh  910043 Thg 4   8 17:35 buddhism.tar.gz\r\n",
      "drwxrwxr-x  2 chinh chinh    4096 Thg 4   8 17:35 data_bin\r\n",
      "-rw-rw-r--  1 chinh chinh  127163 Thg 4   8 17:35 en_test\r\n",
      "-rw-rw-r--  1 chinh chinh 1023485 Thg 4   8 17:35 en_train\r\n",
      "-rw-rw-r--  1 chinh chinh  125859 Thg 4   8 17:35 en_valid\r\n",
      "-rw-rw-r--  1 chinh chinh  182237 Thg 4   8 17:35 vi_test\r\n",
      "-rw-rw-r--  1 chinh chinh 1486401 Thg 4   8 17:35 vi_train\r\n",
      "-rw-rw-r--  1 chinh chinh  184873 Thg 4   8 17:35 vi_valid\r\n"
     ]
    }
   ],
   "source": [
    "file_variable = [en_train,vi_train,en_valid,vi_valid,en_test,vi_test]\n",
    "file_names = [\"en_train\",\"vi_train\",\"en_valid\",\"vi_valid\",\"en_test\",\"vi_test\"]\n",
    "\n",
    "for i in range(len(file_names)):\n",
    "  with open(file_names[i], 'w') as f:\n",
    "    for item in file_variable[i]:\n",
    "      f.write(item)\n",
    "!ls -al"
   ]
  },
  {
   "cell_type": "code",
   "execution_count": 7,
   "metadata": {},
   "outputs": [],
   "source": [
    "from sentence_transformers import SentenceTransformer, util\n",
    "model = SentenceTransformer('stsb-bert-large')\n",
    "# # model = SentenceTransformer('LaBSE')\n",
    "# #Sentences are encoded by calling model.encode()\n",
    "# emb1 = model.encode(\"This is a red cat with a hat.\")\n",
    "# emb2 = model.encode(\"Have you seen my red cat?\")\n",
    "\n",
    "# cos_sim = util.pytorch_cos_sim(emb1, emb2)\n",
    "# print(\"Cosine-Similarity:\", cos_sim)"
   ]
  },
  {
   "cell_type": "code",
   "execution_count": 8,
   "metadata": {},
   "outputs": [],
   "source": [
    "# print(cos_sim.numpy()[0][0])"
   ]
  },
  {
   "cell_type": "code",
   "execution_count": 9,
   "metadata": {},
   "outputs": [
    {
     "name": "stdout",
     "output_type": "stream",
     "text": [
      "=== Ending, Total time (second):  96.60413241386414\n"
     ]
    }
   ],
   "source": [
    "start = time.time()\n",
    "srcfile = \"en_train\"\n",
    "tarfile = \"vi_train\"\n",
    "# lst_srcfile = open(srcfile, \"r\").readlines()\n",
    "# lst_tarfile = open(tarfile, \"r\").readlines()\n",
    "lst_srcfile = en_train\n",
    "lst_tarfile = vi_train\n",
    "\n",
    "vec_lst_srcfile = model.encode(lst_srcfile)\n",
    "print('=== Ending, Total time (second): ', time.time() - start)"
   ]
  },
  {
   "cell_type": "markdown",
   "metadata": {},
   "source": [
    "Test Cosin similarity"
   ]
  },
  {
   "cell_type": "code",
   "execution_count": 10,
   "metadata": {
    "scrolled": true
   },
   "outputs": [
    {
     "name": "stdout",
     "output_type": "stream",
     "text": [
      "=== Ending, Total time (second):  0.4561176300048828\n",
      "10304\n",
      "10304\n",
      "[[    0  4920  4236  9814  1904   499]\n",
      " [    1    97  6311  7595  5109   457]\n",
      " [    2  2310  6262  2419  8504  5315]\n",
      " ...\n",
      " [10301  8713  1677  9679   550  9463]\n",
      " [10302  4614   782 10070  3096  7680]\n",
      " [10303  9930  8386  5544  9039  8971]]\n",
      "[[0.0000000e+00 6.6155112e-01 6.6387594e-01 6.8464661e-01 7.0950115e-01\n",
      "  7.0991087e-01]\n",
      " [0.0000000e+00 7.2325695e-01 8.4077001e-01 8.5588276e-01 8.8852787e-01\n",
      "  8.9587438e-01]\n",
      " [1.1920929e-07 6.1776876e-01 6.3838422e-01 6.4054251e-01 6.4247692e-01\n",
      "  7.0253527e-01]\n",
      " ...\n",
      " [3.5762787e-07 4.7707260e-01 6.1734474e-01 6.3555276e-01 6.5062296e-01\n",
      "  6.8078601e-01]\n",
      " [0.0000000e+00 5.0135469e-01 5.5491328e-01 5.5865014e-01 6.1068690e-01\n",
      "  6.4976466e-01]\n",
      " [0.0000000e+00 5.8159804e-01 6.0192490e-01 6.1349797e-01 6.5869880e-01\n",
      "  6.9025135e-01]]\n"
     ]
    }
   ],
   "source": [
    "import faiss\n",
    "# print(vec_lst_srcfile.shape[1])\n",
    "start = time.time()\n",
    "index = faiss.IndexFlatL2(vec_lst_srcfile.shape[1])\n",
    "index.ntotal\n",
    "faiss.normalize_L2(vec_lst_srcfile)\n",
    "index.add(vec_lst_srcfile)\n",
    "k = 6\n",
    "distance, index = index.search(vec_lst_srcfile, k)\n",
    "\n",
    "print('=== Ending, Total time (second): ', time.time() - start)\n",
    "print(len(distance))\n",
    "print(len(index))\n",
    "\n",
    "print(index)\n",
    "print(distance)"
   ]
  },
  {
   "cell_type": "code",
   "execution_count": 11,
   "metadata": {},
   "outputs": [
    {
     "name": "stdout",
     "output_type": "stream",
     "text": [
      "9740\n",
      "==================================\n",
      "0.7185621\n",
      "0.718562\n"
     ]
    }
   ],
   "source": [
    "i = 6\n",
    "j = k-1\n",
    "print(index[i][j])\n",
    "print(\"==================================\")\n",
    "print(distance[i][j])\n",
    "a = vec_lst_srcfile[i]\n",
    "# print(a)\n",
    "b = vec_lst_srcfile[index[i][j]]\n",
    "# TEST\n",
    "dist_squared = np.sum(np.square(a - b))\n",
    "print(dist_squared)"
   ]
  },
  {
   "cell_type": "code",
   "execution_count": 12,
   "metadata": {},
   "outputs": [
    {
     "name": "stdout",
     "output_type": "stream",
     "text": [
      "threshold = 0.8 EM sentences = 1576 / 10304 0.1529503105590062 %\n",
      "threshold = 0.85 EM sentences = 1027 / 10304 0.09967003105590062 %\n",
      "threshold = 0.9 EM sentences = 616 / 10304 0.059782608695652176 %\n",
      "threshold = 0.95 EM sentences = 358 / 10304 0.034743788819875776 %\n",
      "threshold = 0.99 EM sentences = 224 / 10304 0.021739130434782608 %\n",
      "=== Ending, Total time (second):  0.6767988204956055\n"
     ]
    }
   ],
   "source": [
    "start = time.time()\n",
    "saperate = \" || \"\n",
    "\n",
    "src_label = \"S\"\n",
    "emb_label = \"E\"\n",
    "thres_arr = [0.8, 0.85, 0.9, 0.95, 0.99]\n",
    "for i in range(len(thres_arr)):\n",
    "    threshold = thres_arr[i]\n",
    "    out_file_write = open(\"en_train_EM_\"+str(thres_arr[i]), 'w')\n",
    "    out_file_write_score = open(\"en_train_EM_score_\"+str(thres_arr[i]), 'w')\n",
    "    out_file_write_factor = open(\"en_train_EM_factor_\"+str(thres_arr[i]), 'w')\n",
    "    num_gth_thres = 0\n",
    "\n",
    "    for i in range(len(lst_srcfile)):\n",
    "        score = distance[i][1]\n",
    "        content = \"\"\n",
    "        content_label_arr = []\n",
    "        if score >= threshold:\n",
    "            num_gth_thres += 1\n",
    "            best_simi_index = index[i][1]\n",
    "            content = lst_srcfile[i].strip() + saperate + lst_tarfile[best_simi_index].strip()\n",
    "\n",
    "            content_label = [src_label] * len(lst_srcfile[i].split())\n",
    "            content_label.append(emb_label)\n",
    "            content_label = content_label + [emb_label] * len(lst_tarfile[best_simi_index].split())\n",
    "\n",
    "            content_label_arr = \" \".join(content_label)\n",
    "        else:\n",
    "            content = lst_srcfile[i].strip()\n",
    "            content_label = [src_label] * len(lst_srcfile[i].split())\n",
    "            content_label_arr = \" \".join(content_label)\n",
    " \n",
    "        out_file_write.writelines(content+ \"\\n\")    \n",
    "        out_file_write_factor.writelines(content_label_arr + \"\\n\")\n",
    "        out_file_write_score.writelines(str(score) + \"\\n\")\n",
    "\n",
    "    print('threshold =', threshold, \"EM sentences =\", num_gth_thres, \"/\", len(lst_srcfile), num_gth_thres/len(lst_srcfile), \"%\" )\n",
    "\n",
    "    out_file_write.close()\n",
    "    out_file_write_score.close()\n",
    "    out_file_write_factor.close()\n",
    "\n",
    "done = time.time()\n",
    "elapsed = done - start\n",
    "print('=== Ending, Total time (second): ', elapsed)"
   ]
  },
  {
   "cell_type": "code",
   "execution_count": null,
   "metadata": {},
   "outputs": [],
   "source": []
  },
  {
   "cell_type": "code",
   "execution_count": null,
   "metadata": {},
   "outputs": [],
   "source": []
  }
 ],
 "metadata": {
  "kernelspec": {
   "display_name": "Python 3",
   "language": "python",
   "name": "python3"
  },
  "language_info": {
   "codemirror_mode": {
    "name": "ipython",
    "version": 3
   },
   "file_extension": ".py",
   "mimetype": "text/x-python",
   "name": "python",
   "nbconvert_exporter": "python",
   "pygments_lexer": "ipython3",
   "version": "3.8.5"
  }
 },
 "nbformat": 4,
 "nbformat_minor": 4
}
