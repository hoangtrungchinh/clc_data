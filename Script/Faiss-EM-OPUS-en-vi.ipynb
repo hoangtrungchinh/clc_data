{
 "cells": [
  {
   "cell_type": "markdown",
   "metadata": {},
   "source": [
    "INSTALL\n",
    "- FAISS - \n",
    "- Sent2Vec"
   ]
  },
  {
   "cell_type": "code",
   "execution_count": 1,
   "metadata": {},
   "outputs": [],
   "source": [
    "import numpy as np\n",
    "import faiss   "
   ]
  },
  {
   "cell_type": "code",
   "execution_count": 2,
   "metadata": {},
   "outputs": [
    {
     "name": "stdout",
     "output_type": "stream",
     "text": [
      "/home/chinh/clc_data/Script/Faiss-EM-OPUS-en-vi20210304-1124\r\n"
     ]
    }
   ],
   "source": [
    "import os\n",
    "import time\n",
    "name = \"Faiss-EM-OPUS-en-vi\"+ str(time.strftime(\"%Y%m%d-%H%M\"))\n",
    "\n",
    "!mkdir $name\n",
    "path = os.getcwd() + \"/\" + name\n",
    "os.chdir(path)\n",
    "\n",
    "!pwd\n",
    "os.chdir(path)"
   ]
  },
  {
   "cell_type": "code",
   "execution_count": 3,
   "metadata": {},
   "outputs": [
    {
     "name": "stdout",
     "output_type": "stream",
     "text": [
      "--2021-03-04 11:24:16--  https://github.com/hoangtrungchinh/clc_data/raw/master/opus-100-corpus.zip\n",
      "Resolving github.com (github.com)... 52.74.223.119\n",
      "Connecting to github.com (github.com)|52.74.223.119|:443... connected.\n",
      "HTTP request sent, awaiting response... 302 Found\n",
      "Location: https://raw.githubusercontent.com/hoangtrungchinh/clc_data/master/opus-100-corpus.zip [following]\n",
      "--2021-03-04 11:24:17--  https://raw.githubusercontent.com/hoangtrungchinh/clc_data/master/opus-100-corpus.zip\n",
      "Resolving raw.githubusercontent.com (raw.githubusercontent.com)... 185.199.110.133, 185.199.109.133, 185.199.111.133, ...\n",
      "Connecting to raw.githubusercontent.com (raw.githubusercontent.com)|185.199.110.133|:443... connected.\n",
      "HTTP request sent, awaiting response... 200 OK\n",
      "Length: 30690851 (29M) [application/zip]\n",
      "Saving to: ‘opus-100-corpus.zip’\n",
      "\n",
      "opus-100-corpus.zip 100%[===================>]  29,27M  8,41MB/s    in 3,7s    \n",
      "\n",
      "2021-03-04 11:24:23 (7,96 MB/s) - ‘opus-100-corpus.zip’ saved [30690851/30690851]\n",
      "\n",
      "Archive:  opus-100-corpus.zip\n",
      "  inflating: data_bin/opus.en-vi-dev.en  \n",
      "  inflating: data_bin/opus.en-vi-dev.vi  \n",
      "  inflating: data_bin/opus.en-vi-test.en  \n",
      "  inflating: data_bin/opus.en-vi-test.vi  \n",
      "  inflating: data_bin/opus.en-vi-train.en  \n",
      "  inflating: data_bin/opus.en-vi-train.vi  \n",
      "total 75188\n",
      "drwxrwxr-x 2 chinh chinh     4096 Thg 3   4 11:24 .\n",
      "drwxrwxr-x 3 chinh chinh     4096 Thg 3   4 11:24 ..\n",
      "-rw-rw-r-- 1 chinh chinh    80388 Thg 12 31 13:51 opus.en-vi-dev.en\n",
      "-rw-rw-r-- 1 chinh chinh   102331 Thg 12 31 13:51 opus.en-vi-dev.vi\n",
      "-rw-rw-r-- 1 chinh chinh    80282 Thg 12 31 13:51 opus.en-vi-test.en\n",
      "-rw-rw-r-- 1 chinh chinh   100460 Thg 12 31 13:51 opus.en-vi-test.vi\n",
      "-rw-rw-r-- 1 chinh chinh 33049608 Thg 12 31 13:51 opus.en-vi-train.en\n",
      "-rw-rw-r-- 1 chinh chinh 43564860 Thg 12 31 13:51 opus.en-vi-train.vi\n"
     ]
    }
   ],
   "source": [
    "!wget https://github.com/hoangtrungchinh/clc_data/raw/master/opus-100-corpus.zip\n",
    "!mkdir data_bin\n",
    "!unzip 'opus-100-corpus.zip' -d 'data_bin'"
   ]
  },
  {
   "cell_type": "code",
   "execution_count": 4,
   "metadata": {},
   "outputs": [
    {
     "name": "stdout",
     "output_type": "stream",
     "text": [
      "['data_bin/opus.en-vi-dev.en', 'data_bin/opus.en-vi-test.en', 'data_bin/opus.en-vi-train.en']\n",
      "['data_bin/opus.en-vi-dev.vi', 'data_bin/opus.en-vi-test.vi', 'data_bin/opus.en-vi-train.vi']\n",
      "1004000\n",
      "1004000\n"
     ]
    }
   ],
   "source": [
    "# import file\n",
    "import numpy as np\n",
    "import glob\n",
    "\n",
    "en_files = sorted(glob.glob(\"data_bin/*.en\"))\n",
    "vi_files = sorted(glob.glob(\"data_bin/*.vi\"))\n",
    "print(en_files)\n",
    "print(vi_files)\n",
    "\n",
    "lst_en = []\n",
    "lst_vi = []\n",
    "\n",
    "start = time.time()\n",
    "\n",
    "for file in en_files:\n",
    "  with open(file) as file_in:\n",
    "    for line in file_in:\n",
    "      lst_en.append(line.strip())\n",
    "\n",
    "for file in vi_files:\n",
    "  with open(file) as file_in:\n",
    "    for line in file_in:\n",
    "      lst_vi.append(line.strip())\n",
    "\n",
    "print(len(lst_en))\n",
    "print(len(lst_vi))"
   ]
  },
  {
   "cell_type": "code",
   "execution_count": 5,
   "metadata": {
    "scrolled": true
   },
   "outputs": [
    {
     "name": "stdout",
     "output_type": "stream",
     "text": [
      "803200\n",
      "803200\n",
      "100400\n",
      "100400\n",
      "100400\n",
      "100400\n",
      "Childs?\n",
      "Childs?\n",
      "It's powered up now, isn't it?\n",
      "Bây giờ nó bật rồi phải không nhỉ?\n",
      "Why the hell are you going to Cuddy's baby naming?\n",
      "Bị làm sao mà anh lại đi dự lễ đặt tên em bé của Cuddy chứ?\n"
     ]
    }
   ],
   "source": [
    "# SPLIT TRAIN, TEST, VALID\n",
    "from sklearn.model_selection import train_test_split\n",
    "en_train, en_test_valid, vi_train, vi_test_valid =  train_test_split(lst_en, lst_vi, test_size=0.2, random_state=123)\n",
    "en_valid, en_test, vi_valid, vi_test = train_test_split(en_test_valid, vi_test_valid, test_size=0.5, random_state=123)\n",
    "print(len(en_train))\n",
    "print(len(vi_train))\n",
    "print(len(en_valid))\n",
    "print(len(vi_valid))\n",
    "print(len(en_test))\n",
    "print(len(vi_test))\n",
    "print(en_train[20])\n",
    "print(vi_train[20])\n",
    "print(en_valid[-1])\n",
    "print(vi_valid[-1])\n",
    "print(en_test[-1])\n",
    "print(vi_test[-1])"
   ]
  },
  {
   "cell_type": "code",
   "execution_count": 6,
   "metadata": {},
   "outputs": [
    {
     "name": "stdout",
     "output_type": "stream",
     "text": [
      "total 105172\r\n",
      "drwxrwxr-x 3 chinh chinh     4096 Thg 3   4 11:24 .\r\n",
      "drwxrwxr-x 5 chinh chinh     4096 Thg 3   4 11:24 ..\r\n",
      "drwxrwxr-x 2 chinh chinh     4096 Thg 3   4 11:24 data_bin\r\n",
      "-rw-rw-r-- 1 chinh chinh  3318349 Thg 3   4 11:24 en_test\r\n",
      "-rw-rw-r-- 1 chinh chinh 26563375 Thg 3   4 11:24 en_train\r\n",
      "-rw-rw-r-- 1 chinh chinh  3328557 Thg 3   4 11:24 en_valid\r\n",
      "-rw-rw-r-- 1 chinh chinh 30690851 Thg 3   4 11:24 opus-100-corpus.zip\r\n",
      "-rw-rw-r-- 1 chinh chinh  4365722 Thg 3   4 11:24 vi_test\r\n",
      "-rw-rw-r-- 1 chinh chinh 35019161 Thg 3   4 11:24 vi_train\r\n",
      "-rw-rw-r-- 1 chinh chinh  4382771 Thg 3   4 11:24 vi_valid\r\n"
     ]
    }
   ],
   "source": [
    "file_variable = [en_train,vi_train,en_valid,vi_valid,en_test,vi_test]\n",
    "file_names = [\"en_train\",\"vi_train\",\"en_valid\",\"vi_valid\",\"en_test\",\"vi_test\"]\n",
    "\n",
    "for i in range(len(file_names)):\n",
    "  with open(file_names[i], 'w') as f:\n",
    "    for item in file_variable[i]:\n",
    "      f.write(item)\n",
    "      f.write(\"\\n\")\n",
    "    \n",
    "!ls -al"
   ]
  },
  {
   "cell_type": "code",
   "execution_count": 7,
   "metadata": {},
   "outputs": [
    {
     "name": "stdout",
     "output_type": "stream",
     "text": [
      "=== Ending, Total time (second):  2.2136025428771973\n"
     ]
    }
   ],
   "source": [
    "start = time.time()\n",
    "import sent2vec\n",
    "model = sent2vec.Sent2vecModel()\n",
    "model.load_model('../../../wiki_unigrams.bin')\n",
    "\n",
    "print('=== Ending, Total time (second): ', time.time() - start)"
   ]
  },
  {
   "cell_type": "code",
   "execution_count": 8,
   "metadata": {},
   "outputs": [],
   "source": [
    "start = time.time()\n",
    "srcfile = \"en_train\"\n",
    "tarfile = \"vi_train\"\n",
    "lst_srcfile = en_train\n",
    "lst_tarfile = vi_train\n",
    "\n",
    "vec_lst_srcfile = model.embed_sentences(lst_srcfile)\n",
    "print('=== Ending, Total time (second): ', time.time() - start)"
   ]
  },
  {
   "cell_type": "markdown",
   "metadata": {},
   "source": [
    "Test Cosin similarity"
   ]
  },
  {
   "cell_type": "code",
   "execution_count": 9,
   "metadata": {
    "scrolled": true
   },
   "outputs": [
    {
     "name": "stdout",
     "output_type": "stream",
     "text": [
      "=== Ending, Total time (second):  2348.1285033226013\n",
      "803200\n",
      "803200\n",
      "[[ 27848  76309  82411 133450   1599      0]\n",
      " [     1  99162 354835 267111  59188  44528]\n",
      " [135971 150398 239119 270481  63366  62419]\n",
      " ...\n",
      " [562684  66033  68748  53991  76993  45541]\n",
      " [ 43211 180813 296147 300498 292964 145745]\n",
      " [153425 151219 803199 244144 112858 597122]]\n",
      "[[7.1525574e-07 7.1525574e-07 7.1525574e-07 7.1525574e-07 7.1525574e-07\n",
      "  7.1525574e-07]\n",
      " [1.1920929e-07 3.1163800e-01 3.7609673e-01 3.9664578e-01 4.7298753e-01\n",
      "  5.5491567e-01]\n",
      " [0.0000000e+00 0.0000000e+00 0.0000000e+00 0.0000000e+00 0.0000000e+00\n",
      "  0.0000000e+00]\n",
      " ...\n",
      " [1.1920929e-07 2.3841858e-07 2.3841858e-07 2.3841858e-07 2.3841858e-07\n",
      "  2.3841858e-07]\n",
      " [4.7683716e-07 4.7683716e-07 4.7683716e-07 4.7683716e-07 4.7683716e-07\n",
      "  4.7683716e-07]\n",
      " [2.3841858e-07 2.3841858e-07 2.3841858e-07 2.3841858e-07 2.3841858e-07\n",
      "  8.9151144e-02]]\n"
     ]
    }
   ],
   "source": [
    "import faiss\n",
    "\n",
    "start = time.time()\n",
    "index = faiss.IndexFlatL2(vec_lst_srcfile.shape[1])\n",
    "index.ntotal\n",
    "faiss.normalize_L2(vec_lst_srcfile)\n",
    "index.add(vec_lst_srcfile)\n",
    "k = 6\n",
    "distance, index = index.search(vec_lst_srcfile, k)\n",
    "\n",
    "print('=== Ending, Total time (second): ', time.time() - start)\n",
    "print(len(distance))\n",
    "print(len(index))\n",
    "\n",
    "print(index)\n",
    "print(distance)"
   ]
  },
  {
   "cell_type": "code",
   "execution_count": 25,
   "metadata": {
    "scrolled": true
   },
   "outputs": [
    {
     "name": "stdout",
     "output_type": "stream",
     "text": [
      "index: 0 distance: 7.1525574e-07 tested: 0.0\n",
      "index: 44528 distance: 0.55491567 tested: 0.5549159\n",
      "index: 62419 distance: 0.0 tested: 2.2448846e-15\n",
      "index: 20 distance: 0.0 tested: 0.0\n",
      "index: 326281 distance: 1.1920929e-07 tested: 0.0\n",
      "index: 726707 distance: 0.06721616 tested: 0.067215934\n",
      "index: 10938 distance: 0.0 tested: 0.0\n",
      "index: 171072 distance: 0.3191253 tested: 0.31912494\n",
      "index: 749825 distance: 0.22028756 tested: 0.22028747\n",
      "index: 582649 distance: 0.07324958 tested: 0.0732492\n"
     ]
    }
   ],
   "source": [
    "j = k-1\n",
    "# TEST\n",
    "for i in range(10):\n",
    "    a = vec_lst_srcfile[i]\n",
    "    b = vec_lst_srcfile[index[i][j]]\n",
    "    dist_squared = np.sum(np.square(a - b))\n",
    "    print(\"index:\",index[i][j], \"distance:\",distance[i][j], \"tested:\",dist_squared)"
   ]
  },
  {
   "cell_type": "code",
   "execution_count": 12,
   "metadata": {},
   "outputs": [
    {
     "name": "stdout",
     "output_type": "stream",
     "text": [
      "threshold = 0.9 EM sentences = 19697 / 803200 0.02452315737051793 %\n",
      "threshold = 0.8 EM sentences = 43414 / 803200 0.05405129482071713 %\n",
      "threshold = 0.7 EM sentences = 77682 / 803200 0.0967156374501992 %\n",
      "threshold = 0.6 EM sentences = 119353 / 803200 0.14859686254980078 %\n",
      "=== Ending, Total time (second):  21.564908027648926\n"
     ]
    }
   ],
   "source": [
    "start = time.time()\n",
    "saperate = \" || \"\n",
    "\n",
    "src_label = \"S\"\n",
    "emb_label = \"E\"\n",
    "thres_arr = [0.9, 0.8, 0.7, 0.6]\n",
    "for i in range(len(thres_arr)):\n",
    "    threshold = thres_arr[i]\n",
    "    out_file_write = open(\"en_train_EM_\"+str(thres_arr[i]), 'w')\n",
    "    out_file_write_score = open(\"en_train_EM_score_\"+str(thres_arr[i]), 'w')\n",
    "    out_file_write_factor = open(\"en_train_EM_factor_\"+str(thres_arr[i]), 'w')\n",
    "    num_gth_thres = 0\n",
    "\n",
    "    for i in range(len(lst_srcfile)):\n",
    "        score = distance[i][1]\n",
    "        content = \"\"\n",
    "        content_label_arr = []\n",
    "        if score >= threshold:\n",
    "            num_gth_thres += 1\n",
    "            best_simi_index = index[i][1]\n",
    "            content = lst_srcfile[i] + saperate + lst_tarfile[best_simi_index]\n",
    "\n",
    "            content_label = [src_label] * len(lst_srcfile[i].split())\n",
    "            content_label.append(emb_label)\n",
    "            content_label = content_label + [emb_label] * len(lst_tarfile[best_simi_index].split())\n",
    "\n",
    "            content_label_arr = \" \".join(content_label)\n",
    "        else:\n",
    "            content = lst_srcfile[i]\n",
    "            content_label = [src_label] * len(lst_srcfile[i].split())\n",
    "            content_label_arr = \" \".join(content_label)\n",
    "\n",
    "        out_file_write.writelines(content+ \"\\n\")    \n",
    "        out_file_write_factor.writelines(content_label_arr + \"\\n\")\n",
    "        out_file_write_score.writelines(str(score) + \"\\n\")\n",
    "\n",
    "    print('threshold =', threshold, \"EM sentences =\", num_gth_thres, \"/\", len(lst_srcfile), num_gth_thres/len(lst_srcfile), \"%\" )\n",
    "\n",
    "    out_file_write.close()\n",
    "    out_file_write_score.close()\n",
    "    out_file_write_factor.close()\n",
    "\n",
    "done = time.time()\n",
    "elapsed = done - start\n",
    "print('=== Ending, Total time (second): ', elapsed)\n",
    "    \n"
   ]
  }
 ],
 "metadata": {
  "kernelspec": {
   "display_name": "Python 3",
   "language": "python",
   "name": "python3"
  },
  "language_info": {
   "codemirror_mode": {
    "name": "ipython",
    "version": 3
   },
   "file_extension": ".py",
   "mimetype": "text/x-python",
   "name": "python",
   "nbconvert_exporter": "python",
   "pygments_lexer": "ipython3",
   "version": "3.8.5"
  }
 },
 "nbformat": 4,
 "nbformat_minor": 4
}
