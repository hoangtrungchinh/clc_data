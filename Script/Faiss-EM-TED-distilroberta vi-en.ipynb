{
 "cells": [
  {
   "cell_type": "markdown",
   "metadata": {},
   "source": [
    "INSTALL\n",
    "- FAISS - \n",
    "- Sent2Vec"
   ]
  },
  {
   "cell_type": "code",
   "execution_count": 1,
   "metadata": {},
   "outputs": [],
   "source": [
    "import numpy as np\n",
    "import faiss   "
   ]
  },
  {
   "cell_type": "code",
   "execution_count": 2,
   "metadata": {},
   "outputs": [
    {
     "name": "stdout",
     "output_type": "stream",
     "text": [
      "/home/chinh/clc_data/Script/Faiss-EM-TED-Bert-vi-en20210227-1156\r\n"
     ]
    }
   ],
   "source": [
    "import os\n",
    "import time\n",
    "name = \"Faiss-EM-TED-distilroberta-vi-en\"+ str(time.strftime(\"%Y%m%d-%H%M\"))\n",
    "\n",
    "!mkdir $name\n",
    "path = os.getcwd() + \"/\" + name\n",
    "os.chdir(path)\n",
    "\n",
    "!pwd\n",
    "\n",
    "\n",
    "os.chdir(path)\n",
    "\n",
    "\n",
    "# import os\n",
    "# os.chdir(\"/home/lw/clc_fairseq/TED-20210121-1335\")"
   ]
  },
  {
   "cell_type": "code",
   "execution_count": 3,
   "metadata": {},
   "outputs": [
    {
     "name": "stdout",
     "output_type": "stream",
     "text": [
      "--2021-02-27 11:56:18--  https://github.com/hoangtrungchinh/clc_data/raw/master/en_vi_iwslt.tar.gz\n",
      "Resolving github.com (github.com)... 52.74.223.119\n",
      "Connecting to github.com (github.com)|52.74.223.119|:443... connected.\n",
      "HTTP request sent, awaiting response... 302 Found\n",
      "Location: https://raw.githubusercontent.com/hoangtrungchinh/clc_data/master/en_vi_iwslt.tar.gz [following]\n",
      "--2021-02-27 11:56:19--  https://raw.githubusercontent.com/hoangtrungchinh/clc_data/master/en_vi_iwslt.tar.gz\n",
      "Resolving raw.githubusercontent.com (raw.githubusercontent.com)... 185.199.109.133, 185.199.108.133, 185.199.111.133, ...\n",
      "Connecting to raw.githubusercontent.com (raw.githubusercontent.com)|185.199.109.133|:443... connected.\n",
      "HTTP request sent, awaiting response... 200 OK\n",
      "Length: 9044100 (8,6M) [application/octet-stream]\n",
      "Saving to: ‘en_vi_iwslt.tar.gz’\n",
      "\n",
      "en_vi_iwslt.tar.gz  100%[===================>]   8,62M  7,11MB/s    in 1,2s    \n",
      "\n",
      "2021-02-27 11:56:21 (7,11 MB/s) - ‘en_vi_iwslt.tar.gz’ saved [9044100/9044100]\n",
      "\n",
      "IWSLT15.TED.tst2013.en-vi.en\n",
      "IWSLT15.TED.tst2013.en-vi.vi\n",
      "IWSLT15.TED.tst2012.en-vi.en\n",
      "IWSLT15.TED.tst2012.en-vi.vi\n",
      "train.en\n",
      "train.vi\n",
      "IWSLT15.TED.tst2015.en-vi.en\n",
      "IWSLT15.TED.tst2015.en-vi.vi\n"
     ]
    }
   ],
   "source": [
    "!wget https://github.com/hoangtrungchinh/clc_data/raw/master/en_vi_iwslt.tar.gz\n",
    "!mkdir data_bin\n",
    "!tar -xvf  'en_vi_iwslt.tar.gz' -C 'data_bin'"
   ]
  },
  {
   "cell_type": "code",
   "execution_count": 4,
   "metadata": {},
   "outputs": [
    {
     "name": "stdout",
     "output_type": "stream",
     "text": [
      "['data_bin/IWSLT15.TED.tst2012.en-vi.en', 'data_bin/IWSLT15.TED.tst2013.en-vi.en', 'data_bin/IWSLT15.TED.tst2015.en-vi.en', 'data_bin/train.en']\n",
      "['data_bin/IWSLT15.TED.tst2012.en-vi.vi', 'data_bin/IWSLT15.TED.tst2013.en-vi.vi', 'data_bin/IWSLT15.TED.tst2015.en-vi.vi', 'data_bin/train.vi']\n",
      "120956\n",
      "120956\n"
     ]
    }
   ],
   "source": [
    "# import file\n",
    "import numpy as np\n",
    "import glob\n",
    "\n",
    "en_files = sorted(glob.glob(\"data_bin/*.en\"))\n",
    "vi_files = sorted(glob.glob(\"data_bin/*.vi\"))\n",
    "print(en_files)\n",
    "print(vi_files)\n",
    "\n",
    "lst_en = []\n",
    "lst_vi = []\n",
    "\n",
    "start = time.time()\n",
    "\n",
    "for file in en_files:\n",
    "  with open(file) as file_in:\n",
    "    for line in file_in:\n",
    "      lst_en.append(line)\n",
    "\n",
    "for file in vi_files:\n",
    "  with open(file) as file_in:\n",
    "    for line in file_in:\n",
    "      lst_vi.append(line)\n",
    "\n",
    "print(len(lst_en))\n",
    "print(len(lst_vi))"
   ]
  },
  {
   "cell_type": "code",
   "execution_count": 5,
   "metadata": {
    "scrolled": true
   },
   "outputs": [
    {
     "name": "stdout",
     "output_type": "stream",
     "text": [
      "96764\n",
      "96764\n",
      "12096\n",
      "12096\n",
      "12096\n",
      "12096\n",
      "And , in fact , when we did some experiments looking at this , what we found is that 46 percent of the variation in how many friends you have is explained by your genes .\n",
      "\n",
      "Trong thực tế , khi thực hiện một vài thí nghiệm nghiên cứu vấn đề này , chúng tôi nhận ra 46 % sự khác biệt trong số bạn bè của bạn được giải thích bằng gen của bạn .\n",
      "\n",
      "This is a chart of what it looked like when it first became popular last summer .\n",
      "\n",
      "Đây là biểu đồ thể hiện điều đó khi video này lần đầu tiên trở nên phổ biến vào mùa hè trước .\n",
      "\n",
      "And what will happen in the future ?\n",
      "\n",
      "Chuyện gì sẽ xảy ra trong tương lai ?\n",
      "\n"
     ]
    }
   ],
   "source": [
    "# SPLIT TRAIN, TEST, VALID\n",
    "from sklearn.model_selection import train_test_split\n",
    "en_train, en_test_valid, vi_train, vi_test_valid =  train_test_split(lst_en, lst_vi, test_size=0.2, random_state=123)\n",
    "en_valid, en_test, vi_valid, vi_test = train_test_split(en_test_valid, vi_test_valid, test_size=0.5, random_state=123)\n",
    "print(len(en_train))\n",
    "print(len(vi_train))\n",
    "print(len(en_valid))\n",
    "print(len(vi_valid))\n",
    "print(len(en_test))\n",
    "print(len(vi_test))\n",
    "print(en_train[20])\n",
    "print(vi_train[20])\n",
    "print(en_valid[-1])\n",
    "print(vi_valid[-1])\n",
    "print(en_test[-1])\n",
    "print(vi_test[-1])"
   ]
  },
  {
   "cell_type": "code",
   "execution_count": 6,
   "metadata": {
    "scrolled": true
   },
   "outputs": [
    {
     "name": "stdout",
     "output_type": "stream",
     "text": [
      "total 36844\r\n",
      "drwxrwxr-x 3 chinh chinh     4096 Thg 2  27 11:56 .\r\n",
      "drwxrwxr-x 6 chinh chinh     4096 Thg 2  27 11:56 ..\r\n",
      "drwxrwxr-x 2 chinh chinh     4096 Thg 2  27 11:56 data_bin\r\n",
      "-rw-rw-r-- 1 chinh chinh  1260181 Thg 2  27 11:56 en_test\r\n",
      "-rw-rw-r-- 1 chinh chinh 10011509 Thg 2  27 11:56 en_train\r\n",
      "-rw-rw-r-- 1 chinh chinh  1249342 Thg 2  27 11:56 en_valid\r\n",
      "-rw-rw-r-- 1 chinh chinh  9044100 Thg 2  27 11:56 en_vi_iwslt.tar.gz\r\n",
      "-rw-rw-r-- 1 chinh chinh  1624771 Thg 2  27 11:56 vi_test\r\n",
      "-rw-rw-r-- 1 chinh chinh 12896000 Thg 2  27 11:56 vi_train\r\n",
      "-rw-rw-r-- 1 chinh chinh  1609835 Thg 2  27 11:56 vi_valid\r\n"
     ]
    }
   ],
   "source": [
    "file_variable = [en_train,vi_train,en_valid,vi_valid,en_test,vi_test]\n",
    "file_names = [\"en_train\",\"vi_train\",\"en_valid\",\"vi_valid\",\"en_test\",\"vi_test\"]\n",
    "\n",
    "for i in range(len(file_names)):\n",
    "  with open(file_names[i], 'w') as f:\n",
    "    for item in file_variable[i]:\n",
    "      f.write(item)\n",
    "!ls -al"
   ]
  },
  {
   "cell_type": "code",
   "execution_count": 7,
   "metadata": {},
   "outputs": [],
   "source": [
    "from sentence_transformers import SentenceTransformer, util\n",
    "model = SentenceTransformer('paraphrase-distilroberta-base-v1')\n",
    "# # model = SentenceTransformer('LaBSE')\n",
    "# #Sentences are encoded by calling model.encode()\n",
    "# emb1 = model.encode(\"This is a red cat with a hat.\")\n",
    "# emb2 = model.encode(\"Have you seen my red cat?\")\n",
    "\n",
    "# cos_sim = util.pytorch_cos_sim(emb1, emb2)\n",
    "# print(\"Cosine-Similarity:\", cos_sim)"
   ]
  },
  {
   "cell_type": "code",
   "execution_count": 8,
   "metadata": {},
   "outputs": [
    {
     "name": "stdout",
     "output_type": "stream",
     "text": [
      "=== Ending, Total time (second):  651.1811723709106\n"
     ]
    }
   ],
   "source": [
    "start = time.time()\n",
    "srcfile = \"vi_train\"\n",
    "tarfile = \"en_train\"\n",
    "# lst_srcfile = open(srcfile, \"r\").readlines()\n",
    "# lst_tarfile = open(tarfile, \"r\").readlines()\n",
    "lst_srcfile = vi_train\n",
    "lst_tarfile = en_train\n",
    "\n",
    "vec_lst_srcfile = model.encode(lst_srcfile)\n",
    "print('=== Ending, Total time (second): ', time.time() - start)"
   ]
  },
  {
   "cell_type": "markdown",
   "metadata": {},
   "source": [
    "Test Cosin similarity"
   ]
  },
  {
   "cell_type": "code",
   "execution_count": 9,
   "metadata": {
    "scrolled": true
   },
   "outputs": [
    {
     "name": "stdout",
     "output_type": "stream",
     "text": [
      "=== Ending, Total time (second):  38.3506076335907\n",
      "96764\n",
      "96764\n",
      "[[    0 66198 93893  1847 70164 42122]\n",
      " [    1 45229 90252 38465 22043 66924]\n",
      " [    2 68289 38801 78954  6667 43814]\n",
      " ...\n",
      " [96761 90346 75368 44970 31659 52293]\n",
      " [96762 86987  4286 67620 70190 22749]\n",
      " [96763 10916  7886 69274 34687 45315]]\n",
      "[[0.0000000e+00 1.6968155e-01 1.7118824e-01 1.7121243e-01 1.7494512e-01\n",
      "  1.7620480e-01]\n",
      " [0.0000000e+00 1.6705418e-01 1.8024969e-01 1.8405783e-01 1.8882930e-01\n",
      "  1.9314837e-01]\n",
      " [0.0000000e+00 2.3591542e-01 2.4088609e-01 2.5170004e-01 2.5979006e-01\n",
      "  2.5999165e-01]\n",
      " ...\n",
      " [0.0000000e+00 2.3677850e-01 2.4555230e-01 2.6640487e-01 2.6938546e-01\n",
      "  2.7425909e-01]\n",
      " [1.1920929e-07 1.8696308e-01 1.9252396e-01 1.9541562e-01 2.0005262e-01\n",
      "  2.1628165e-01]\n",
      " [2.3841858e-07 2.4108267e-01 2.5434709e-01 2.5683343e-01 2.5808859e-01\n",
      "  2.5925899e-01]]\n"
     ]
    }
   ],
   "source": [
    "import faiss\n",
    "\n",
    "start = time.time()\n",
    "index = faiss.IndexFlatL2(768)\n",
    "index.ntotal\n",
    "faiss.normalize_L2(vec_lst_srcfile)\n",
    "index.add(vec_lst_srcfile)\n",
    "k = 6\n",
    "distance, index = index.search(vec_lst_srcfile, k)\n",
    "\n",
    "print('=== Ending, Total time (second): ', time.time() - start)\n",
    "print(len(distance))\n",
    "print(len(index))\n",
    "\n",
    "print(index)\n",
    "print(distance)"
   ]
  },
  {
   "cell_type": "code",
   "execution_count": 10,
   "metadata": {},
   "outputs": [
    {
     "name": "stdout",
     "output_type": "stream",
     "text": [
      "19607\n",
      "==================================\n",
      "0.16375113\n",
      "0.16375084\n"
     ]
    }
   ],
   "source": [
    "i = 6\n",
    "j = k-1\n",
    "print(index[i][j])\n",
    "print(\"==================================\")\n",
    "print(distance[i][j])\n",
    "a = vec_lst_srcfile[i]\n",
    "# print(a)\n",
    "b = vec_lst_srcfile[index[i][j]]\n",
    "# TEST\n",
    "dist_squared = np.sum(np.square(a - b))\n",
    "print(dist_squared)"
   ]
  },
  {
   "cell_type": "code",
   "execution_count": 11,
   "metadata": {},
   "outputs": [
    {
     "name": "stdout",
     "output_type": "stream",
     "text": [
      "threshold = 0.9 EM sentences = 101 / 96764 0.001043776611136373 %\n",
      "threshold = 0.8 EM sentences = 253 / 96764 0.002614608738787152 %\n",
      "threshold = 0.7 EM sentences = 612 / 96764 0.006324666198172874 %\n",
      "threshold = 0.6 EM sentences = 1473 / 96764 0.015222603447563144 %\n",
      "=== Ending, Total time (second):  7.912481307983398\n"
     ]
    }
   ],
   "source": [
    "start = time.time()\n",
    "saperate = \" || \"\n",
    "\n",
    "src_label = \"S\"\n",
    "emb_label = \"E\"\n",
    "thres_arr = [0.9, 0.8, 0.7, 0.6]\n",
    "for i in range(len(thres_arr)):\n",
    "    threshold = thres_arr[i]\n",
    "    out_file_write = open(\"vi_train_EM_\"+str(thres_arr[i]), 'w')\n",
    "    out_file_write_score = open(\"vi_train_EM_score_\"+str(thres_arr[i]), 'w')\n",
    "    out_file_write_factor = open(\"vi_train_EM_factor_\"+str(thres_arr[i]), 'w')\n",
    "    num_gth_thres = 0\n",
    "\n",
    "    for i in range(len(lst_srcfile)):\n",
    "        score = distance[i][1]\n",
    "        content = \"\"\n",
    "        content_label_arr = []\n",
    "        if score >= threshold:\n",
    "            num_gth_thres += 1\n",
    "            best_simi_index = index[i][1]\n",
    "            content = lst_srcfile[i].strip() + saperate + lst_tarfile[best_simi_index].strip()\n",
    "\n",
    "            content_label = [src_label] * len(lst_srcfile[i].split())\n",
    "            content_label.append(emb_label)\n",
    "            content_label = content_label + [emb_label] * len(lst_tarfile[best_simi_index].split())\n",
    "\n",
    "            content_label_arr = \" \".join(content_label)\n",
    "        else:\n",
    "            content = lst_srcfile[i].strip()\n",
    "            content_label = [src_label] * len(lst_srcfile[i].split())\n",
    "            content_label_arr = \" \".join(content_label)\n",
    " \n",
    "        out_file_write.writelines(content+ \"\\n\")    \n",
    "        out_file_write_factor.writelines(content_label_arr + \"\\n\")\n",
    "        out_file_write_score.writelines(str(score) + \"\\n\")\n",
    "\n",
    "    print('threshold =', threshold, \"EM sentences =\", num_gth_thres, \"/\", len(lst_srcfile), num_gth_thres/len(lst_srcfile), \"%\" )\n",
    "\n",
    "    out_file_write.close()\n",
    "    out_file_write_score.close()\n",
    "    out_file_write_factor.close()\n",
    "\n",
    "done = time.time()\n",
    "elapsed = done - start\n",
    "print('=== Ending, Total time (second): ', elapsed)"
   ]
  },
  {
   "cell_type": "code",
   "execution_count": null,
   "metadata": {},
   "outputs": [],
   "source": []
  }
 ],
 "metadata": {
  "kernelspec": {
   "display_name": "Python 3",
   "language": "python",
   "name": "python3"
  },
  "language_info": {
   "codemirror_mode": {
    "name": "ipython",
    "version": 3
   },
   "file_extension": ".py",
   "mimetype": "text/x-python",
   "name": "python",
   "nbconvert_exporter": "python",
   "pygments_lexer": "ipython3",
   "version": "3.8.5"
  }
 },
 "nbformat": 4,
 "nbformat_minor": 4
}
