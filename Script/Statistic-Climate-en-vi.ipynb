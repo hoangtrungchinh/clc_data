{
 "cells": [
  {
   "cell_type": "markdown",
   "source": [
    "INSTALL\n",
    "- FAISS - \n",
    "- Sent2Vec"
   ],
   "metadata": {}
  },
  {
   "cell_type": "code",
   "execution_count": 1,
   "source": [
    "import numpy as np"
   ],
   "outputs": [],
   "metadata": {}
  },
  {
   "cell_type": "code",
   "execution_count": 2,
   "source": [
    "!pwd"
   ],
   "outputs": [
    {
     "output_type": "stream",
     "name": "stdout",
     "text": [
      "/home/chinh/clc_data/Script\n"
     ]
    }
   ],
   "metadata": {}
  },
  {
   "cell_type": "code",
   "execution_count": 3,
   "source": [
    "!rm -rf data_bin \n",
    "!mkdir data_bin\n",
    "!tar -xvf  '../climate.tar.gz' -C 'data_bin'"
   ],
   "outputs": [
    {
     "output_type": "stream",
     "name": "stdout",
     "text": [
      "--2021-10-19 06:14:32--  https://github.com/hoangtrungchinh/clc_data/raw/master/en_vi_iwslt.tar.gz\n",
      "Resolving github.com (github.com)... failed: Temporary failure in name resolution.\n",
      "wget: unable to resolve host address ‘github.com’\n",
      "climate.vi\n",
      "climate.en\n"
     ]
    }
   ],
   "metadata": {}
  },
  {
   "cell_type": "code",
   "execution_count": 4,
   "source": [
    "# import file\n",
    "import os\n",
    "import time\n",
    "import numpy as np\n",
    "import glob\n",
    "\n",
    "en_files = sorted(glob.glob(\"data_bin/*.en\"))\n",
    "vi_files = sorted(glob.glob(\"data_bin/*.vi\"))\n",
    "print(en_files)\n",
    "print(vi_files)\n",
    "\n",
    "lst_en = []\n",
    "lst_vi = []\n",
    "\n",
    "start = time.time()\n",
    "\n",
    "for file in en_files:\n",
    "  with open(file) as file_in:\n",
    "    for line in file_in:\n",
    "      lst_en.append(line)\n",
    "\n",
    "for file in vi_files:\n",
    "  with open(file) as file_in:\n",
    "    for line in file_in:\n",
    "      lst_vi.append(line)\n",
    "\n",
    "print(len(lst_en))\n",
    "print(len(lst_vi))"
   ],
   "outputs": [
    {
     "output_type": "stream",
     "name": "stdout",
     "text": [
      "['data_bin/climate.en']\n",
      "['data_bin/climate.vi']\n",
      "400\n",
      "400\n"
     ]
    }
   ],
   "metadata": {}
  },
  {
   "cell_type": "code",
   "execution_count": 5,
   "source": [
    "print(\"Sents_en = \", len(lst_en))\n",
    "print(\"Sents_vi = \", len(lst_vi))\n",
    "\n",
    "L_mean_en = (sum([len(sen.split(\" \")) for sen in lst_en]))/len(lst_en)\n",
    "print(\"L_mean_en =\",L_mean_en)\n",
    "\n",
    "L_mean_vi = (sum([len(sen.split(\" \")) for sen in lst_vi]))/len(lst_vi)\n",
    "print(\"L_mean_vi =\",L_mean_vi)\n",
    "\n",
    "Vocab_en = (\" \".join(lst_en)).split(\" \")  \n",
    "print(\"Vocab_en =\",len(set(Vocab_en)))\n",
    "\n",
    "Vocab_vi = (\" \".join(lst_vi)).split(\" \")  \n",
    "print(\"Vocab_vi =\",len(set(Vocab_vi)))"
   ],
   "outputs": [
    {
     "output_type": "stream",
     "name": "stdout",
     "text": [
      "Sents_en =  400\n",
      "Sents_vi =  400\n",
      "L_mean_en = 21.795\n",
      "L_mean_vi = 30.4175\n",
      "Vocab_en = 2834\n",
      "Vocab_vi = 2034\n"
     ]
    }
   ],
   "metadata": {}
  }
 ],
 "metadata": {
  "kernelspec": {
   "name": "python3",
   "display_name": "Python 3.8.5 64-bit ('base': conda)"
  },
  "language_info": {
   "codemirror_mode": {
    "name": "ipython",
    "version": 3
   },
   "file_extension": ".py",
   "mimetype": "text/x-python",
   "name": "python",
   "nbconvert_exporter": "python",
   "pygments_lexer": "ipython3",
   "version": "3.8.5"
  },
  "interpreter": {
   "hash": "4dfac0ec118fd378f5069d0d61d2a7006b05ce542325caceed2aa46bfa76b2d0"
  }
 },
 "nbformat": 4,
 "nbformat_minor": 4
}