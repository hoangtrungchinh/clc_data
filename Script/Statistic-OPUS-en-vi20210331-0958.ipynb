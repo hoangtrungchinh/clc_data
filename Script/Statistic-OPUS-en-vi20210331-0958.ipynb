{
 "cells": [
  {
   "cell_type": "markdown",
   "metadata": {},
   "source": [
    "INSTALL\n",
    "- FAISS - \n",
    "- Sent2Vec"
   ]
  },
  {
   "cell_type": "code",
   "execution_count": 1,
   "metadata": {},
   "outputs": [],
   "source": [
    "import numpy as np\n",
    "import faiss   "
   ]
  },
  {
   "cell_type": "code",
   "execution_count": 2,
   "metadata": {},
   "outputs": [
    {
     "name": "stdout",
     "output_type": "stream",
     "text": [
      "/home/chinh/clc_data/Script/Statistic-Faiss-OPUS-TED-en-vi20210331-0958\r\n"
     ]
    }
   ],
   "source": [
    "import os\n",
    "import time\n",
    "name = \"Statistic-Faiss-OPUS-TED-en-vi\"+ str(time.strftime(\"%Y%m%d-%H%M\"))\n",
    "\n",
    "!mkdir $name\n",
    "path = os.getcwd() + \"/\" + name\n",
    "os.chdir(path)\n",
    "\n",
    "!pwd\n",
    "\n",
    "\n",
    "os.chdir(path)"
   ]
  },
  {
   "cell_type": "code",
   "execution_count": 3,
   "metadata": {},
   "outputs": [
    {
     "name": "stdout",
     "output_type": "stream",
     "text": [
      "--2021-03-31 09:58:37--  https://github.com/hoangtrungchinh/clc_data/raw/master/opus-100-corpus.zip\n",
      "Resolving github.com (github.com)... 52.74.223.119\n",
      "Connecting to github.com (github.com)|52.74.223.119|:443... connected.\n",
      "HTTP request sent, awaiting response... 302 Found\n",
      "Location: https://raw.githubusercontent.com/hoangtrungchinh/clc_data/master/opus-100-corpus.zip [following]\n",
      "--2021-03-31 09:58:37--  https://raw.githubusercontent.com/hoangtrungchinh/clc_data/master/opus-100-corpus.zip\n",
      "Resolving raw.githubusercontent.com (raw.githubusercontent.com)... 185.199.111.133, 185.199.109.133, 185.199.110.133, ...\n",
      "Connecting to raw.githubusercontent.com (raw.githubusercontent.com)|185.199.111.133|:443... connected.\n",
      "HTTP request sent, awaiting response... 200 OK\n",
      "Length: 30690851 (29M) [application/zip]\n",
      "Saving to: ‘opus-100-corpus.zip’\n",
      "\n",
      "opus-100-corpus.zip 100%[===================>]  29,27M  3,54MB/s    in 7,3s    \n",
      "\n",
      "2021-03-31 09:58:49 (4,02 MB/s) - ‘opus-100-corpus.zip’ saved [30690851/30690851]\n",
      "\n",
      "Archive:  opus-100-corpus.zip\n",
      "  inflating: data_bin/opus.en-vi-dev.en  \n",
      "  inflating: data_bin/opus.en-vi-dev.vi  \n",
      "  inflating: data_bin/opus.en-vi-test.en  \n",
      "  inflating: data_bin/opus.en-vi-test.vi  \n",
      "  inflating: data_bin/opus.en-vi-train.en  \n",
      "  inflating: data_bin/opus.en-vi-train.vi  \n"
     ]
    }
   ],
   "source": [
    "!wget https://github.com/hoangtrungchinh/clc_data/raw/master/opus-100-corpus.zip\n",
    "!mkdir data_bin\n",
    "!unzip 'opus-100-corpus.zip' -d 'data_bin'"
   ]
  },
  {
   "cell_type": "code",
   "execution_count": 4,
   "metadata": {},
   "outputs": [
    {
     "name": "stdout",
     "output_type": "stream",
     "text": [
      "['data_bin/opus.en-vi-dev.en', 'data_bin/opus.en-vi-test.en', 'data_bin/opus.en-vi-train.en']\n",
      "['data_bin/opus.en-vi-dev.vi', 'data_bin/opus.en-vi-test.vi', 'data_bin/opus.en-vi-train.vi']\n",
      "1004000\n",
      "1004000\n"
     ]
    }
   ],
   "source": [
    "# import file\n",
    "import numpy as np\n",
    "import glob\n",
    "\n",
    "en_files = sorted(glob.glob(\"data_bin/*.en\"))\n",
    "vi_files = sorted(glob.glob(\"data_bin/*.vi\"))\n",
    "print(en_files)\n",
    "print(vi_files)\n",
    "\n",
    "lst_en = []\n",
    "lst_vi = []\n",
    "\n",
    "start = time.time()\n",
    "\n",
    "for file in en_files:\n",
    "  with open(file) as file_in:\n",
    "    for line in file_in:\n",
    "      lst_en.append(line.strip())\n",
    "\n",
    "for file in vi_files:\n",
    "  with open(file) as file_in:\n",
    "    for line in file_in:\n",
    "      lst_vi.append(line.strip())\n",
    "\n",
    "print(len(lst_en))\n",
    "print(len(lst_vi))"
   ]
  },
  {
   "cell_type": "code",
   "execution_count": 5,
   "metadata": {},
   "outputs": [
    {
     "name": "stdout",
     "output_type": "stream",
     "text": [
      "Sents_en =  1004000\n",
      "Sents_vi =  1004000\n",
      "L_mean_en = 6.248\n",
      "L_mean_vi = 7.570730079681275\n",
      "Vocab_en = 255574\n",
      "Vocab_vi = 165867\n"
     ]
    }
   ],
   "source": [
    "print(\"Sents_en = \", len(lst_en))\n",
    "print(\"Sents_vi = \", len(lst_vi))\n",
    "\n",
    "L_mean_en = (sum([len(sen.split(\" \")) for sen in lst_en]))/len(lst_en)\n",
    "print(\"L_mean_en =\",L_mean_en)\n",
    "\n",
    "L_mean_vi = (sum([len(sen.split(\" \")) for sen in lst_vi]))/len(lst_vi)\n",
    "print(\"L_mean_vi =\",L_mean_vi)\n",
    "\n",
    "Vocab_en = (\" \".join(lst_en)).split(\" \")  \n",
    "print(\"Vocab_en =\",len(set(Vocab_en)))\n",
    "\n",
    "Vocab_vi = (\" \".join(lst_vi)).split(\" \")  \n",
    "print(\"Vocab_vi =\",len(set(Vocab_vi)))"
   ]
  },
  {
   "cell_type": "code",
   "execution_count": 6,
   "metadata": {},
   "outputs": [
    {
     "name": "stdout",
     "output_type": "stream",
     "text": [
      "/home/chinh/clc_data/Script/Statistic-Faiss-OPUS-TED-en-vi20210331-0958\r\n"
     ]
    }
   ],
   "source": [
    "!pwd"
   ]
  },
  {
   "cell_type": "code",
   "execution_count": 21,
   "metadata": {},
   "outputs": [
    {
     "name": "stdout",
     "output_type": "stream",
     "text": [
      "593414 74919 62670 43117 21645 7435\n",
      "0.7388122509960159 0.09327564741035857 0.0780253984063745 0.053681523904382474 0.026948456175298806 0.009256723107569722\n"
     ]
    }
   ],
   "source": [
    "path = \"/home/chinh/clc_data/Script/Faiss-EM-OPUS-bert-en-vi-0999-20210316-2003/en_train_EM_score_0.999\"\n",
    "lst_score = []\n",
    "\n",
    "with open(path) as file_in:\n",
    "    for line in file_in:\n",
    "        lst_score.append(line.strip())\n",
    "        \n",
    "        \n",
    "l05=l56=l67=l78=l89=l9 = 0\n",
    "for i in range(len(lst_score)):\n",
    "    num = float(lst_score[i])\n",
    "    if num <0.5:\n",
    "        l05 = l05 +1\n",
    "    elif num >= 0.5 and num < 0.6:\n",
    "        l56 = l56 +1\n",
    "    elif num >= 0.6 and num < 0.7:\n",
    "        l67 = l67 + 1\n",
    "    elif num >= 0.7 and num < 0.8:\n",
    "        l78 = l78 + 1\n",
    "    elif num >= 0.8 and num < 0.9:\n",
    "        l89 = l89 + 1\n",
    "    elif num >= 0.9:\n",
    "        l9 = l9 + 1\n",
    "        \n",
    "t = len(lst_score)\n",
    "print(l05, l56, l67, l78, l89, l9)\n",
    "print(l05/t, l56/t, l67/t, l78/t, l89/t, l9/t)"
   ]
  },
  {
   "cell_type": "code",
   "execution_count": 22,
   "metadata": {},
   "outputs": [
    {
     "name": "stdout",
     "output_type": "stream",
     "text": [
      "637003 46844 41671 34268 23717 19697\n",
      "0.7930814243027888 0.05832171314741036 0.051881225099601594 0.04266434262948207 0.029528137450199204 0.02452315737051793\n"
     ]
    }
   ],
   "source": [
    "path = \"/home/chinh/clc_data/Script/Faiss-EM-OPUS-sent2vec-en-vi-0999-20210317-0436/en_train_EM_score_0.999\"\n",
    "lst_score = []\n",
    "\n",
    "with open(path) as file_in:\n",
    "    for line in file_in:\n",
    "        lst_score.append(line.strip())\n",
    "        \n",
    "        \n",
    "l05=l56=l67=l78=l89=l9 = 0\n",
    "for i in range(len(lst_score)):\n",
    "    num = float(lst_score[i])\n",
    "    if num <0.5:\n",
    "        l05 = l05 +1\n",
    "    elif num >= 0.5 and num < 0.6:\n",
    "        l56 = l56 +1\n",
    "    elif num >= 0.6 and num < 0.7:\n",
    "        l67 = l67 + 1\n",
    "    elif num >= 0.7 and num < 0.8:\n",
    "        l78 = l78 + 1\n",
    "    elif num >= 0.8 and num < 0.9:\n",
    "        l89 = l89 + 1\n",
    "    elif num >= 0.9:\n",
    "        l9 = l9 + 1\n",
    "        \n",
    "t = len(lst_score)\n",
    "print(l05, l56, l67, l78, l89, l9)\n",
    "print(l05/t, l56/t, l67/t, l78/t, l89/t, l9/t)"
   ]
  },
  {
   "cell_type": "code",
   "execution_count": null,
   "metadata": {},
   "outputs": [],
   "source": []
  }
 ],
 "metadata": {
  "kernelspec": {
   "display_name": "Python 3",
   "language": "python",
   "name": "python3"
  },
  "language_info": {
   "codemirror_mode": {
    "name": "ipython",
    "version": 3
   },
   "file_extension": ".py",
   "mimetype": "text/x-python",
   "name": "python",
   "nbconvert_exporter": "python",
   "pygments_lexer": "ipython3",
   "version": "3.8.5"
  }
 },
 "nbformat": 4,
 "nbformat_minor": 4
}
