{
 "cells": [
  {
   "cell_type": "markdown",
   "metadata": {},
   "source": [
    "INSTALL\n",
    "- FAISS - \n",
    "- Sent2Vec"
   ]
  },
  {
   "cell_type": "code",
   "execution_count": 1,
   "metadata": {},
   "outputs": [],
   "source": [
    "import numpy as np\n",
    "import faiss   "
   ]
  },
  {
   "cell_type": "code",
   "execution_count": 2,
   "metadata": {},
   "outputs": [
    {
     "name": "stdout",
     "output_type": "stream",
     "text": [
      "/home/chinh/clc_data/Script/Faiss-EM-OPUS-bert-vi-en20210304-2211\r\n"
     ]
    }
   ],
   "source": [
    "import os\n",
    "import time\n",
    "name = \"Faiss-EM-OPUS-bert-vi-en\"+ str(time.strftime(\"%Y%m%d-%H%M\"))\n",
    "\n",
    "!mkdir $name\n",
    "path = os.getcwd() + \"/\" + name\n",
    "os.chdir(path)\n",
    "\n",
    "!pwd\n",
    "os.chdir(path)"
   ]
  },
  {
   "cell_type": "code",
   "execution_count": 3,
   "metadata": {},
   "outputs": [
    {
     "name": "stdout",
     "output_type": "stream",
     "text": [
      "--2021-03-04 22:11:28--  https://github.com/hoangtrungchinh/clc_data/raw/master/opus-100-corpus.zip\n",
      "Resolving github.com (github.com)... 52.74.223.119\n",
      "Connecting to github.com (github.com)|52.74.223.119|:443... connected.\n",
      "HTTP request sent, awaiting response... 302 Found\n",
      "Location: https://raw.githubusercontent.com/hoangtrungchinh/clc_data/master/opus-100-corpus.zip [following]\n",
      "--2021-03-04 22:11:29--  https://raw.githubusercontent.com/hoangtrungchinh/clc_data/master/opus-100-corpus.zip\n",
      "Resolving raw.githubusercontent.com (raw.githubusercontent.com)... 185.199.110.133, 185.199.108.133, 185.199.111.133, ...\n",
      "Connecting to raw.githubusercontent.com (raw.githubusercontent.com)|185.199.110.133|:443... connected.\n",
      "HTTP request sent, awaiting response... 200 OK\n",
      "Length: 30690851 (29M) [application/zip]\n",
      "Saving to: ‘opus-100-corpus.zip’\n",
      "\n",
      "opus-100-corpus.zip 100%[===================>]  29,27M  1,85MB/s    in 23s     \n",
      "\n",
      "2021-03-04 22:11:54 (1,25 MB/s) - ‘opus-100-corpus.zip’ saved [30690851/30690851]\n",
      "\n",
      "Archive:  opus-100-corpus.zip\n",
      "  inflating: data_bin/opus.en-vi-dev.en  \n",
      "  inflating: data_bin/opus.en-vi-dev.vi  \n",
      "  inflating: data_bin/opus.en-vi-test.en  \n",
      "  inflating: data_bin/opus.en-vi-test.vi  \n",
      "  inflating: data_bin/opus.en-vi-train.en  \n",
      "  inflating: data_bin/opus.en-vi-train.vi  \n"
     ]
    }
   ],
   "source": [
    "!wget https://github.com/hoangtrungchinh/clc_data/raw/master/opus-100-corpus.zip\n",
    "!mkdir data_bin\n",
    "!unzip 'opus-100-corpus.zip' -d 'data_bin'"
   ]
  },
  {
   "cell_type": "code",
   "execution_count": 4,
   "metadata": {},
   "outputs": [
    {
     "name": "stdout",
     "output_type": "stream",
     "text": [
      "['data_bin/opus.en-vi-dev.en', 'data_bin/opus.en-vi-test.en', 'data_bin/opus.en-vi-train.en']\n",
      "['data_bin/opus.en-vi-dev.vi', 'data_bin/opus.en-vi-test.vi', 'data_bin/opus.en-vi-train.vi']\n",
      "1004000\n",
      "1004000\n"
     ]
    }
   ],
   "source": [
    "# import file\n",
    "import numpy as np\n",
    "import glob\n",
    "\n",
    "en_files = sorted(glob.glob(\"data_bin/*.en\"))\n",
    "vi_files = sorted(glob.glob(\"data_bin/*.vi\"))\n",
    "print(en_files)\n",
    "print(vi_files)\n",
    "\n",
    "lst_en = []\n",
    "lst_vi = []\n",
    "\n",
    "start = time.time()\n",
    "\n",
    "for file in en_files:\n",
    "  with open(file) as file_in:\n",
    "    for line in file_in:\n",
    "      lst_en.append(line.strip())\n",
    "\n",
    "for file in vi_files:\n",
    "  with open(file) as file_in:\n",
    "    for line in file_in:\n",
    "      lst_vi.append(line.strip())\n",
    "\n",
    "print(len(lst_en))\n",
    "print(len(lst_vi))"
   ]
  },
  {
   "cell_type": "code",
   "execution_count": 5,
   "metadata": {
    "scrolled": true
   },
   "outputs": [
    {
     "name": "stdout",
     "output_type": "stream",
     "text": [
      "803200\n",
      "803200\n",
      "100400\n",
      "100400\n",
      "100400\n",
      "100400\n",
      "Childs?\n",
      "Childs?\n",
      "It's powered up now, isn't it?\n",
      "Bây giờ nó bật rồi phải không nhỉ?\n",
      "Why the hell are you going to Cuddy's baby naming?\n",
      "Bị làm sao mà anh lại đi dự lễ đặt tên em bé của Cuddy chứ?\n"
     ]
    }
   ],
   "source": [
    "# SPLIT TRAIN, TEST, VALID\n",
    "from sklearn.model_selection import train_test_split\n",
    "en_train, en_test_valid, vi_train, vi_test_valid =  train_test_split(lst_en, lst_vi, test_size=0.2, random_state=123)\n",
    "en_valid, en_test, vi_valid, vi_test = train_test_split(en_test_valid, vi_test_valid, test_size=0.5, random_state=123)\n",
    "print(len(en_train))\n",
    "print(len(vi_train))\n",
    "print(len(en_valid))\n",
    "print(len(vi_valid))\n",
    "print(len(en_test))\n",
    "print(len(vi_test))\n",
    "print(en_train[20])\n",
    "print(vi_train[20])\n",
    "print(en_valid[-1])\n",
    "print(vi_valid[-1])\n",
    "print(en_test[-1])\n",
    "print(vi_test[-1])"
   ]
  },
  {
   "cell_type": "code",
   "execution_count": 6,
   "metadata": {
    "scrolled": true
   },
   "outputs": [
    {
     "name": "stdout",
     "output_type": "stream",
     "text": [
      "total 105172\r\n",
      "drwxrwxr-x 3 chinh chinh     4096 Thg 3   4 22:11 .\r\n",
      "drwxrwxr-x 7 chinh chinh     4096 Thg 3   4 22:11 ..\r\n",
      "drwxrwxr-x 2 chinh chinh     4096 Thg 3   4 22:11 data_bin\r\n",
      "-rw-rw-r-- 1 chinh chinh  3318349 Thg 3   4 22:11 en_test\r\n",
      "-rw-rw-r-- 1 chinh chinh 26563375 Thg 3   4 22:11 en_train\r\n",
      "-rw-rw-r-- 1 chinh chinh  3328557 Thg 3   4 22:11 en_valid\r\n",
      "-rw-rw-r-- 1 chinh chinh 30690851 Thg 3   4 22:11 opus-100-corpus.zip\r\n",
      "-rw-rw-r-- 1 chinh chinh  4365722 Thg 3   4 22:11 vi_test\r\n",
      "-rw-rw-r-- 1 chinh chinh 35019161 Thg 3   4 22:11 vi_train\r\n",
      "-rw-rw-r-- 1 chinh chinh  4382771 Thg 3   4 22:11 vi_valid\r\n"
     ]
    }
   ],
   "source": [
    "file_variable = [en_train,vi_train,en_valid,vi_valid,en_test,vi_test]\n",
    "file_names = [\"en_train\",\"vi_train\",\"en_valid\",\"vi_valid\",\"en_test\",\"vi_test\"]\n",
    "\n",
    "for i in range(len(file_names)):\n",
    "  with open(file_names[i], 'w') as f:\n",
    "    for item in file_variable[i]:\n",
    "      f.write(item)\n",
    "      f.write(\"\\n\")\n",
    "    \n",
    "!ls -al"
   ]
  },
  {
   "cell_type": "code",
   "execution_count": 7,
   "metadata": {},
   "outputs": [],
   "source": [
    "from sentence_transformers import SentenceTransformer, util\n",
    "model = SentenceTransformer('stsb-bert-large')\n",
    "# # model = SentenceTransformer('LaBSE')\n",
    "# #Sentences are encoded by calling model.encode()\n",
    "# emb1 = model.encode(\"This is a red cat with a hat.\")\n",
    "# emb2 = model.encode(\"Have you seen my red cat?\")\n",
    "\n",
    "# cos_sim = util.pytorch_cos_sim(emb1, emb2)\n",
    "# print(\"Cosine-Similarity:\", cos_sim)"
   ]
  },
  {
   "cell_type": "code",
   "execution_count": 8,
   "metadata": {},
   "outputs": [],
   "source": [
    "# print(cos_sim.numpy()[0][0])"
   ]
  },
  {
   "cell_type": "code",
   "execution_count": 9,
   "metadata": {},
   "outputs": [
    {
     "name": "stdout",
     "output_type": "stream",
     "text": [
      "=== Ending, Total time (second):  5533.622172355652\n"
     ]
    }
   ],
   "source": [
    "start = time.time()\n",
    "srcfile = \"vi_train\"\n",
    "tarfile = \"en_train\"\n",
    "lst_srcfile = vi_train\n",
    "lst_tarfile = en_train\n",
    "\n",
    "vec_lst_srcfile = model.encode(lst_srcfile)\n",
    "print('=== Ending, Total time (second): ', time.time() - start)"
   ]
  },
  {
   "cell_type": "markdown",
   "metadata": {},
   "source": [
    "Test Cosin similarity"
   ]
  },
  {
   "cell_type": "code",
   "execution_count": 10,
   "metadata": {
    "scrolled": true
   },
   "outputs": [
    {
     "name": "stdout",
     "output_type": "stream",
     "text": [
      "=== Ending, Total time (second):  4194.028205394745\n",
      "803200\n",
      "803200\n",
      "[[     0 746661 164755 102212 320461 362756]\n",
      " [     1 474683 442306 147156 323581  79135]\n",
      " [     2 185749 279517 374097 238361 118951]\n",
      " ...\n",
      " [803197 229860 211180 174635 324031 119032]\n",
      " [803198  99432  89647 768526 620014 190710]\n",
      " [112858 803199 387796 404804 265249 119586]]\n",
      "[[4.7683716e-07 6.1151981e-03 3.9579630e-02 4.1592479e-02 4.2745113e-02\n",
      "  4.3224692e-02]\n",
      " [0.0000000e+00 5.2904963e-02 5.7109237e-02 5.7109475e-02 5.8486104e-02\n",
      "  5.8486223e-02]\n",
      " [0.0000000e+00 0.0000000e+00 0.0000000e+00 0.0000000e+00 0.0000000e+00\n",
      "  0.0000000e+00]\n",
      " ...\n",
      " [0.0000000e+00 2.2019863e-02 3.1281948e-02 3.1281948e-02 3.1281948e-02\n",
      "  3.1281948e-02]\n",
      " [0.0000000e+00 1.7808914e-02 1.9705892e-02 2.0296335e-02 2.2725224e-02\n",
      "  2.7722716e-02]\n",
      " [0.0000000e+00 0.0000000e+00 1.1308074e-01 1.2793410e-01 1.5686762e-01\n",
      "  1.5776348e-01]]\n"
     ]
    }
   ],
   "source": [
    "import faiss\n",
    "# print(vec_lst_srcfile.shape[1])\n",
    "start = time.time()\n",
    "index = faiss.IndexFlatL2(vec_lst_srcfile.shape[1])\n",
    "index.ntotal\n",
    "faiss.normalize_L2(vec_lst_srcfile)\n",
    "index.add(vec_lst_srcfile)\n",
    "k = 6\n",
    "distance, index = index.search(vec_lst_srcfile, k)\n",
    "\n",
    "print('=== Ending, Total time (second): ', time.time() - start)\n",
    "print(len(distance))\n",
    "print(len(index))\n",
    "\n",
    "print(index)\n",
    "print(distance)"
   ]
  },
  {
   "cell_type": "code",
   "execution_count": 11,
   "metadata": {},
   "outputs": [
    {
     "name": "stdout",
     "output_type": "stream",
     "text": [
      "index: 362756 distance: 0.043224692 tested: 0.043224446\n",
      "index: 79135 distance: 0.058486223 tested: 0.05848638\n",
      "index: 118951 distance: 0.0 tested: 0.0\n",
      "index: 29136 distance: 0.0 tested: 0.0\n",
      "index: 429624 distance: 0.06252098 tested: 0.062521\n",
      "index: 274120 distance: 0.14807916 tested: 0.1480794\n",
      "index: 288843 distance: 0.34693933 tested: 0.3469394\n",
      "index: 130918 distance: 0.062124252 tested: 0.062124353\n",
      "index: 198135 distance: 0.046062827 tested: 0.0460632\n",
      "index: 357182 distance: 0.10263455 tested: 0.10263466\n"
     ]
    }
   ],
   "source": [
    "j = k-1\n",
    "# TEST\n",
    "for i in range(10):\n",
    "    a = vec_lst_srcfile[i]\n",
    "    b = vec_lst_srcfile[index[i][j]]\n",
    "    dist_squared = np.sum(np.square(a - b))\n",
    "    print(\"index:\",index[i][j], \"distance:\",distance[i][j], \"tested:\",dist_squared)"
   ]
  },
  {
   "cell_type": "code",
   "execution_count": 12,
   "metadata": {
    "scrolled": true
   },
   "outputs": [
    {
     "name": "stdout",
     "output_type": "stream",
     "text": [
      "threshold = 0.9 EM sentences = 1125 / 803200 0.0014006474103585658 %\n",
      "threshold = 0.8 EM sentences = 2447 / 803200 0.0030465637450199203 %\n",
      "threshold = 0.7 EM sentences = 4604 / 803200 0.00573207171314741 %\n",
      "threshold = 0.6 EM sentences = 8245 / 803200 0.010265189243027889 %\n",
      "=== Ending, Total time (second):  27.676761627197266\n"
     ]
    }
   ],
   "source": [
    "start = time.time()\n",
    "saperate = \" || \"\n",
    "\n",
    "src_label = \"S\"\n",
    "emb_label = \"E\"\n",
    "thres_arr = [0.9, 0.8, 0.7, 0.6]\n",
    "for i in range(len(thres_arr)):\n",
    "    threshold = thres_arr[i]\n",
    "    out_file_write = open(\"vi_train_EM_\"+str(thres_arr[i]), 'w')\n",
    "    out_file_write_score = open(\"vi_train_EM_score_\"+str(thres_arr[i]), 'w')\n",
    "    out_file_write_factor = open(\"vi_train_EM_factor_\"+str(thres_arr[i]), 'w')\n",
    "    num_gth_thres = 0\n",
    "\n",
    "    for i in range(len(lst_srcfile)):\n",
    "        score = distance[i][1]\n",
    "        content = \"\"\n",
    "        content_label_arr = []\n",
    "        if score >= threshold:\n",
    "            num_gth_thres += 1\n",
    "            best_simi_index = index[i][1]\n",
    "            content = lst_srcfile[i] + saperate + lst_tarfile[best_simi_index]\n",
    "\n",
    "            content_label = [src_label] * len(lst_srcfile[i].split())\n",
    "            content_label.append(emb_label)\n",
    "            content_label = content_label + [emb_label] * len(lst_tarfile[best_simi_index].split())\n",
    "\n",
    "            content_label_arr = \" \".join(content_label)\n",
    "        else:\n",
    "            content = lst_srcfile[i]\n",
    "            content_label = [src_label] * len(lst_srcfile[i].split())\n",
    "            content_label_arr = \" \".join(content_label)\n",
    "\n",
    "        out_file_write.writelines(content+ \"\\n\")    \n",
    "        out_file_write_factor.writelines(content_label_arr + \"\\n\")\n",
    "        out_file_write_score.writelines(str(score) + \"\\n\")\n",
    "\n",
    "    print('threshold =', threshold, \"EM sentences =\", num_gth_thres, \"/\", len(lst_srcfile), num_gth_thres/len(lst_srcfile), \"%\" )\n",
    "\n",
    "    out_file_write.close()\n",
    "    out_file_write_score.close()\n",
    "    out_file_write_factor.close()\n",
    "\n",
    "done = time.time()\n",
    "elapsed = done - start\n",
    "print('=== Ending, Total time (second): ', elapsed)"
   ]
  },
  {
   "cell_type": "code",
   "execution_count": null,
   "metadata": {},
   "outputs": [],
   "source": []
  }
 ],
 "metadata": {
  "kernelspec": {
   "display_name": "Python 3",
   "language": "python",
   "name": "python3"
  },
  "language_info": {
   "codemirror_mode": {
    "name": "ipython",
    "version": 3
   },
   "file_extension": ".py",
   "mimetype": "text/x-python",
   "name": "python",
   "nbconvert_exporter": "python",
   "pygments_lexer": "ipython3",
   "version": "3.8.5"
  }
 },
 "nbformat": 4,
 "nbformat_minor": 4
}
