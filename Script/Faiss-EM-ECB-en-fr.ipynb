{
 "cells": [
  {
   "cell_type": "markdown",
   "metadata": {},
   "source": [
    "INSTALL\n",
    "- FAISS - \n",
    "- Sent2Vec"
   ]
  },
  {
   "cell_type": "code",
   "execution_count": 1,
   "metadata": {},
   "outputs": [],
   "source": [
    "import numpy as np\n",
    "import faiss   "
   ]
  },
  {
   "cell_type": "code",
   "execution_count": 2,
   "metadata": {},
   "outputs": [
    {
     "name": "stdout",
     "output_type": "stream",
     "text": [
      "/home/chinh/clc_data/Script/Faiss-EM-ECB-en-fr20210305-0918\r\n"
     ]
    }
   ],
   "source": [
    "import os\n",
    "import time\n",
    "name = \"Faiss-EM-ECB-en-fr\"+ str(time.strftime(\"%Y%m%d-%H%M\"))\n",
    "\n",
    "!mkdir $name\n",
    "path = os.getcwd() + \"/\" + name\n",
    "os.chdir(path)\n",
    "\n",
    "!pwd\n",
    "os.chdir(path)"
   ]
  },
  {
   "cell_type": "code",
   "execution_count": 3,
   "metadata": {},
   "outputs": [
    {
     "name": "stdout",
     "output_type": "stream",
     "text": [
      "--2021-03-05 09:18:30--  https://github.com/hoangtrungchinh/clc_data/raw/master/ecb-en-fr.txt.zip\n",
      "Resolving github.com (github.com)... 52.74.223.119\n",
      "Connecting to github.com (github.com)|52.74.223.119|:443... connected.\n",
      "HTTP request sent, awaiting response... 302 Found\n",
      "Location: https://raw.githubusercontent.com/hoangtrungchinh/clc_data/master/ecb-en-fr.txt.zip [following]\n",
      "--2021-03-05 09:18:31--  https://raw.githubusercontent.com/hoangtrungchinh/clc_data/master/ecb-en-fr.txt.zip\n",
      "Resolving raw.githubusercontent.com (raw.githubusercontent.com)... 185.199.110.133, 185.199.109.133, 185.199.108.133, ...\n",
      "Connecting to raw.githubusercontent.com (raw.githubusercontent.com)|185.199.110.133|:443... connected.\n",
      "HTTP request sent, awaiting response... 200 OK\n",
      "Length: 18865629 (18M) [application/zip]\n",
      "Saving to: ‘ecb-en-fr.txt.zip’\n",
      "\n",
      "ecb-en-fr.txt.zip   100%[===================>]  17,99M  5,44MB/s    in 3,5s    \n",
      "\n",
      "2021-03-05 09:18:34 (5,20 MB/s) - ‘ecb-en-fr.txt.zip’ saved [18865629/18865629]\n",
      "\n",
      "Archive:  ecb-en-fr.txt.zip\n",
      "  inflating: data_bin/ECB.en-fr.en   \n",
      "  inflating: data_bin/ECB.en-fr.fr   \n",
      "  inflating: data_bin/ECB.en-fr.ids  \n",
      "  inflating: data_bin/README         \n"
     ]
    }
   ],
   "source": [
    "!wget https://github.com/hoangtrungchinh/clc_data/raw/master/ecb-en-fr.txt.zip\n",
    "!mkdir data_bin\n",
    "!unzip 'ecb-en-fr.txt.zip' -d 'data_bin'"
   ]
  },
  {
   "cell_type": "code",
   "execution_count": 4,
   "metadata": {},
   "outputs": [
    {
     "name": "stdout",
     "output_type": "stream",
     "text": [
      "['data_bin/ECB.en-fr.en']\n",
      "['data_bin/ECB.en-fr.fr']\n",
      "195960\n",
      "195960\n"
     ]
    }
   ],
   "source": [
    "# import file\n",
    "import numpy as np\n",
    "import glob\n",
    "\n",
    "en_files = sorted(glob.glob(\"data_bin/*.en\"))\n",
    "fr_files = sorted(glob.glob(\"data_bin/*.fr\"))\n",
    "print(en_files)\n",
    "print(fr_files)\n",
    "\n",
    "lst_en = []\n",
    "lst_fr = []\n",
    "\n",
    "start = time.time()\n",
    "\n",
    "for file in en_files:\n",
    "  with open(file) as file_in:\n",
    "    for line in file_in:\n",
    "      lst_en.append(line.strip())\n",
    "\n",
    "for file in fr_files:\n",
    "  with open(file) as file_in:\n",
    "    for line in file_in:\n",
    "      lst_fr.append(line.strip())\n",
    "\n",
    "print(len(lst_en))\n",
    "print(len(lst_fr))"
   ]
  },
  {
   "cell_type": "code",
   "execution_count": 5,
   "metadata": {
    "scrolled": true
   },
   "outputs": [
    {
     "name": "stdout",
     "output_type": "stream",
     "text": [
      "156768\n",
      "156768\n",
      "19596\n",
      "19596\n",
      "19596\n",
      "19596\n",
      "ECB / 2006/5\n",
      "BCE / 2006/5\n",
      "When the service-providing NCB receives a positive or negative acknowledgement from the receiving NCB / ECB it shall forward such an acknowledgement to the connected NCB . Transfer of responsibility for the execution of a payment order For cross-border payments initiated by a participant in the connected NCB 's RTGS system , responsibility for the execution of a payment order shall pass from the connected NCB to the service-providing NCB at the moment the connected NCB 's account with the service-providing NCB is debited , and thereafter it shall pass to the receiving NCB / ECB in accordance\n",
      "Transfert de responsabilité pour l' exécution d' un ordre de paiement Pour les paiements transfrontaliers émis par un participant au système RBTR de la BCN connectée , la responsabilité de l' exécution d' un ordre de paiement est transférée de la BCN connectée à la BCN prestataire de services , au moment où le compte de la BCN connectée auprès de la BCN prestataire de services est débité , et elle est ensuite transférée à la BCN / BCE réceptrice conformément à\n",
      "On average , the ECB drained Euros 143.8 billion per day via fine-tuning operations .\n",
      "En moyenne , la BCE a prélevé 143,8 milliards d' euros par jour par le biais d' opérations de réglage fin .\n"
     ]
    }
   ],
   "source": [
    "# SPLIT TRAIN, TEST, VALID\n",
    "from sklearn.model_selection import train_test_split\n",
    "en_train, en_test_valid, fr_train, fr_test_valid =  train_test_split(lst_en, lst_fr, test_size=0.2, random_state=123)\n",
    "en_valid, en_test, fr_valid, fr_test = train_test_split(en_test_valid, fr_test_valid, test_size=0.5, random_state=123)\n",
    "print(len(en_train))\n",
    "print(len(fr_train))\n",
    "print(len(en_valid))\n",
    "print(len(fr_valid))\n",
    "print(len(en_test))\n",
    "print(len(fr_test))\n",
    "print(en_train[20])\n",
    "print(fr_train[20])\n",
    "print(en_valid[-1])\n",
    "print(fr_valid[-1])\n",
    "print(en_test[-1])\n",
    "print(fr_test[-1])"
   ]
  },
  {
   "cell_type": "code",
   "execution_count": 6,
   "metadata": {},
   "outputs": [
    {
     "name": "stdout",
     "output_type": "stream",
     "text": [
      "total 87192\r\n",
      "drwxrwxr-x 3 chinh chinh     4096 Thg 3   5 09:20 .\r\n",
      "drwxrwxr-x 5 chinh chinh     4096 Thg 3   5 09:19 ..\r\n",
      "drwxrwxr-x 2 chinh chinh     4096 Thg 3   5 09:18 data_bin\r\n",
      "-rw-rw-r-- 1 chinh chinh 18865629 Thg 3   5 09:18 ecb-en-fr.txt.zip\r\n",
      "-rw-rw-r-- 1 chinh chinh  3262752 Thg 3   5 09:20 en_test\r\n",
      "-rw-rw-r-- 1 chinh chinh 25944504 Thg 3   5 09:20 en_train\r\n",
      "-rw-rw-r-- 1 chinh chinh  3208009 Thg 3   5 09:20 en_valid\r\n",
      "-rw-rw-r-- 1 chinh chinh  3798492 Thg 3   5 09:20 fr_test\r\n",
      "-rw-rw-r-- 1 chinh chinh 30424593 Thg 3   5 09:20 fr_train\r\n",
      "-rw-rw-r-- 1 chinh chinh  3754500 Thg 3   5 09:20 fr_valid\r\n"
     ]
    }
   ],
   "source": [
    "file_variable = [en_train,fr_train,en_valid,fr_valid,en_test,fr_test]\n",
    "file_names = [\"en_train\",\"fr_train\",\"en_valid\",\"fr_valid\",\"en_test\",\"fr_test\"]\n",
    "\n",
    "for i in range(len(file_names)):\n",
    "  with open(file_names[i], 'w') as f:\n",
    "    for item in file_variable[i]:\n",
    "      f.write(item)\n",
    "      f.write(\"\\n\")\n",
    "    \n",
    "!ls -al"
   ]
  },
  {
   "cell_type": "code",
   "execution_count": 7,
   "metadata": {},
   "outputs": [
    {
     "name": "stdout",
     "output_type": "stream",
     "text": [
      "=== Ending, Total time (second):  2.237156867980957\n"
     ]
    }
   ],
   "source": [
    "start = time.time()\n",
    "import sent2vec\n",
    "model = sent2vec.Sent2vecModel()\n",
    "model.load_model('../../../wiki_unigrams.bin')\n",
    "\n",
    "print('=== Ending, Total time (second): ', time.time() - start)"
   ]
  },
  {
   "cell_type": "code",
   "execution_count": 8,
   "metadata": {},
   "outputs": [
    {
     "name": "stdout",
     "output_type": "stream",
     "text": [
      "=== Ending, Total time (second):  1.0949366092681885\n"
     ]
    }
   ],
   "source": [
    "start = time.time()\n",
    "srcfile = \"en_train\"\n",
    "tarfile = \"fr_train\"\n",
    "lst_srcfile = en_train\n",
    "lst_tarfile = fr_train\n",
    "\n",
    "vec_lst_srcfile = model.embed_sentences(lst_srcfile)\n",
    "print('=== Ending, Total time (second): ', time.time() - start)"
   ]
  },
  {
   "cell_type": "markdown",
   "metadata": {},
   "source": [
    "Test Cosin similarity"
   ]
  },
  {
   "cell_type": "code",
   "execution_count": 9,
   "metadata": {
    "scrolled": true
   },
   "outputs": [
    {
     "name": "stdout",
     "output_type": "stream",
     "text": [
      "=== Ending, Total time (second):  84.76998233795166\n",
      "156768\n",
      "156768\n",
      "[[     0  80931  88493 109915  99819  38424]\n",
      " [     1  97476 130294 121189    896  79800]\n",
      " [     2  52203  61963 152892 124051  60662]\n",
      " ...\n",
      " [156765 131521 149402 124053  74169  87306]\n",
      " [156766   1200   2081 132448  44413   4274]\n",
      " [ 25656  99540 156767 112645  85733  50680]]\n",
      "[[2.3841858e-07 1.1861241e-01 2.0717204e-01 4.9055958e-01 5.1163995e-01\n",
      "  6.5848005e-01]\n",
      " [1.1920929e-07 3.4690642e-01 3.6197495e-01 3.6693537e-01 3.9221680e-01\n",
      "  4.0737975e-01]\n",
      " [0.0000000e+00 3.5041332e-01 3.5041332e-01 4.7909641e-01 4.7909641e-01\n",
      "  4.8441112e-01]\n",
      " ...\n",
      " [1.1920929e-07 2.4547136e-01 2.4547136e-01 2.6380062e-01 2.6419234e-01\n",
      "  2.6419234e-01]\n",
      " [0.0000000e+00 5.1288569e-01 5.1459229e-01 5.4631281e-01 6.3336837e-01\n",
      "  6.3634980e-01]\n",
      " [0.0000000e+00 0.0000000e+00 0.0000000e+00 1.1095762e-01 7.9572654e-01\n",
      "  8.2322824e-01]]\n"
     ]
    }
   ],
   "source": [
    "import faiss\n",
    "\n",
    "start = time.time()\n",
    "index = faiss.IndexFlatL2(vec_lst_srcfile.shape[1])\n",
    "index.ntotal\n",
    "faiss.normalize_L2(vec_lst_srcfile)\n",
    "index.add(vec_lst_srcfile)\n",
    "k = 6\n",
    "distance, index = index.search(vec_lst_srcfile, k)\n",
    "\n",
    "print('=== Ending, Total time (second): ', time.time() - start)\n",
    "print(len(distance))\n",
    "print(len(index))\n",
    "\n",
    "print(index)\n",
    "print(distance)"
   ]
  },
  {
   "cell_type": "code",
   "execution_count": 10,
   "metadata": {
    "scrolled": true
   },
   "outputs": [
    {
     "name": "stdout",
     "output_type": "stream",
     "text": [
      "index: 38424 distance: 0.65848005 tested: 0.65848017\n",
      "index: 79800 distance: 0.40737975 tested: 0.4073795\n",
      "index: 60662 distance: 0.48441112 tested: 0.4844109\n",
      "index: 121734 distance: 0.6218971 tested: 0.621897\n",
      "index: 47430 distance: 0.26732183 tested: 0.26732177\n",
      "index: 98424 distance: 0.15686142 tested: 0.1568611\n",
      "index: 145902 distance: 0.7232028 tested: 0.72320306\n",
      "index: 21958 distance: 0.9152571 tested: 0.91525733\n",
      "index: 30758 distance: 0.07613635 tested: 0.07613627\n",
      "index: 77002 distance: 0.17340136 tested: 0.17340136\n"
     ]
    }
   ],
   "source": [
    "j = k-1\n",
    "# TEST\n",
    "for i in range(10):\n",
    "    a = vec_lst_srcfile[i]\n",
    "    b = vec_lst_srcfile[index[i][j]]\n",
    "    dist_squared = np.sum(np.square(a - b))\n",
    "    print(\"index:\",index[i][j], \"distance:\",distance[i][j], \"tested:\",dist_squared)"
   ]
  },
  {
   "cell_type": "code",
   "execution_count": 11,
   "metadata": {},
   "outputs": [
    {
     "name": "stdout",
     "output_type": "stream",
     "text": [
      "threshold = 0.9 EM sentences = 3973 / 156768 0.02534318228209839 %\n",
      "threshold = 0.8 EM sentences = 11661 / 156768 0.0743838028169014 %\n",
      "threshold = 0.7 EM sentences = 23288 / 156768 0.14855072463768115 %\n",
      "threshold = 0.6 EM sentences = 36308 / 156768 0.23160338844662176 %\n",
      "=== Ending, Total time (second):  13.76828384399414\n"
     ]
    }
   ],
   "source": [
    "start = time.time()\n",
    "saperate = \" || \"\n",
    "\n",
    "src_label = \"S\"\n",
    "emb_label = \"E\"\n",
    "thres_arr = [0.9, 0.8, 0.7, 0.6]\n",
    "for i in range(len(thres_arr)):\n",
    "    threshold = thres_arr[i]\n",
    "    out_file_write = open(\"en_train_EM_\"+str(thres_arr[i]), 'w')\n",
    "    out_file_write_score = open(\"en_train_EM_score_\"+str(thres_arr[i]), 'w')\n",
    "    out_file_write_factor = open(\"en_train_EM_factor_\"+str(thres_arr[i]), 'w')\n",
    "    num_gth_thres = 0\n",
    "\n",
    "    for i in range(len(lst_srcfile)):\n",
    "        score = distance[i][1]\n",
    "        content = \"\"\n",
    "        content_label_arr = []\n",
    "        if score >= threshold:\n",
    "            num_gth_thres += 1\n",
    "            best_simi_index = index[i][1]\n",
    "            content = lst_srcfile[i] + saperate + lst_tarfile[best_simi_index]\n",
    "\n",
    "            content_label = [src_label] * len(lst_srcfile[i].split())\n",
    "            content_label.append(emb_label)\n",
    "            content_label = content_label + [emb_label] * len(lst_tarfile[best_simi_index].split())\n",
    "\n",
    "            content_label_arr = \" \".join(content_label)\n",
    "        else:\n",
    "            content = lst_srcfile[i]\n",
    "            content_label = [src_label] * len(lst_srcfile[i].split())\n",
    "            content_label_arr = \" \".join(content_label)\n",
    "\n",
    "        out_file_write.writelines(content+ \"\\n\")    \n",
    "        out_file_write_factor.writelines(content_label_arr + \"\\n\")\n",
    "        out_file_write_score.writelines(str(score) + \"\\n\")\n",
    "\n",
    "    print('threshold =', threshold, \"EM sentences =\", num_gth_thres, \"/\", len(lst_srcfile), num_gth_thres/len(lst_srcfile), \"%\" )\n",
    "\n",
    "    out_file_write.close()\n",
    "    out_file_write_score.close()\n",
    "    out_file_write_factor.close()\n",
    "\n",
    "done = time.time()\n",
    "elapsed = done - start\n",
    "print('=== Ending, Total time (second): ', elapsed)\n",
    "    \n"
   ]
  },
  {
   "cell_type": "code",
   "execution_count": null,
   "metadata": {},
   "outputs": [],
   "source": []
  }
 ],
 "metadata": {
  "kernelspec": {
   "display_name": "Python 3",
   "language": "python",
   "name": "python3"
  },
  "language_info": {
   "codemirror_mode": {
    "name": "ipython",
    "version": 3
   },
   "file_extension": ".py",
   "mimetype": "text/x-python",
   "name": "python",
   "nbconvert_exporter": "python",
   "pygments_lexer": "ipython3",
   "version": "3.8.5"
  }
 },
 "nbformat": 4,
 "nbformat_minor": 4
}
