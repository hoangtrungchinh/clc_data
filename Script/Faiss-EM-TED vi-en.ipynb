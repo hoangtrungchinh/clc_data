{
 "cells": [
  {
   "cell_type": "markdown",
   "metadata": {},
   "source": [
    "INSTALL\n",
    "- FAISS - \n",
    "- Sent2Vec"
   ]
  },
  {
   "cell_type": "code",
   "execution_count": 1,
   "metadata": {},
   "outputs": [],
   "source": [
    "import numpy as np\n",
    "import faiss   "
   ]
  },
  {
   "cell_type": "code",
   "execution_count": 2,
   "metadata": {},
   "outputs": [
    {
     "name": "stdout",
     "output_type": "stream",
     "text": [
      "/home/chinh/clc_data/Script/TED-20210225-1705\r\n"
     ]
    }
   ],
   "source": [
    "import os\n",
    "import time\n",
    "name = \"TED-\"+ str(time.strftime(\"%Y%m%d-%H%M\"))\n",
    "\n",
    "!mkdir $name\n",
    "path = os.getcwd() + \"/\" + name\n",
    "os.chdir(path)\n",
    "\n",
    "!pwd\n",
    "\n",
    "\n",
    "os.chdir(path)"
   ]
  },
  {
   "cell_type": "code",
   "execution_count": 3,
   "metadata": {},
   "outputs": [
    {
     "name": "stdout",
     "output_type": "stream",
     "text": [
      "--2021-02-25 17:05:07--  https://github.com/hoangtrungchinh/clc_data/raw/master/en_vi_iwslt.tar.gz\n",
      "Resolving github.com (github.com)... 52.74.223.119\n",
      "Connecting to github.com (github.com)|52.74.223.119|:443... connected.\n",
      "HTTP request sent, awaiting response... 302 Found\n",
      "Location: https://raw.githubusercontent.com/hoangtrungchinh/clc_data/master/en_vi_iwslt.tar.gz [following]\n",
      "--2021-02-25 17:05:07--  https://raw.githubusercontent.com/hoangtrungchinh/clc_data/master/en_vi_iwslt.tar.gz\n",
      "Resolving raw.githubusercontent.com (raw.githubusercontent.com)... 185.199.111.133, 185.199.109.133, 185.199.108.133, ...\n",
      "Connecting to raw.githubusercontent.com (raw.githubusercontent.com)|185.199.111.133|:443... connected.\n",
      "HTTP request sent, awaiting response... 200 OK\n",
      "Length: 9044100 (8,6M) [application/octet-stream]\n",
      "Saving to: ‘en_vi_iwslt.tar.gz’\n",
      "\n",
      "en_vi_iwslt.tar.gz  100%[===================>]   8,62M  1,10MB/s    in 8,5s    \n",
      "\n",
      "2021-02-25 17:05:16 (1,02 MB/s) - ‘en_vi_iwslt.tar.gz’ saved [9044100/9044100]\n",
      "\n",
      "IWSLT15.TED.tst2013.en-vi.en\n",
      "IWSLT15.TED.tst2013.en-vi.vi\n",
      "IWSLT15.TED.tst2012.en-vi.en\n",
      "IWSLT15.TED.tst2012.en-vi.vi\n",
      "train.en\n",
      "train.vi\n",
      "IWSLT15.TED.tst2015.en-vi.en\n",
      "IWSLT15.TED.tst2015.en-vi.vi\n"
     ]
    }
   ],
   "source": [
    "!wget https://github.com/hoangtrungchinh/clc_data/raw/master/en_vi_iwslt.tar.gz\n",
    "!mkdir data_bin\n",
    "!tar -xvf  'en_vi_iwslt.tar.gz' -C 'data_bin'"
   ]
  },
  {
   "cell_type": "code",
   "execution_count": 4,
   "metadata": {},
   "outputs": [
    {
     "name": "stdout",
     "output_type": "stream",
     "text": [
      "['data_bin/IWSLT15.TED.tst2012.en-vi.en', 'data_bin/IWSLT15.TED.tst2013.en-vi.en', 'data_bin/IWSLT15.TED.tst2015.en-vi.en', 'data_bin/train.en']\n",
      "['data_bin/IWSLT15.TED.tst2012.en-vi.vi', 'data_bin/IWSLT15.TED.tst2013.en-vi.vi', 'data_bin/IWSLT15.TED.tst2015.en-vi.vi', 'data_bin/train.vi']\n",
      "120956\n",
      "120956\n"
     ]
    }
   ],
   "source": [
    "# import file\n",
    "import numpy as np\n",
    "import glob\n",
    "\n",
    "en_files = sorted(glob.glob(\"data_bin/*.en\"))\n",
    "vi_files = sorted(glob.glob(\"data_bin/*.vi\"))\n",
    "print(en_files)\n",
    "print(vi_files)\n",
    "\n",
    "lst_en = []\n",
    "lst_vi = []\n",
    "\n",
    "start = time.time()\n",
    "\n",
    "for file in en_files:\n",
    "  with open(file) as file_in:\n",
    "    for line in file_in:\n",
    "      lst_en.append(line)\n",
    "\n",
    "for file in vi_files:\n",
    "  with open(file) as file_in:\n",
    "    for line in file_in:\n",
    "      lst_vi.append(line)\n",
    "\n",
    "print(len(lst_en))\n",
    "print(len(lst_vi))"
   ]
  },
  {
   "cell_type": "code",
   "execution_count": 5,
   "metadata": {
    "scrolled": true
   },
   "outputs": [
    {
     "name": "stdout",
     "output_type": "stream",
     "text": [
      "96764\n",
      "96764\n",
      "12096\n",
      "12096\n",
      "12096\n",
      "12096\n",
      "And , in fact , when we did some experiments looking at this , what we found is that 46 percent of the variation in how many friends you have is explained by your genes .\n",
      "\n",
      "Trong thực tế , khi thực hiện một vài thí nghiệm nghiên cứu vấn đề này , chúng tôi nhận ra 46 % sự khác biệt trong số bạn bè của bạn được giải thích bằng gen của bạn .\n",
      "\n",
      "This is a chart of what it looked like when it first became popular last summer .\n",
      "\n",
      "Đây là biểu đồ thể hiện điều đó khi video này lần đầu tiên trở nên phổ biến vào mùa hè trước .\n",
      "\n",
      "And what will happen in the future ?\n",
      "\n",
      "Chuyện gì sẽ xảy ra trong tương lai ?\n",
      "\n"
     ]
    }
   ],
   "source": [
    "# SPLIT TRAIN, TEST, VALID\n",
    "from sklearn.model_selection import train_test_split\n",
    "en_train, en_test_valid, vi_train, vi_test_valid =  train_test_split(lst_en, lst_vi, test_size=0.2, random_state=123)\n",
    "en_valid, en_test, vi_valid, vi_test = train_test_split(en_test_valid, vi_test_valid, test_size=0.5, random_state=123)\n",
    "print(len(en_train))\n",
    "print(len(vi_train))\n",
    "print(len(en_valid))\n",
    "print(len(vi_valid))\n",
    "print(len(en_test))\n",
    "print(len(vi_test))\n",
    "print(en_train[20])\n",
    "print(vi_train[20])\n",
    "print(en_valid[-1])\n",
    "print(vi_valid[-1])\n",
    "print(en_test[-1])\n",
    "print(vi_test[-1])"
   ]
  },
  {
   "cell_type": "code",
   "execution_count": 6,
   "metadata": {},
   "outputs": [
    {
     "name": "stdout",
     "output_type": "stream",
     "text": [
      "total 36844\r\n",
      "drwxrwxr-x 3 chinh chinh     4096 Thg 2  25 17:05 .\r\n",
      "drwxrwxr-x 4 chinh chinh     4096 Thg 2  25 17:05 ..\r\n",
      "drwxrwxr-x 2 chinh chinh     4096 Thg 2  25 17:05 data_bin\r\n",
      "-rw-rw-r-- 1 chinh chinh  1260181 Thg 2  25 17:05 en_test\r\n",
      "-rw-rw-r-- 1 chinh chinh 10011509 Thg 2  25 17:05 en_train\r\n",
      "-rw-rw-r-- 1 chinh chinh  1249342 Thg 2  25 17:05 en_valid\r\n",
      "-rw-rw-r-- 1 chinh chinh  9044100 Thg 2  25 17:05 en_vi_iwslt.tar.gz\r\n",
      "-rw-rw-r-- 1 chinh chinh  1624771 Thg 2  25 17:05 vi_test\r\n",
      "-rw-rw-r-- 1 chinh chinh 12896000 Thg 2  25 17:05 vi_train\r\n",
      "-rw-rw-r-- 1 chinh chinh  1609835 Thg 2  25 17:05 vi_valid\r\n"
     ]
    }
   ],
   "source": [
    "file_variable = [en_train,vi_train,en_valid,vi_valid,en_test,vi_test]\n",
    "file_names = [\"en_train\",\"vi_train\",\"en_valid\",\"vi_valid\",\"en_test\",\"vi_test\"]\n",
    "\n",
    "for i in range(len(file_names)):\n",
    "  with open(file_names[i], 'w') as f:\n",
    "    for item in file_variable[i]:\n",
    "      f.write(item)\n",
    "!ls -al"
   ]
  },
  {
   "cell_type": "code",
   "execution_count": 7,
   "metadata": {},
   "outputs": [
    {
     "name": "stdout",
     "output_type": "stream",
     "text": [
      "=== Ending, Total time (second):  2.1098673343658447\n"
     ]
    }
   ],
   "source": [
    "start = time.time()\n",
    "import sent2vec\n",
    "model = sent2vec.Sent2vecModel()\n",
    "model.load_model('../../../wiki_unigrams.bin')\n",
    "\n",
    "print('=== Ending, Total time (second): ', time.time() - start)"
   ]
  },
  {
   "cell_type": "code",
   "execution_count": 8,
   "metadata": {},
   "outputs": [],
   "source": [
    "srcfile = \"vi_train\"\n",
    "tarfile = \"en_train\"\n",
    "# lst_srcfile = open(srcfile, \"r\").readlines()\n",
    "# lst_tarfile = open(tarfile, \"r\").readlines()\n",
    "lst_srcfile = vi_train\n",
    "lst_tarfile = en_train\n",
    "\n",
    "vec_lst_srcfile = model.embed_sentences(lst_srcfile)"
   ]
  },
  {
   "cell_type": "markdown",
   "metadata": {},
   "source": [
    "Test Cosin similarity"
   ]
  },
  {
   "cell_type": "code",
   "execution_count": 9,
   "metadata": {
    "scrolled": true
   },
   "outputs": [
    {
     "name": "stdout",
     "output_type": "stream",
     "text": [
      "=== Ending, Total time (second):  30.133038997650146\n",
      "96764\n",
      "96764\n",
      "[[    0 24974 16540 29928 78452 67635]\n",
      " [    1 92468 10524 65096 43509 67425]\n",
      " [    2  6667 44281 72560  9804 60254]\n",
      " ...\n",
      " [96761 47352 60425 69693 13151  6910]\n",
      " [96762 82612 15782 61073 38233  2934]\n",
      " [   47    96   183   271    46    28]]\n",
      "[[0.0000000e+00 3.0174375e-01 3.0174375e-01 3.0174375e-01 3.0573297e-01\n",
      "  3.0772603e-01]\n",
      " [4.7683716e-07 1.7269063e-01 1.7269063e-01 1.7269063e-01 1.9397974e-01\n",
      "  1.9412506e-01]\n",
      " [0.0000000e+00 1.7876124e-01 3.0202234e-01 3.0584693e-01 3.1188440e-01\n",
      "  3.2952094e-01]\n",
      " ...\n",
      " [0.0000000e+00 7.7144980e-02 8.1669092e-02 8.9680672e-02 9.1209531e-02\n",
      "  9.7134233e-02]\n",
      " [0.0000000e+00 9.2331767e-02 1.8194175e-01 1.9165027e-01 1.9634044e-01\n",
      "  2.1067023e-01]\n",
      " [0.0000000e+00 0.0000000e+00 0.0000000e+00 0.0000000e+00 0.0000000e+00\n",
      "  0.0000000e+00]]\n"
     ]
    }
   ],
   "source": [
    "import faiss\n",
    "\n",
    "start = time.time()\n",
    "vec_lst_srcfile = model.embed_sentences(lst_srcfile)\n",
    "vec_lst_srcfile2 = model.embed_sentences(lst_srcfile)\n",
    "x = vec_lst_srcfile\n",
    "q = vec_lst_srcfile2\n",
    "index = faiss.IndexFlatL2(600)\n",
    "# index = faiss.index_factory(3, \"Flat\", faiss.METRIC_INNER_PRODUCT)\n",
    "index.ntotal\n",
    "faiss.normalize_L2(x)\n",
    "index.add(x)\n",
    "faiss.normalize_L2(q)\n",
    "k = 6\n",
    "distance, index = index.search(q, k)\n",
    "\n",
    "print('=== Ending, Total time (second): ', time.time() - start)\n",
    "print(len(distance))\n",
    "print(len(index))\n",
    "\n",
    "print(index)\n",
    "print(distance)"
   ]
  },
  {
   "cell_type": "code",
   "execution_count": 10,
   "metadata": {},
   "outputs": [
    {
     "name": "stdout",
     "output_type": "stream",
     "text": [
      "887\n",
      "==================================\n",
      "0.1174556\n",
      "0.11745526\n"
     ]
    }
   ],
   "source": [
    "i = 6\n",
    "j = k-1\n",
    "print(index[i][j])\n",
    "print(\"==================================\")\n",
    "print(distance[i][j])\n",
    "a = vec_lst_srcfile[i]\n",
    "# print(a)\n",
    "b = vec_lst_srcfile[index[i][j]]\n",
    "# TEST\n",
    "dist_squared = np.sum(np.square(a - b))\n",
    "print(dist_squared)"
   ]
  },
  {
   "cell_type": "code",
   "execution_count": 11,
   "metadata": {},
   "outputs": [
    {
     "name": "stdout",
     "output_type": "stream",
     "text": [
      "Cứ như thể là chàng ca sĩ đang ngồi ngay cạnh bạn , thì thầm điều gì đó vào tai bạn .\n",
      "22\n",
      "22\n",
      "======================\n",
      "Chúng sẽ nhanh chóng hỏng nếu không được bảo quản . Và nếu không có nguồn điện lưới ổn định , vắc xin hỏng dẫn đến trẻ em tử vong .\n",
      "31\n",
      "31\n",
      "======================\n",
      "Bây giờ cho phép tôi hỏi các bạn câu hỏi này : Tuần trước tại TED , bao nhiêu trong số các bạn khi thấy tính dễ bị tổn thương dâng cao ở đây , nghĩ rằng nó chính là sự can đảm ?\n",
      "44\n",
      "44\n",
      "======================\n",
      "Tài liệu lưu trữ của tôi gồm : 175 bộ film , âm bản 16mm tất cả những cuốn sách của tôi , của bố tôi , || So the team that was the poorest had gotten even poorer .\n",
      "40\n",
      "40\n",
      "======================\n",
      "Vài tuần trước khi chúng tôi bầu chọn , Đại Học Lake Superior State công bố danh sách những từ bị truất của năm\n",
      "24\n",
      "24\n",
      "======================\n",
      "Chính bạn và tôi là những người tạo nên số phận của chúng ta Chính chúng ta mở ra hay đóng lại cánh cửa trên con đường trước mặt hay con đường sau lưng . &quot;\n",
      "36\n",
      "36\n",
      "======================\n",
      "Cuộc thí nghiệm này diễn ra vào khoảng vài năm trước , xê dịch với lạm phát thì đây là một khoản tiền lớn so với vài phút làm việc .\n",
      "31\n",
      "31\n",
      "======================\n",
      "Bạn muốn tôi trả tiền vay như thế nào đây ? &quot;\n",
      "12\n",
      "12\n",
      "======================\n",
      "Nhưng những đứa trẻ Đài Loan cho kết quả tốt hơn chứ không phải những đứa trẻ Mỹ .\n",
      "19\n",
      "19\n",
      "======================\n",
      "Ông bị đau tim .\n",
      "5\n",
      "5\n",
      "======================\n",
      "=== Ending, Total time (second):  1.4646377563476562\n"
     ]
    }
   ],
   "source": [
    "start = time.time()\n",
    "saperate = \" || \"\n",
    "threshold = 0.8\n",
    "src_label = \"S\"\n",
    "emb_label = \"E\"\n",
    "\n",
    "out_file_write = open(\"vi_train_EM\", 'w')\n",
    "out_file_write_score = open(\"vi_train_EM_score\", 'w')\n",
    "out_file_write_factor = open(\"vi_train_EM_factor\", 'w')\n",
    "\n",
    "for i in range(len(lst_srcfile)):\n",
    "    score = distance[i][1]\n",
    "    content = \"\"\n",
    "    content_label_arr = []\n",
    "    if score >= threshold:\n",
    "        best_simi_index = index[i][1]\n",
    "        content = lst_srcfile[i].strip() + saperate + lst_tarfile[best_simi_index].strip()\n",
    "        \n",
    "        content_label = [src_label] * len(lst_srcfile[i].split())\n",
    "        content_label.append(emb_label)\n",
    "        content_label = content_label + [emb_label] * len(lst_tarfile[best_simi_index].split())\n",
    "        \n",
    "        content_label_arr = \" \".join(content_label)\n",
    "        \n",
    "        \n",
    "   \n",
    "    else:\n",
    "        content = lst_srcfile[i].strip()\n",
    "        content_label = [src_label] * len(lst_srcfile[i].split())\n",
    "        content_label_arr = \" \".join(content_label)\n",
    "        \n",
    "        \n",
    "    if i<10:\n",
    "        print(content)\n",
    "        print(len(content.split()))  \n",
    "        print(len(content_label))\n",
    "        print(\"======================\")\n",
    "        \n",
    "\n",
    "    out_file_write.writelines(content+ \"\\n\")    \n",
    "    out_file_write_factor.writelines(content_label_arr + \"\\n\")\n",
    "    out_file_write_score.writelines(str(score) + \"\\n\")\n",
    "        \n",
    "\n",
    "out_file_write.close()\n",
    "\n",
    "done = time.time()\n",
    "elapsed = done - start\n",
    "print('=== Ending, Total time (second): ', elapsed)"
   ]
  },
  {
   "cell_type": "code",
   "execution_count": null,
   "metadata": {},
   "outputs": [],
   "source": []
  }
 ],
 "metadata": {
  "kernelspec": {
   "display_name": "Python 3",
   "language": "python",
   "name": "python3"
  },
  "language_info": {
   "codemirror_mode": {
    "name": "ipython",
    "version": 3
   },
   "file_extension": ".py",
   "mimetype": "text/x-python",
   "name": "python",
   "nbconvert_exporter": "python",
   "pygments_lexer": "ipython3",
   "version": "3.8.5"
  }
 },
 "nbformat": 4,
 "nbformat_minor": 4
}
