{
 "cells": [
  {
   "cell_type": "markdown",
   "metadata": {},
   "source": [
    "INSTALL\n",
    "- FAISS - \n",
    "- Sent2Vec"
   ]
  },
  {
   "cell_type": "code",
   "execution_count": 1,
   "metadata": {},
   "outputs": [],
   "source": [
    "import numpy as np\n",
    "import faiss   "
   ]
  },
  {
   "cell_type": "code",
   "execution_count": 2,
   "metadata": {},
   "outputs": [
    {
     "name": "stdout",
     "output_type": "stream",
     "text": [
      "/home/chinh/clc_data/Script/Statistic-Faiss-EM-TED-en-vi20210303-1549\r\n"
     ]
    }
   ],
   "source": [
    "import os\n",
    "import time\n",
    "name = \"Statistic-Faiss-EM-TED-en-vi\"+ str(time.strftime(\"%Y%m%d-%H%M\"))\n",
    "\n",
    "!mkdir $name\n",
    "path = os.getcwd() + \"/\" + name\n",
    "os.chdir(path)\n",
    "\n",
    "!pwd\n",
    "\n",
    "\n",
    "os.chdir(path)"
   ]
  },
  {
   "cell_type": "code",
   "execution_count": 3,
   "metadata": {},
   "outputs": [
    {
     "name": "stdout",
     "output_type": "stream",
     "text": [
      "--2021-03-03 15:49:18--  https://github.com/hoangtrungchinh/clc_data/raw/master/en_vi_iwslt.tar.gz\n",
      "Resolving github.com (github.com)... 13.250.177.223\n",
      "Connecting to github.com (github.com)|13.250.177.223|:443... connected.\n",
      "HTTP request sent, awaiting response... 302 Found\n",
      "Location: https://raw.githubusercontent.com/hoangtrungchinh/clc_data/master/en_vi_iwslt.tar.gz [following]\n",
      "--2021-03-03 15:49:19--  https://raw.githubusercontent.com/hoangtrungchinh/clc_data/master/en_vi_iwslt.tar.gz\n",
      "Resolving raw.githubusercontent.com (raw.githubusercontent.com)... 185.199.111.133, 185.199.109.133, 185.199.110.133, ...\n",
      "Connecting to raw.githubusercontent.com (raw.githubusercontent.com)|185.199.111.133|:443... connected.\n",
      "HTTP request sent, awaiting response... 200 OK\n",
      "Length: 9044100 (8,6M) [application/octet-stream]\n",
      "Saving to: ‘en_vi_iwslt.tar.gz’\n",
      "\n",
      "en_vi_iwslt.tar.gz  100%[===================>]   8,62M  6,39MB/s    in 1,4s    \n",
      "\n",
      "2021-03-03 15:49:22 (6,39 MB/s) - ‘en_vi_iwslt.tar.gz’ saved [9044100/9044100]\n",
      "\n",
      "IWSLT15.TED.tst2013.en-vi.en\n",
      "IWSLT15.TED.tst2013.en-vi.vi\n",
      "IWSLT15.TED.tst2012.en-vi.en\n",
      "IWSLT15.TED.tst2012.en-vi.vi\n",
      "train.en\n",
      "train.vi\n",
      "IWSLT15.TED.tst2015.en-vi.en\n",
      "IWSLT15.TED.tst2015.en-vi.vi\n"
     ]
    }
   ],
   "source": [
    "!wget https://github.com/hoangtrungchinh/clc_data/raw/master/en_vi_iwslt.tar.gz\n",
    "!mkdir data_bin\n",
    "!tar -xvf  'en_vi_iwslt.tar.gz' -C 'data_bin'"
   ]
  },
  {
   "cell_type": "code",
   "execution_count": 4,
   "metadata": {},
   "outputs": [
    {
     "name": "stdout",
     "output_type": "stream",
     "text": [
      "['data_bin/IWSLT15.TED.tst2012.en-vi.en', 'data_bin/IWSLT15.TED.tst2013.en-vi.en', 'data_bin/IWSLT15.TED.tst2015.en-vi.en', 'data_bin/train.en']\n",
      "['data_bin/IWSLT15.TED.tst2012.en-vi.vi', 'data_bin/IWSLT15.TED.tst2013.en-vi.vi', 'data_bin/IWSLT15.TED.tst2015.en-vi.vi', 'data_bin/train.vi']\n",
      "120956\n",
      "120956\n"
     ]
    }
   ],
   "source": [
    "# import file\n",
    "import numpy as np\n",
    "import glob\n",
    "\n",
    "en_files = sorted(glob.glob(\"data_bin/*.en\"))\n",
    "vi_files = sorted(glob.glob(\"data_bin/*.vi\"))\n",
    "print(en_files)\n",
    "print(vi_files)\n",
    "\n",
    "lst_en = []\n",
    "lst_vi = []\n",
    "\n",
    "start = time.time()\n",
    "\n",
    "for file in en_files:\n",
    "  with open(file) as file_in:\n",
    "    for line in file_in:\n",
    "      lst_en.append(line)\n",
    "\n",
    "for file in vi_files:\n",
    "  with open(file) as file_in:\n",
    "    for line in file_in:\n",
    "      lst_vi.append(line)\n",
    "\n",
    "print(len(lst_en))\n",
    "print(len(lst_vi))"
   ]
  },
  {
   "cell_type": "code",
   "execution_count": 34,
   "metadata": {},
   "outputs": [
    {
     "name": "stdout",
     "output_type": "stream",
     "text": [
      "Sents_en =  120956\n",
      "Sents_vi =  120956\n",
      "L_mean_en = 20.762409471212674\n",
      "L_mean_vi = 24.4882767287278\n",
      "Vocab_en = 51443\n",
      "Vocab_vi = 27340\n"
     ]
    }
   ],
   "source": [
    "print(\"Sents_en = \", len(lst_en))\n",
    "print(\"Sents_vi = \", len(lst_vi))\n",
    "\n",
    "L_mean_en = (sum([len(sen.split(\" \")) for sen in lst_en]))/len(lst_en)\n",
    "print(\"L_mean_en =\",L_mean_en)\n",
    "\n",
    "L_mean_vi = (sum([len(sen.split(\" \")) for sen in lst_vi]))/len(lst_vi)\n",
    "print(\"L_mean_vi =\",L_mean_vi)\n",
    "\n",
    "Vocab_en = (\" \".join(lst_en)).split(\" \")  \n",
    "print(\"Vocab_en =\",len(set(Vocab_en)))\n",
    "\n",
    "Vocab_vi = (\" \".join(lst_vi)).split(\" \")  \n",
    "print(\"Vocab_vi =\",len(set(Vocab_vi)))"
   ]
  },
  {
   "cell_type": "code",
   "execution_count": 1,
   "metadata": {},
   "outputs": [
    {
     "name": "stdout",
     "output_type": "stream",
     "text": [
      "21170 14910 20225 20093 13604 6762\n",
      "0.21877971146294076 0.1540862304162705 0.2090136827745856 0.2076495390847836 0.14058947542474473 0.0698813608366748\n"
     ]
    }
   ],
   "source": [
    "path = \"/home/chinh/clc_data/Script/Faiss-EM-TED-bert-en-vi-0.999-20210315-1136/en_train_EM_score_0.999\"\n",
    "lst_score = []\n",
    "\n",
    "with open(path) as file_in:\n",
    "    for line in file_in:\n",
    "        lst_score.append(line.strip())\n",
    "        \n",
    "        \n",
    "l05=l56=l67=l78=l89=l9 = 0\n",
    "for i in range(len(lst_score)):\n",
    "    num = float(lst_score[i])\n",
    "    if num <0.5:\n",
    "        l05 = l05 +1\n",
    "    elif num >= 0.5 and num < 0.6:\n",
    "        l56 = l56 +1\n",
    "    elif num >= 0.6 and num < 0.7:\n",
    "        l67 = l67 + 1\n",
    "    elif num >= 0.7 and num < 0.8:\n",
    "        l78 = l78 + 1\n",
    "    elif num >= 0.8 and num < 0.9:\n",
    "        l89 = l89 + 1\n",
    "    elif num >= 0.9:\n",
    "        l9 = l9 + 1\n",
    "        \n",
    "t = len(lst_score)\n",
    "print(l05, l56, l67, l78, l89, l9)\n",
    "print(l05/t, l56/t, l67/t, l78/t, l89/t, l9/t)"
   ]
  },
  {
   "cell_type": "code",
   "execution_count": 12,
   "metadata": {},
   "outputs": [
    {
     "data": {
      "text/plain": [
       "True"
      ]
     },
     "execution_count": 12,
     "metadata": {},
     "output_type": "execute_result"
    }
   ],
   "source": [
    "import re\n",
    "def special_match(strg, search=re.compile(r'[^a-zA-Z0-9.]').search):\n",
    "    return bool(search(strg))\n",
    "special_match(\"Sau khi giai đó\")"
   ]
  },
  {
   "cell_type": "code",
   "execution_count": null,
   "metadata": {},
   "outputs": [],
   "source": []
  }
 ],
 "metadata": {
  "kernelspec": {
   "display_name": "Python 3",
   "language": "python",
   "name": "python3"
  },
  "language_info": {
   "codemirror_mode": {
    "name": "ipython",
    "version": 3
   },
   "file_extension": ".py",
   "mimetype": "text/x-python",
   "name": "python",
   "nbconvert_exporter": "python",
   "pygments_lexer": "ipython3",
   "version": "3.8.5"
  }
 },
 "nbformat": 4,
 "nbformat_minor": 4
}
