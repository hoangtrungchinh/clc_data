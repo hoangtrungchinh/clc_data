{
 "cells": [
  {
   "cell_type": "code",
   "execution_count": 9,
   "metadata": {},
   "outputs": [
    {
     "name": "stderr",
     "output_type": "stream",
     "text": [
      "The PostScript backend does not support transparency; partially transparent artists will be rendered opaque.\n",
      "The PostScript backend does not support transparency; partially transparent artists will be rendered opaque.\n"
     ]
    },
    {
     "data": {
      "image/png": "[encoded data removed]",
      "text/plain": [
       "<Figure size 432x288 with 1 Axes>"
      ]
     },
     "metadata": {
      "needs_background": "light"
     },
     "output_type": "display_data"
    }
   ],
   "source": [
    "import matplotlib.pyplot as plt\n",
    "   \n",
    "bleu_bert_en_vi = [21.21, 21.86, 23.02, 23.51]\n",
    "bleu_bert_vi_en = [21.63, 21.82, 21.82, 21.80]\n",
    "bleu_sent2vec_en_vi = [21.48, 21.41, 21.63, 21.90]\n",
    "bleu_sent2vec_vi_en = [22.31, 22.26, 22.27, 23.11]\n",
    "Threshold = [0.6, 0.7, 0.8, 0.9]\n",
    "  \n",
    "plt.plot(range(len(Threshold)), bleu_bert_en_vi, label=\"BERT\", color='red', marker='o')\n",
    "plt.plot(range(len(Threshold)), bleu_sent2vec_en_vi, label=\"Sent2Vec\", color='blue', marker='o', dashes=[6, 2])\n",
    "plt.xticks(range(len(Threshold)),Threshold)\n",
    "\n",
    "# plt.axhline(y = 20, color = 'black', linestyle = 'dashed')     \n",
    "# plt.axvline(x = 0.5, color = 'black', linestyle = 'dashed')\n",
    "\n",
    "plt.title('English - Vietnamese TED')\n",
    "plt.xlabel('Threshold')\n",
    "plt.grid(True)\n",
    "plt.ylabel('BLEU score')\n",
    "\n",
    "plt.legend()\n",
    "\n",
    "\n",
    "# import matplotlib.lines as lines\n",
    "\n",
    "# fig = plt.figure()\n",
    "# fig.add_artist(lines.Line2D([0.5, 0.5], [0.5, 0.5]))\n",
    "\n",
    "plt.savefig('bert-sent2vec.eps', format='eps')\n",
    "\n",
    "plt.show()\n",
    "\n",
    "# ========================\n",
    "\n",
    "# plt.plot(range(len(Threshold)), bleu_bert_vi_en, label=\"BERT\", color='red', marker='o')\n",
    "# plt.plot(range(len(Threshold)), bleu_sent2vec_vi_en, label=\"Sent2Vec\", color='blue', marker='o', dashes=[6, 2])\n",
    "# plt.xticks(range(len(Threshold)),Threshold)\n",
    "\n",
    "# # plt.axhline(y = 20, color = 'black', linestyle = 'dashed')     \n",
    "# # plt.axvline(x = 0.5, color = 'black', linestyle = 'dashed')\n",
    "\n",
    "# plt.title('Vietnamese - English TED')\n",
    "# plt.xlabel('Threshold')\n",
    "# plt.grid(True)\n",
    "# plt.ylabel('BLEU score')\n",
    "\n",
    "# plt.legend()\n",
    "\n",
    "\n",
    "# import matplotlib.lines as lines\n",
    "\n",
    "# fig = plt.figure()\n",
    "# fig.add_artist(lines.Line2D([0.5, 0.5], [0.5, 0.5]))\n",
    "\n",
    "# plt.savefig('bert-sent2vec.eps', format='eps')\n",
    "\n",
    "# plt.show()"
   ]
  },
  {
   "cell_type": "code",
   "execution_count": null,
   "metadata": {},
   "outputs": [],
   "source": []
  },
  {
   "cell_type": "code",
   "execution_count": null,
   "metadata": {},
   "outputs": [],
   "source": [
    "# -layers 6 -rnn_size 512 -word_vec_size 512 -transformer_ff 2048 -heads 8 \\\\\n",
    "# -encoder_type transformer -decoder_type transformer -position_encoding \\\\\n",
    "# -train_steps 30000  -max_generator_batches 2 -dropout 0.1 -batch_size 4096 \\\\\n",
    "# -batch_type tokens -normalization tokens  -accum_count 2 -optim adam -adam_beta2 0.998 \\\\\n",
    "# -decay_method noam -warmup_steps 8000 -learning_rate 2 -max_grad_norm 0 -param_init 0 \\\\\n",
    "# -param_init_glorot -label_smoothing 0.1 -valid_steps 1000 -save_checkpoint_steps 1000 \\\\\n",
    "# -report_every 1000 -world_size 1 -gpu_ranks 0\n",
    "\n",
    "\n",
    "\n",
    "\n",
    "\n",
    "# Number of layers in enc/dec: 6 \n",
    "# Size of rnn hidden states: 512 \n",
    "# Word embedding size for src and tgt: 512 \n",
    "# Size of hidden transformer feed-forward: 2048 \n",
    "# Number of heads for transformer self-attention: 8\n",
    "\n",
    "# encoder_type: transformer \n",
    "# decoder_type transformer \n",
    "# position_encoding\n",
    "\n",
    "# Number of training steps: 30000  \n",
    "# Maximum batches of words in a sequence: 2 \n",
    "# dropout 0.1 \n",
    "# Maximum batch size for training: 4096\n",
    "\n",
    "# batch_type tokens \n",
    "# normalization tokens  \n",
    "# accum_count 2 \n",
    "# optim adam \n",
    "# adam_beta2 0.998\n",
    "\n",
    "# decay_method noam \n",
    "# Number of warmup steps 8000 \n",
    "# learning_rate 2 \n",
    "# max_grad_norm 0 \n",
    "# param_init 0\n",
    "\n",
    "# param_init_glorot \n",
    "# label_smoothing 0.1 \n",
    "# valid_steps/Perfom validation every X steps: 1000 \n",
    "# save_checkpoint_steps/Save a checkpoint every X steps: 1000\n",
    "\n",
    "# report_every/Print stats at this interval: 1000 \n",
    "# world_size 1 \n",
    "# gpu_ranks 0"
   ]
  },
  {
   "cell_type": "code",
   "execution_count": null,
   "metadata": {},
   "outputs": [],
   "source": []
  },
  {
   "cell_type": "code",
   "execution_count": null,
   "metadata": {},
   "outputs": [],
   "source": []
  },
  {
   "cell_type": "code",
   "execution_count": null,
   "metadata": {},
   "outputs": [],
   "source": []
  },
  {
   "cell_type": "code",
   "execution_count": null,
   "metadata": {},
   "outputs": [],
   "source": []
  }
 ],
 "metadata": {
  "kernelspec": {
   "display_name": "Python 3",
   "language": "python",
   "name": "python3"
  },
  "language_info": {
   "codemirror_mode": {
    "name": "ipython",
    "version": 3
   },
   "file_extension": ".py",
   "mimetype": "text/x-python",
   "name": "python",
   "nbconvert_exporter": "python",
   "pygments_lexer": "ipython3",
   "version": "3.8.5"
  }
 },
 "nbformat": 4,
 "nbformat_minor": 4
}
