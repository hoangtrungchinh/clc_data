{
 "cells": [
  {
   "cell_type": "markdown",
   "metadata": {},
   "source": [
    "v2: loại bỏ phiên những record > 1 "
   ]
  },
  {
   "cell_type": "code",
   "execution_count": 1,
   "metadata": {},
   "outputs": [],
   "source": [
    "import numpy as np\n",
    "import faiss   "
   ]
  },
  {
   "cell_type": "code",
   "execution_count": 2,
   "metadata": {},
   "outputs": [
    {
     "name": "stdout",
     "output_type": "stream",
     "text": [
      "/home/chinh/clc_data/Script/v2-Faiss-EM-TED-bert-en-vi-0.999-20210401-1034\r\n"
     ]
    }
   ],
   "source": [
    "import os\n",
    "import time\n",
    "name = \"v2-Faiss-EM-TED-bert-en-vi-0.999-\"+ str(time.strftime(\"%Y%m%d-%H%M\"))\n",
    "\n",
    "!mkdir $name\n",
    "path = os.getcwd() + \"/\" + name\n",
    "os.chdir(path)\n",
    "\n",
    "!pwd\n",
    "\n",
    "\n",
    "os.chdir(path)\n",
    "\n",
    "\n",
    "# import os\n",
    "# os.chdir(\"/home/lw/clc_fairseq/TED-20210121-1335\")"
   ]
  },
  {
   "cell_type": "code",
   "execution_count": 3,
   "metadata": {},
   "outputs": [
    {
     "name": "stdout",
     "output_type": "stream",
     "text": [
      "--2021-04-01 10:34:54--  https://github.com/hoangtrungchinh/clc_data/raw/master/en_vi_iwslt.tar.gz\n",
      "Resolving github.com (github.com)... 13.229.188.59\n",
      "Connecting to github.com (github.com)|13.229.188.59|:443... connected.\n",
      "HTTP request sent, awaiting response... 302 Found\n",
      "Location: https://raw.githubusercontent.com/hoangtrungchinh/clc_data/master/en_vi_iwslt.tar.gz [following]\n",
      "--2021-04-01 10:34:55--  https://raw.githubusercontent.com/hoangtrungchinh/clc_data/master/en_vi_iwslt.tar.gz\n",
      "Resolving raw.githubusercontent.com (raw.githubusercontent.com)... 185.199.111.133, 185.199.109.133, 185.199.108.133, ...\n",
      "Connecting to raw.githubusercontent.com (raw.githubusercontent.com)|185.199.111.133|:443... connected.\n",
      "HTTP request sent, awaiting response... 200 OK\n",
      "Length: 9044100 (8,6M) [application/octet-stream]\n",
      "Saving to: ‘en_vi_iwslt.tar.gz’\n",
      "\n",
      "en_vi_iwslt.tar.gz  100%[===================>]   8,62M  6,23MB/s    in 1,4s    \n",
      "\n",
      "2021-04-01 10:34:57 (6,23 MB/s) - ‘en_vi_iwslt.tar.gz’ saved [9044100/9044100]\n",
      "\n",
      "IWSLT15.TED.tst2013.en-vi.en\n",
      "IWSLT15.TED.tst2013.en-vi.vi\n",
      "IWSLT15.TED.tst2012.en-vi.en\n",
      "IWSLT15.TED.tst2012.en-vi.vi\n",
      "train.en\n",
      "train.vi\n",
      "IWSLT15.TED.tst2015.en-vi.en\n",
      "IWSLT15.TED.tst2015.en-vi.vi\n"
     ]
    }
   ],
   "source": [
    "!wget https://github.com/hoangtrungchinh/clc_data/raw/master/en_vi_iwslt.tar.gz\n",
    "!mkdir data_bin\n",
    "!tar -xvf  'en_vi_iwslt.tar.gz' -C 'data_bin'"
   ]
  },
  {
   "cell_type": "code",
   "execution_count": 4,
   "metadata": {},
   "outputs": [
    {
     "name": "stdout",
     "output_type": "stream",
     "text": [
      "['data_bin/IWSLT15.TED.tst2012.en-vi.en', 'data_bin/IWSLT15.TED.tst2013.en-vi.en', 'data_bin/IWSLT15.TED.tst2015.en-vi.en', 'data_bin/train.en']\n",
      "['data_bin/IWSLT15.TED.tst2012.en-vi.vi', 'data_bin/IWSLT15.TED.tst2013.en-vi.vi', 'data_bin/IWSLT15.TED.tst2015.en-vi.vi', 'data_bin/train.vi']\n",
      "120956\n",
      "120956\n"
     ]
    }
   ],
   "source": [
    "# import file\n",
    "import numpy as np\n",
    "import glob\n",
    "\n",
    "en_files = sorted(glob.glob(\"data_bin/*.en\"))\n",
    "vi_files = sorted(glob.glob(\"data_bin/*.vi\"))\n",
    "print(en_files)\n",
    "print(vi_files)\n",
    "\n",
    "lst_en = []\n",
    "lst_vi = []\n",
    "\n",
    "start = time.time()\n",
    "\n",
    "for file in en_files:\n",
    "  with open(file) as file_in:\n",
    "    for line in file_in:\n",
    "      lst_en.append(line)\n",
    "\n",
    "for file in vi_files:\n",
    "  with open(file) as file_in:\n",
    "    for line in file_in:\n",
    "      lst_vi.append(line)\n",
    "\n",
    "print(len(lst_en))\n",
    "print(len(lst_vi))"
   ]
  },
  {
   "cell_type": "code",
   "execution_count": 5,
   "metadata": {
    "scrolled": true
   },
   "outputs": [
    {
     "name": "stdout",
     "output_type": "stream",
     "text": [
      "96764\n",
      "96764\n",
      "12096\n",
      "12096\n",
      "12096\n",
      "12096\n",
      "And , in fact , when we did some experiments looking at this , what we found is that 46 percent of the variation in how many friends you have is explained by your genes .\n",
      "\n",
      "Trong thực tế , khi thực hiện một vài thí nghiệm nghiên cứu vấn đề này , chúng tôi nhận ra 46 % sự khác biệt trong số bạn bè của bạn được giải thích bằng gen của bạn .\n",
      "\n",
      "This is a chart of what it looked like when it first became popular last summer .\n",
      "\n",
      "Đây là biểu đồ thể hiện điều đó khi video này lần đầu tiên trở nên phổ biến vào mùa hè trước .\n",
      "\n",
      "And what will happen in the future ?\n",
      "\n",
      "Chuyện gì sẽ xảy ra trong tương lai ?\n",
      "\n"
     ]
    }
   ],
   "source": [
    "# SPLIT TRAIN, TEST, VALID\n",
    "from sklearn.model_selection import train_test_split\n",
    "en_train, en_test_valid, vi_train, vi_test_valid =  train_test_split(lst_en, lst_vi, test_size=0.2, random_state=123)\n",
    "en_valid, en_test, vi_valid, vi_test = train_test_split(en_test_valid, vi_test_valid, test_size=0.5, random_state=123)\n",
    "print(len(en_train))\n",
    "print(len(vi_train))\n",
    "print(len(en_valid))\n",
    "print(len(vi_valid))\n",
    "print(len(en_test))\n",
    "print(len(vi_test))\n",
    "print(en_train[20])\n",
    "print(vi_train[20])\n",
    "print(en_valid[-1])\n",
    "print(vi_valid[-1])\n",
    "print(en_test[-1])\n",
    "print(vi_test[-1])"
   ]
  },
  {
   "cell_type": "code",
   "execution_count": 6,
   "metadata": {
    "scrolled": true
   },
   "outputs": [
    {
     "name": "stdout",
     "output_type": "stream",
     "text": [
      "total 36844\r\n",
      "drwxrwxr-x  3 chinh chinh     4096 Thg 4   1 10:34 .\r\n",
      "drwxrwxr-x 10 chinh chinh     4096 Thg 4   1 10:34 ..\r\n",
      "drwxrwxr-x  2 chinh chinh     4096 Thg 4   1 10:34 data_bin\r\n",
      "-rw-rw-r--  1 chinh chinh  1260181 Thg 4   1 10:34 en_test\r\n",
      "-rw-rw-r--  1 chinh chinh 10011509 Thg 4   1 10:34 en_train\r\n",
      "-rw-rw-r--  1 chinh chinh  1249342 Thg 4   1 10:34 en_valid\r\n",
      "-rw-rw-r--  1 chinh chinh  9044100 Thg 4   1 10:34 en_vi_iwslt.tar.gz\r\n",
      "-rw-rw-r--  1 chinh chinh  1624771 Thg 4   1 10:34 vi_test\r\n",
      "-rw-rw-r--  1 chinh chinh 12896000 Thg 4   1 10:34 vi_train\r\n",
      "-rw-rw-r--  1 chinh chinh  1609835 Thg 4   1 10:34 vi_valid\r\n"
     ]
    }
   ],
   "source": [
    "file_variable = [en_train,vi_train,en_valid,vi_valid,en_test,vi_test]\n",
    "file_names = [\"en_train\",\"vi_train\",\"en_valid\",\"vi_valid\",\"en_test\",\"vi_test\"]\n",
    "\n",
    "for i in range(len(file_names)):\n",
    "  with open(file_names[i], 'w') as f:\n",
    "    for item in file_variable[i]:\n",
    "      f.write(item)\n",
    "!ls -al"
   ]
  },
  {
   "cell_type": "code",
   "execution_count": 7,
   "metadata": {},
   "outputs": [],
   "source": [
    "from sentence_transformers import SentenceTransformer, util\n",
    "model = SentenceTransformer('stsb-bert-large')"
   ]
  },
  {
   "cell_type": "code",
   "execution_count": 8,
   "metadata": {},
   "outputs": [
    {
     "name": "stdout",
     "output_type": "stream",
     "text": [
      "=== Ending, Total time (second):  1092.1983361244202\n"
     ]
    }
   ],
   "source": [
    "start = time.time()\n",
    "srcfile = \"en_train\"\n",
    "tarfile = \"vi_train\"\n",
    "lst_srcfile = en_train\n",
    "lst_tarfile = vi_train\n",
    "\n",
    "vec_lst_srcfile = model.encode(lst_srcfile)\n",
    "print('=== Ending, Total time (second): ', time.time() - start)"
   ]
  },
  {
   "cell_type": "markdown",
   "metadata": {},
   "source": [
    "Test Cosin similarity"
   ]
  },
  {
   "cell_type": "code",
   "execution_count": 9,
   "metadata": {},
   "outputs": [],
   "source": [
    "# import numpy as np\n",
    "# from sklearn.preprocessing import normalize\n",
    "# eq1=gt0=gt1=eq0=sm0=0\n",
    "# tmp_arr = []\n",
    "# arr_gt_1 = []\n",
    "# for i in range(len(vec_lst_srcfile)):\n",
    "#     x = vec_lst_srcfile[i]\n",
    "#     norm = np.linalg.norm(x)\n",
    "#     if norm == 0:\n",
    "#         eq0+=1\n",
    "#     elif norm ==1:\n",
    "#         eq1+=1\n",
    "#     elif norm>0 and norm < 1:\n",
    "#         gt0+=1\n",
    "#     elif norm >1:\n",
    "#         arr_gt_1.append(i)\n",
    "#         gt1+=1\n",
    "#     elif norm <=0:\n",
    "#         sm0+=1\n",
    "#     temp = x / norm\n",
    "        \n",
    "#     tmp_arr.append(temp)\n",
    "    \n",
    "# vec_lst_srcfile_norm = np.array(tmp_arr)\n",
    "# print(eq0, eq1, gt0, gt1, sm0)\n",
    "# print(np.sum([eq0, eq1, gt0, gt1, sm0]))\n",
    "\n",
    "# arr_gt_1_norm = []\n",
    "# eq1=gt0=gt1=eq0=sm0=0\n",
    "# for i in range(len(vec_lst_srcfile_norm)):\n",
    "#     x = vec_lst_srcfile_norm[i]\n",
    "#     norm = np.linalg.norm(x)\n",
    "#     if norm == 0:\n",
    "#         eq0+=1\n",
    "#     elif norm ==1:\n",
    "#         eq1+=1\n",
    "#     elif norm>0 and norm < 1:\n",
    "#         gt0+=1\n",
    "#     elif norm >1:\n",
    "#         arr_gt_1_norm.append(i)\n",
    "#         gt1+=1\n",
    "#     elif norm <=0:\n",
    "#         sm0+=1\n",
    "\n",
    "# print(eq0, eq1, gt0, gt1, sm0)\n",
    "\n",
    "# print(np.sum([eq0, eq1, gt0, gt1, sm0]))\n",
    "# print(arr_gt_1[:100])\n",
    "# print(arr_gt_1_norm[:10])"
   ]
  },
  {
   "cell_type": "code",
   "execution_count": 10,
   "metadata": {
    "scrolled": true
   },
   "outputs": [
    {
     "name": "stdout",
     "output_type": "stream",
     "text": [
      "=== Ending, Total time (second):  48.70456409454346\n",
      "96764\n",
      "96764\n",
      "[[    0 35305 68662 43042  4864 48699]\n",
      " [    1 42253 63758 68947 19399  1353]\n",
      " [    2 86284 44936 11949 67241 60728]\n",
      " ...\n",
      " [96761 14876 41844 72724 32947 67302]\n",
      " [96762 77262 49083 94942 31069 44234]\n",
      " [96763 64661 49266   643 65358 53288]]\n",
      "[[2.3841858e-07 4.2096364e-01 5.7486677e-01 5.9295475e-01 7.6007748e-01\n",
      "  7.8514624e-01]\n",
      " [2.3841858e-07 6.4205766e-01 6.4899182e-01 6.7520106e-01 6.9696569e-01\n",
      "  7.0406759e-01]\n",
      " [1.1920929e-07 8.7000871e-01 9.1394186e-01 9.8367453e-01 9.8373234e-01\n",
      "  9.9183512e-01]\n",
      " ...\n",
      " [0.0000000e+00 8.1287539e-01 8.6379337e-01 9.1680264e-01 9.4501078e-01\n",
      "  9.4541097e-01]\n",
      " [2.3841858e-07 7.5868464e-01 8.3096635e-01 9.0191162e-01 9.0270054e-01\n",
      "  9.0406740e-01]\n",
      " [0.0000000e+00 5.8189964e-01 6.0680532e-01 6.5279508e-01 6.8669844e-01\n",
      "  6.9454706e-01]]\n"
     ]
    }
   ],
   "source": [
    "import faiss\n",
    "start = time.time()\n",
    "index = faiss.IndexFlatL2(vec_lst_srcfile.shape[1])\n",
    "index.ntotal\n",
    "faiss.normalize_L2(vec_lst_srcfile)\n",
    "index.add(vec_lst_srcfile)\n",
    "k = 6\n",
    "distance, index = index.search(vec_lst_srcfile, k)\n",
    "\n",
    "print('=== Ending, Total time (second): ', time.time() - start)\n",
    "print(len(distance))\n",
    "print(len(index))\n",
    "\n",
    "print(index)\n",
    "print(distance)"
   ]
  },
  {
   "cell_type": "code",
   "execution_count": 11,
   "metadata": {},
   "outputs": [
    {
     "name": "stdout",
     "output_type": "stream",
     "text": [
      "50195\n",
      "==================================\n",
      "1.0689403\n",
      "1.0689406\n"
     ]
    }
   ],
   "source": [
    "i = 231\n",
    "j = k-1\n",
    "print(index[i][j])\n",
    "print(\"==================================\")\n",
    "print(distance[i][j])\n",
    "a = vec_lst_srcfile[i]\n",
    "# print(a)\n",
    "b = vec_lst_srcfile[index[i][j]]\n",
    "# TEST\n",
    "dist_squared = np.sum(np.square(a - b))\n",
    "print(dist_squared)"
   ]
  },
  {
   "cell_type": "code",
   "execution_count": 16,
   "metadata": {},
   "outputs": [
    {
     "name": "stdout",
     "output_type": "stream",
     "text": [
      "21170 14910 20225 20093 13604 3519 1954 1289\n",
      "21.877971146294076 15.408623041627052 20.90136827745856 20.76495390847836 14.058947542474474 3.6366830639494028 2.0193460377826464 1.3321069819354305\n",
      "96764\n",
      "96764\n"
     ]
    }
   ],
   "source": [
    "l05=l56=l67=l78=l89=l9_95=l95=l1 = 0\n",
    "for i in range(len(vec_lst_srcfile)):\n",
    "    num = float(distance[i][1])\n",
    "    if num <0.5:\n",
    "        l05 = l05 +1\n",
    "    elif num >= 0.5 and num < 0.6:\n",
    "        l56 = l56 +1\n",
    "    elif num >= 0.6 and num < 0.7:\n",
    "        l67 = l67 + 1\n",
    "    elif num >= 0.7 and num < 0.8:\n",
    "        l78 = l78 + 1\n",
    "    elif num >= 0.8 and num < 0.9:\n",
    "        l89 = l89 + 1\n",
    "    elif num >= 0.9 and num < 0.95:\n",
    "        l9_95 = l9_95 + 1\n",
    "    elif num >= 0.95 and num < 1:\n",
    "        l95 = l95 + 1\n",
    "    elif num>=1:\n",
    "        l1=l1+1\n",
    "        \n",
    "arrnum = [l05, l56, l67, l78, l89, l9_95, l95, l1]\n",
    "t = len(lst_srcfile)/100\n",
    "print(l05, l56, l67, l78, l89, l9_95, l95, l1)\n",
    "print(l05/t, l56/t, l67/t, l78/t, l89/t, l9_95/t,l95/t, l1/t)\n",
    "print(l05+l56+l67+l78+l89+l9_95+l95+l1)\n",
    "print(len(lst_srcfile))\n"
   ]
  },
  {
   "cell_type": "code",
   "execution_count": 18,
   "metadata": {},
   "outputs": [
    {
     "name": "stdout",
     "output_type": "stream",
     "text": [
      "threshold = 0.8 EM sentences = 19077 / 96764 0.19714976644206522 %\n",
      "threshold = 0.85 EM sentences = 11141 / 96764 0.11513579430366665 %\n",
      "threshold = 0.9 EM sentences = 5473 / 96764 0.05656029101732049 %\n",
      "threshold = 0.95 EM sentences = 1954 / 96764 0.020193460377826464 %\n",
      "=== Ending, Total time (second):  5.346075534820557\n"
     ]
    }
   ],
   "source": [
    "start = time.time()\n",
    "saperate = \" || \"\n",
    "\n",
    "src_label = \"S\"\n",
    "emb_label = \"E\"\n",
    "thres_arr = [0.8, 0.85, 0.90, 0.95]\n",
    "for i in range(len(thres_arr)):\n",
    "    threshold = thres_arr[i]\n",
    "    out_file_write = open(\"en_train_EM_\"+str(thres_arr[i]), 'w')\n",
    "    out_file_write_score = open(\"en_train_EM_score_\"+str(thres_arr[i]), 'w')\n",
    "    out_file_write_factor = open(\"en_train_EM_factor_\"+str(thres_arr[i]), 'w')\n",
    "    num_gth_thres = 0\n",
    "\n",
    "    for i in range(len(lst_srcfile)):\n",
    "        score = distance[i][1]\n",
    "        content = \"\"\n",
    "        content_label_arr = []\n",
    "        if score >= threshold and score < 1:\n",
    "            num_gth_thres += 1\n",
    "            best_simi_index = index[i][1]\n",
    "            content = lst_srcfile[i].strip() + saperate + lst_tarfile[best_simi_index].strip()\n",
    "\n",
    "            content_label = [src_label] * len(lst_srcfile[i].split())\n",
    "            content_label.append(emb_label)\n",
    "            content_label = content_label + [emb_label] * len(lst_tarfile[best_simi_index].split())\n",
    "\n",
    "            content_label_arr = \" \".join(content_label)\n",
    "        else:\n",
    "            content = lst_srcfile[i].strip()\n",
    "            content_label = [src_label] * len(lst_srcfile[i].split())\n",
    "            content_label_arr = \" \".join(content_label)\n",
    " \n",
    "        out_file_write.writelines(content+ \"\\n\")    \n",
    "        out_file_write_factor.writelines(content_label_arr + \"\\n\")\n",
    "        out_file_write_score.writelines(str(score) + \"\\n\")\n",
    "\n",
    "    print('threshold =', threshold, \"EM sentences =\", num_gth_thres, \"/\", len(lst_srcfile), num_gth_thres/len(lst_srcfile), \"%\" )\n",
    "\n",
    "    out_file_write.close()\n",
    "    out_file_write_score.close()\n",
    "    out_file_write_factor.close()\n",
    "\n",
    "done = time.time()\n",
    "elapsed = done - start\n",
    "print('=== Ending, Total time (second): ', elapsed)"
   ]
  },
  {
   "cell_type": "code",
   "execution_count": null,
   "metadata": {},
   "outputs": [],
   "source": []
  }
 ],
 "metadata": {
  "kernelspec": {
   "display_name": "Python 3",
   "language": "python",
   "name": "python3"
  },
  "language_info": {
   "codemirror_mode": {
    "name": "ipython",
    "version": 3
   },
   "file_extension": ".py",
   "mimetype": "text/x-python",
   "name": "python",
   "nbconvert_exporter": "python",
   "pygments_lexer": "ipython3",
   "version": "3.8.5"
  }
 },
 "nbformat": 4,
 "nbformat_minor": 4
}
