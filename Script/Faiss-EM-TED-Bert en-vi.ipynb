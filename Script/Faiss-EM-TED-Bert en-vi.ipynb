{
 "cells": [
  {
   "cell_type": "markdown",
   "metadata": {},
   "source": [
    "INSTALL\n",
    "- FAISS - \n",
    "- Sent2Vec"
   ]
  },
  {
   "cell_type": "code",
   "execution_count": 1,
   "metadata": {},
   "outputs": [],
   "source": [
    "import numpy as np\n",
    "import faiss   "
   ]
  },
  {
   "cell_type": "code",
   "execution_count": 2,
   "metadata": {},
   "outputs": [
    {
     "name": "stdout",
     "output_type": "stream",
     "text": [
      "/home/chinh/clc_data/Script/TED-20210226-2049\r\n"
     ]
    }
   ],
   "source": [
    "import os\n",
    "import time\n",
    "name = \"Faiss-EM-TED-Bert-en-vi\"+ str(time.strftime(\"%Y%m%d-%H%M\"))\n",
    "\n",
    "!mkdir $name\n",
    "path = os.getcwd() + \"/\" + name\n",
    "os.chdir(path)\n",
    "\n",
    "!pwd\n",
    "\n",
    "\n",
    "os.chdir(path)\n",
    "\n",
    "\n",
    "# import os\n",
    "# os.chdir(\"/home/lw/clc_fairseq/TED-20210121-1335\")"
   ]
  },
  {
   "cell_type": "code",
   "execution_count": 3,
   "metadata": {},
   "outputs": [
    {
     "name": "stdout",
     "output_type": "stream",
     "text": [
      "--2021-02-26 20:49:32--  https://github.com/hoangtrungchinh/clc_data/raw/master/en_vi_iwslt.tar.gz\n",
      "Resolving github.com (github.com)... 13.229.188.59\n",
      "Connecting to github.com (github.com)|13.229.188.59|:443... connected.\n",
      "HTTP request sent, awaiting response... 302 Found\n",
      "Location: https://raw.githubusercontent.com/hoangtrungchinh/clc_data/master/en_vi_iwslt.tar.gz [following]\n",
      "--2021-02-26 20:49:34--  https://raw.githubusercontent.com/hoangtrungchinh/clc_data/master/en_vi_iwslt.tar.gz\n",
      "Resolving raw.githubusercontent.com (raw.githubusercontent.com)... 185.199.108.133, 185.199.111.133, 185.199.109.133, ...\n",
      "Connecting to raw.githubusercontent.com (raw.githubusercontent.com)|185.199.108.133|:443... connected.\n",
      "HTTP request sent, awaiting response... 200 OK\n",
      "Length: 9044100 (8,6M) [application/octet-stream]\n",
      "Saving to: ‘en_vi_iwslt.tar.gz’\n",
      "\n",
      "en_vi_iwslt.tar.gz  100%[===================>]   8,62M  48,3KB/s    in 3m 15s  \n",
      "\n",
      "2021-02-26 20:52:50 (45,3 KB/s) - ‘en_vi_iwslt.tar.gz’ saved [9044100/9044100]\n",
      "\n",
      "IWSLT15.TED.tst2013.en-vi.en\n",
      "IWSLT15.TED.tst2013.en-vi.vi\n",
      "IWSLT15.TED.tst2012.en-vi.en\n",
      "IWSLT15.TED.tst2012.en-vi.vi\n",
      "train.en\n",
      "train.vi\n",
      "IWSLT15.TED.tst2015.en-vi.en\n",
      "IWSLT15.TED.tst2015.en-vi.vi\n"
     ]
    }
   ],
   "source": [
    "!wget https://github.com/hoangtrungchinh/clc_data/raw/master/en_vi_iwslt.tar.gz\n",
    "!mkdir data_bin\n",
    "!tar -xvf  'en_vi_iwslt.tar.gz' -C 'data_bin'"
   ]
  },
  {
   "cell_type": "code",
   "execution_count": 4,
   "metadata": {},
   "outputs": [
    {
     "name": "stdout",
     "output_type": "stream",
     "text": [
      "['data_bin/IWSLT15.TED.tst2012.en-vi.en', 'data_bin/IWSLT15.TED.tst2013.en-vi.en', 'data_bin/IWSLT15.TED.tst2015.en-vi.en', 'data_bin/train.en']\n",
      "['data_bin/IWSLT15.TED.tst2012.en-vi.vi', 'data_bin/IWSLT15.TED.tst2013.en-vi.vi', 'data_bin/IWSLT15.TED.tst2015.en-vi.vi', 'data_bin/train.vi']\n",
      "120956\n",
      "120956\n"
     ]
    }
   ],
   "source": [
    "# import file\n",
    "import numpy as np\n",
    "import glob\n",
    "\n",
    "en_files = sorted(glob.glob(\"data_bin/*.en\"))\n",
    "vi_files = sorted(glob.glob(\"data_bin/*.vi\"))\n",
    "print(en_files)\n",
    "print(vi_files)\n",
    "\n",
    "lst_en = []\n",
    "lst_vi = []\n",
    "\n",
    "start = time.time()\n",
    "\n",
    "for file in en_files:\n",
    "  with open(file) as file_in:\n",
    "    for line in file_in:\n",
    "      lst_en.append(line)\n",
    "\n",
    "for file in vi_files:\n",
    "  with open(file) as file_in:\n",
    "    for line in file_in:\n",
    "      lst_vi.append(line)\n",
    "\n",
    "print(len(lst_en))\n",
    "print(len(lst_vi))"
   ]
  },
  {
   "cell_type": "code",
   "execution_count": 5,
   "metadata": {
    "scrolled": true
   },
   "outputs": [
    {
     "name": "stdout",
     "output_type": "stream",
     "text": [
      "96764\n",
      "96764\n",
      "12096\n",
      "12096\n",
      "12096\n",
      "12096\n",
      "And , in fact , when we did some experiments looking at this , what we found is that 46 percent of the variation in how many friends you have is explained by your genes .\n",
      "\n",
      "Trong thực tế , khi thực hiện một vài thí nghiệm nghiên cứu vấn đề này , chúng tôi nhận ra 46 % sự khác biệt trong số bạn bè của bạn được giải thích bằng gen của bạn .\n",
      "\n",
      "This is a chart of what it looked like when it first became popular last summer .\n",
      "\n",
      "Đây là biểu đồ thể hiện điều đó khi video này lần đầu tiên trở nên phổ biến vào mùa hè trước .\n",
      "\n",
      "And what will happen in the future ?\n",
      "\n",
      "Chuyện gì sẽ xảy ra trong tương lai ?\n",
      "\n"
     ]
    }
   ],
   "source": [
    "# SPLIT TRAIN, TEST, VALID\n",
    "from sklearn.model_selection import train_test_split\n",
    "en_train, en_test_valid, vi_train, vi_test_valid =  train_test_split(lst_en, lst_vi, test_size=0.2, random_state=123)\n",
    "en_valid, en_test, vi_valid, vi_test = train_test_split(en_test_valid, vi_test_valid, test_size=0.5, random_state=123)\n",
    "print(len(en_train))\n",
    "print(len(vi_train))\n",
    "print(len(en_valid))\n",
    "print(len(vi_valid))\n",
    "print(len(en_test))\n",
    "print(len(vi_test))\n",
    "print(en_train[20])\n",
    "print(vi_train[20])\n",
    "print(en_valid[-1])\n",
    "print(vi_valid[-1])\n",
    "print(en_test[-1])\n",
    "print(vi_test[-1])"
   ]
  },
  {
   "cell_type": "code",
   "execution_count": 6,
   "metadata": {
    "scrolled": true
   },
   "outputs": [
    {
     "name": "stdout",
     "output_type": "stream",
     "text": [
      "total 36844\r\n",
      "drwxrwxr-x 3 chinh chinh     4096 Thg 2  26 20:53 .\r\n",
      "drwxrwxr-x 4 chinh chinh     4096 Thg 2  26 20:52 ..\r\n",
      "drwxrwxr-x 2 chinh chinh     4096 Thg 2  26 20:52 data_bin\r\n",
      "-rw-rw-r-- 1 chinh chinh  1260181 Thg 2  26 20:53 en_test\r\n",
      "-rw-rw-r-- 1 chinh chinh 10011509 Thg 2  26 20:53 en_train\r\n",
      "-rw-rw-r-- 1 chinh chinh  1249342 Thg 2  26 20:53 en_valid\r\n",
      "-rw-rw-r-- 1 chinh chinh  9044100 Thg 2  26 20:52 en_vi_iwslt.tar.gz\r\n",
      "-rw-rw-r-- 1 chinh chinh  1624771 Thg 2  26 20:53 vi_test\r\n",
      "-rw-rw-r-- 1 chinh chinh 12896000 Thg 2  26 20:53 vi_train\r\n",
      "-rw-rw-r-- 1 chinh chinh  1609835 Thg 2  26 20:53 vi_valid\r\n"
     ]
    }
   ],
   "source": [
    "file_variable = [en_train,vi_train,en_valid,vi_valid,en_test,vi_test]\n",
    "file_names = [\"en_train\",\"vi_train\",\"en_valid\",\"vi_valid\",\"en_test\",\"vi_test\"]\n",
    "\n",
    "for i in range(len(file_names)):\n",
    "  with open(file_names[i], 'w') as f:\n",
    "    for item in file_variable[i]:\n",
    "      f.write(item)\n",
    "!ls -al"
   ]
  },
  {
   "cell_type": "code",
   "execution_count": 7,
   "metadata": {},
   "outputs": [],
   "source": [
    "from sentence_transformers import SentenceTransformer, util\n",
    "model = SentenceTransformer('paraphrase-distilroberta-base-v1')\n",
    "# # model = SentenceTransformer('LaBSE')\n",
    "# #Sentences are encoded by calling model.encode()\n",
    "# emb1 = model.encode(\"This is a red cat with a hat.\")\n",
    "# emb2 = model.encode(\"Have you seen my red cat?\")\n",
    "\n",
    "# cos_sim = util.pytorch_cos_sim(emb1, emb2)\n",
    "# print(\"Cosine-Similarity:\", cos_sim)"
   ]
  },
  {
   "cell_type": "code",
   "execution_count": 8,
   "metadata": {},
   "outputs": [],
   "source": [
    "# print(cos_sim.numpy()[0][0])"
   ]
  },
  {
   "cell_type": "code",
   "execution_count": 35,
   "metadata": {},
   "outputs": [
    {
     "name": "stdout",
     "output_type": "stream",
     "text": [
      "=== Ending, Total time (second):  273.74039673805237\n"
     ]
    }
   ],
   "source": [
    "start = time.time()\n",
    "srcfile = \"en_train\"\n",
    "tarfile = \"vi_train\"\n",
    "# lst_srcfile = open(srcfile, \"r\").readlines()\n",
    "# lst_tarfile = open(tarfile, \"r\").readlines()\n",
    "lst_srcfile = en_train\n",
    "lst_tarfile = vi_train\n",
    "\n",
    "vec_lst_srcfile = model.encode(lst_srcfile)\n",
    "print('=== Ending, Total time (second): ', time.time() - start)"
   ]
  },
  {
   "cell_type": "markdown",
   "metadata": {},
   "source": [
    "Test Cosin similarity"
   ]
  },
  {
   "cell_type": "code",
   "execution_count": 34,
   "metadata": {
    "scrolled": true
   },
   "outputs": [
    {
     "name": "stdout",
     "output_type": "stream",
     "text": [
      "=== Ending, Total time (second):  44.06273579597473\n",
      "96764\n",
      "96764\n",
      "[[    0 39423 35305 72079 32103 85735]\n",
      " [    1 81481 50721 15775  1179 11991]\n",
      " [    2   250 72009 40466 66315 93518]\n",
      " ...\n",
      " [96761 50580 14876 19269 69832 50735]\n",
      " [96762 81748 24188 45756 69367  3000]\n",
      " [96763  8985 62485   200 21184 58797]]\n",
      "[[0.0000000e+00 7.7359259e-01 7.9088068e-01 8.7716556e-01 8.8684976e-01\n",
      "  9.2159152e-01]\n",
      " [0.0000000e+00 6.8074703e-01 6.8469703e-01 7.2336924e-01 7.3071086e-01\n",
      "  7.4148726e-01]\n",
      " [1.1920929e-07 9.4939709e-01 9.5867610e-01 9.6002400e-01 9.7436512e-01\n",
      "  9.7728646e-01]\n",
      " ...\n",
      " [2.3841858e-07 7.6802468e-01 7.9690385e-01 8.3492100e-01 8.4242499e-01\n",
      "  8.6041594e-01]\n",
      " [3.5762787e-07 9.7901368e-01 1.0931816e+00 1.1214151e+00 1.1353327e+00\n",
      "  1.1470406e+00]\n",
      " [0.0000000e+00 8.6880016e-01 9.6778297e-01 9.9761200e-01 9.9859607e-01\n",
      "  9.9874771e-01]]\n"
     ]
    }
   ],
   "source": [
    "import faiss\n",
    "\n",
    "start = time.time()\n",
    "index = faiss.IndexFlatL2(768)\n",
    "index.ntotal\n",
    "faiss.normalize_L2(vec_lst_srcfile)\n",
    "index.add(vec_lst_srcfile)\n",
    "k = 6\n",
    "distance, index = index.search(vec_lst_srcfile, k)\n",
    "\n",
    "print('=== Ending, Total time (second): ', time.time() - start)\n",
    "print(len(distance))\n",
    "print(len(index))\n",
    "\n",
    "print(index)\n",
    "print(distance)"
   ]
  },
  {
   "cell_type": "code",
   "execution_count": 31,
   "metadata": {},
   "outputs": [
    {
     "name": "stdout",
     "output_type": "stream",
     "text": [
      "59075\n",
      "==================================\n",
      "0.8596766\n",
      "0.85967684\n"
     ]
    }
   ],
   "source": [
    "\n",
    "i = 6\n",
    "j = k-1\n",
    "print(index[i][j])\n",
    "print(\"==================================\")\n",
    "print(distance[i][j])\n",
    "a = vec_lst_srcfile[i]\n",
    "# print(a)\n",
    "b = vec_lst_srcfile[index[i][j]]\n",
    "# TEST\n",
    "dist_squared = np.sum(np.square(a - b))\n",
    "print(dist_squared)"
   ]
  },
  {
   "cell_type": "code",
   "execution_count": 32,
   "metadata": {},
   "outputs": [
    {
     "name": "stdout",
     "output_type": "stream",
     "text": [
      "It &apos;s like the guy is sitting next to you , whispering who knows what into your ear .\n",
      "19\n",
      "19\n",
      "======================\n",
      "They go bad very quickly if you don &apos;t , and if you don &apos;t have stable power grid , this doesn &apos;t happen , so kids die .\n",
      "29\n",
      "29\n",
      "======================\n",
      "Now let me ask you this question : This past week at TED , how many of you , when you saw vulnerability up here , thought it was pure courage ? || Khi tôi trở thành &quot; Vulnerability TED &quot; , như một nhân vật hành động -- kiểu như Ninja Barbie , nhưng tôi là &quot; Vulnerability TED &quot; -- Tôi nghĩ rằng tôi sẽ để lại những xấu hổ đó đằng sau , vì tôi đã trải qua sáu năm nghiên cứu về sự xấu hổ trước khi tôi thực sự bắt đầu viết và nói về sự dễ bị tổn thương .\n",
      "106\n",
      "106\n",
      "======================\n",
      "My archive : 175 films , my 16-millimeter negative , all my books , my dad &apos;s books , my photographs . || Chúng tôi đăng ký mua rất nhiều tạp chí , nghiên cứu rất nhiều , nhưng thật sự , khi bạn nhìn xung quanh , ở đâu cũng thấy những hình ảnh như thế này\n",
      "58\n",
      "58\n",
      "======================\n",
      "Now , a few weeks before our vote , Lake Superior State University issues its list of banished words for the year .\n",
      "23\n",
      "23\n",
      "======================\n",
      "It &apos;s you and I who make our fates -- we open up or close the gates on the road ahead or the road behind . &quot; || Và tôi sẽ dừng ở đây .\n",
      "35\n",
      "35\n",
      "======================\n",
      "Now this is several years ago . Adjusted for inflation , it &apos;s a decent sum of money for a few minutes of work .\n",
      "25\n",
      "25\n",
      "======================\n",
      "How do you expect me to repay my loan ? &quot; || Cái đó ảnh hưởng thế nào đến khoản chi trả và tới lãi suất , ... và những thứ giống như vậy ?\n",
      "35\n",
      "35\n",
      "======================\n",
      "But the Taiwanese babies are getting better , not the American babies .\n",
      "13\n",
      "13\n",
      "======================\n",
      "You &apos;re having a heart attack .\n",
      "7\n",
      "7\n",
      "======================\n",
      "=== Ending, Total time (second):  1.9557137489318848\n"
     ]
    }
   ],
   "source": [
    "start = time.time()\n",
    "saperate = \" || \"\n",
    "threshold = 0.8\n",
    "src_label = \"S\"\n",
    "emb_label = \"E\"\n",
    "\n",
    "out_file_write = open(\"en_train_EM\", 'w')\n",
    "out_file_write_score = open(\"en_train_EM_score\", 'w')\n",
    "out_file_write_factor = open(\"en_train_EM_factor\", 'w')\n",
    "\n",
    "for i in range(len(lst_srcfile)):\n",
    "    score = distance[i][1]\n",
    "    content = \"\"\n",
    "    content_label_arr = []\n",
    "    if score >= threshold:\n",
    "        best_simi_index = index[i][1]\n",
    "        content = lst_srcfile[i].strip() + saperate + lst_tarfile[best_simi_index].strip()\n",
    "        \n",
    "        content_label = [src_label] * len(lst_srcfile[i].split())\n",
    "        content_label.append(emb_label)\n",
    "        content_label = content_label + [emb_label] * len(lst_tarfile[best_simi_index].split())\n",
    "        \n",
    "        content_label_arr = \" \".join(content_label)\n",
    "        \n",
    "        \n",
    "   \n",
    "    else:\n",
    "        content = lst_srcfile[i].strip()\n",
    "        content_label = [src_label] * len(lst_srcfile[i].split())\n",
    "        content_label_arr = \" \".join(content_label)\n",
    "        \n",
    "        \n",
    "    if i<10:\n",
    "        print(content)\n",
    "        print(len(content.split()))  \n",
    "        print(len(content_label))\n",
    "        print(\"======================\")\n",
    "        \n",
    "\n",
    "    out_file_write.writelines(content+ \"\\n\")    \n",
    "    out_file_write_factor.writelines(content_label_arr + \"\\n\")\n",
    "    out_file_write_score.writelines(str(score) + \"\\n\")\n",
    "        \n",
    "\n",
    "out_file_write.close()\n",
    "\n",
    "done = time.time()\n",
    "elapsed = done - start\n",
    "print('=== Ending, Total time (second): ', elapsed)"
   ]
  },
  {
   "cell_type": "code",
   "execution_count": null,
   "metadata": {},
   "outputs": [],
   "source": []
  }
 ],
 "metadata": {
  "kernelspec": {
   "display_name": "Python 3",
   "language": "python",
   "name": "python3"
  },
  "language_info": {
   "codemirror_mode": {
    "name": "ipython",
    "version": 3
   },
   "file_extension": ".py",
   "mimetype": "text/x-python",
   "name": "python",
   "nbconvert_exporter": "python",
   "pygments_lexer": "ipython3",
   "version": "3.8.5"
  }
 },
 "nbformat": 4,
 "nbformat_minor": 4
}
