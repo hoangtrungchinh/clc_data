{
 "cells": [
  {
   "cell_type": "markdown",
   "metadata": {},
   "source": [
    "INSTALL\n",
    "- FAISS - \n",
    "- Sent2Vec"
   ]
  },
  {
   "cell_type": "code",
   "execution_count": 1,
   "metadata": {},
   "outputs": [],
   "source": [
    "import numpy as np\n",
    "import faiss   "
   ]
  },
  {
   "cell_type": "code",
   "execution_count": 2,
   "metadata": {},
   "outputs": [
    {
     "name": "stdout",
     "output_type": "stream",
     "text": [
      "/home/chinh/clc_data/Script/Faiss-EM-LAW-sent2vec-en-vi-0.999-20210407-2000\r\n"
     ]
    }
   ],
   "source": [
    "import os\n",
    "import time\n",
    "name = \"Faiss-EM-LAW-sent2vec-en-vi-0.999-\"+ str(time.strftime(\"%Y%m%d-%H%M\"))\n",
    "\n",
    "!mkdir $name\n",
    "path = os.getcwd() + \"/\" + name\n",
    "os.chdir(path)\n",
    "\n",
    "!pwd\n",
    "\n",
    "\n",
    "os.chdir(path)"
   ]
  },
  {
   "cell_type": "code",
   "execution_count": 3,
   "metadata": {},
   "outputs": [
    {
     "name": "stdout",
     "output_type": "stream",
     "text": [
      "--2021-04-07 20:00:24--  https://github.com/hoangtrungchinh/clc_data/raw/master/law.tar.gz\n",
      "Resolving github.com (github.com)... 192.30.255.113\n",
      "Connecting to github.com (github.com)|192.30.255.113|:443... connected.\n",
      "HTTP request sent, awaiting response... 302 Found\n",
      "Location: https://raw.githubusercontent.com/hoangtrungchinh/clc_data/master/law.tar.gz [following]\n",
      "--2021-04-07 20:00:25--  https://raw.githubusercontent.com/hoangtrungchinh/clc_data/master/law.tar.gz\n",
      "Resolving raw.githubusercontent.com (raw.githubusercontent.com)... 185.199.110.133, 185.199.111.133, 185.199.108.133, ...\n",
      "Connecting to raw.githubusercontent.com (raw.githubusercontent.com)|185.199.110.133|:443... connected.\n",
      "HTTP request sent, awaiting response... 200 OK\n",
      "Length: 988814 (966K) [application/octet-stream]\n",
      "Saving to: ‘law.tar.gz’\n",
      "\n",
      "law.tar.gz          100%[===================>] 965,64K  3,04MB/s    in 0,3s    \n",
      "\n",
      "2021-04-07 20:00:26 (3,04 MB/s) - ‘law.tar.gz’ saved [988814/988814]\n",
      "\n",
      "_law.vi\n",
      "_law.en\n"
     ]
    }
   ],
   "source": [
    "!wget https://github.com/hoangtrungchinh/clc_data/raw/master/law.tar.gz\n",
    "!mkdir data_bin\n",
    "!tar -xvf  'law.tar.gz' -C 'data_bin'"
   ]
  },
  {
   "cell_type": "code",
   "execution_count": 4,
   "metadata": {},
   "outputs": [
    {
     "name": "stdout",
     "output_type": "stream",
     "text": [
      "['data_bin/_law.en']\n",
      "['data_bin/_law.vi']\n",
      "17967\n",
      "17967\n"
     ]
    }
   ],
   "source": [
    "# import file\n",
    "import numpy as np\n",
    "import glob\n",
    "\n",
    "en_files = sorted(glob.glob(\"data_bin/*.en\"))\n",
    "vi_files = sorted(glob.glob(\"data_bin/*.vi\"))\n",
    "print(en_files)\n",
    "print(vi_files)\n",
    "\n",
    "lst_en = []\n",
    "lst_vi = []\n",
    "\n",
    "start = time.time()\n",
    "\n",
    "for file in en_files:\n",
    "  with open(file) as file_in:\n",
    "    for line in file_in:\n",
    "      lst_en.append(line)\n",
    "\n",
    "for file in vi_files:\n",
    "  with open(file) as file_in:\n",
    "    for line in file_in:\n",
    "      lst_vi.append(line)\n",
    "\n",
    "print(len(lst_en))\n",
    "print(len(lst_vi))"
   ]
  },
  {
   "cell_type": "code",
   "execution_count": 5,
   "metadata": {
    "scrolled": true
   },
   "outputs": [
    {
     "name": "stdout",
     "output_type": "stream",
     "text": [
      "14373\n",
      "14373\n",
      "1797\n",
      "1797\n",
      "1797\n",
      "1797\n",
      "A person aged from fifteen years to below eighteen years may be an authorized representative, except where the law provides for that the civil transaction must be entered into and performed by a person who has reached eighteen years of age.\n",
      "\n",
      "Người từ đủ mười lăm tuổi đến chưa đủ mười tám tuổi có thể là người đại diện theo uỷ quyền, trừ trường hợp pháp luật quy định giao dịch dân sự phải do người từ đủ mười tám tuổi trở lên xác lập, thực hiện.\n",
      "\n",
      "The Law on Bankruptcy is applied to the bankruptcy process of every enterprise and cooperative based in the territory of Vietnam.\n",
      "\n",
      "Luật Phá sản được áp dụng khi giải quyết phá sản đối với doanh nghiệp, hợp tác xã được thành lập trên lãnh thổ Cộng hòa xã hội chủ nghĩa Việt Nam.\n",
      "\n",
      "A lawsuit is instituted over an administrative decision or act of a provincial-level People’s Committee or provincial-level People’s Committee chairperson which is related to many subjects;\n",
      "\n",
      "Khiếu kiện quyết định hành chính, hành vi hành chính của Ủy ban nhân dân cấp tỉnh, Chủ tịch Ủy ban nhân dân cấp tỉnh liên quan đến nhiều đối tượng;\n",
      "\n"
     ]
    }
   ],
   "source": [
    "# SPLIT TRAIN, TEST, VALID\n",
    "from sklearn.model_selection import train_test_split\n",
    "en_train, en_test_valid, vi_train, vi_test_valid =  train_test_split(lst_en, lst_vi, test_size=0.2, random_state=123)\n",
    "en_valid, en_test, vi_valid, vi_test = train_test_split(en_test_valid, vi_test_valid, test_size=0.5, random_state=123)\n",
    "print(len(en_train))\n",
    "print(len(vi_train))\n",
    "print(len(en_valid))\n",
    "print(len(vi_valid))\n",
    "print(len(en_test))\n",
    "print(len(vi_test))\n",
    "print(en_train[20])\n",
    "print(vi_train[20])\n",
    "print(en_valid[-1])\n",
    "print(vi_valid[-1])\n",
    "print(en_test[-1])\n",
    "print(vi_test[-1])"
   ]
  },
  {
   "cell_type": "code",
   "execution_count": 6,
   "metadata": {},
   "outputs": [
    {
     "name": "stdout",
     "output_type": "stream",
     "text": [
      "total 6672\r\n",
      "drwxrwxr-x  3 chinh chinh    4096 Thg 4   7 20:00 .\r\n",
      "drwxrwxr-x 14 chinh chinh    4096 Thg 4   7 20:00 ..\r\n",
      "drwxrwxr-x  2 chinh chinh    4096 Thg 4   7 20:00 data_bin\r\n",
      "-rw-rw-r--  1 chinh chinh  257314 Thg 4   7 20:00 en_test\r\n",
      "-rw-rw-r--  1 chinh chinh 2096540 Thg 4   7 20:00 en_train\r\n",
      "-rw-rw-r--  1 chinh chinh  265528 Thg 4   7 20:00 en_valid\r\n",
      "-rw-rw-r--  1 chinh chinh  988814 Thg 4   7 20:00 law.tar.gz\r\n",
      "-rw-rw-r--  1 chinh chinh  314903 Thg 4   7 20:00 vi_test\r\n",
      "-rw-rw-r--  1 chinh chinh 2560025 Thg 4   7 20:00 vi_train\r\n",
      "-rw-rw-r--  1 chinh chinh  325494 Thg 4   7 20:00 vi_valid\r\n"
     ]
    }
   ],
   "source": [
    "file_variable = [en_train,vi_train,en_valid,vi_valid,en_test,vi_test]\n",
    "file_names = [\"en_train\",\"vi_train\",\"en_valid\",\"vi_valid\",\"en_test\",\"vi_test\"]\n",
    "\n",
    "for i in range(len(file_names)):\n",
    "  with open(file_names[i], 'w') as f:\n",
    "    for item in file_variable[i]:\n",
    "      f.write(item)\n",
    "!ls -al"
   ]
  },
  {
   "cell_type": "code",
   "execution_count": 7,
   "metadata": {},
   "outputs": [
    {
     "name": "stdout",
     "output_type": "stream",
     "text": [
      "=== Ending, Total time (second):  9.010917663574219\n"
     ]
    }
   ],
   "source": [
    "start = time.time()\n",
    "import sent2vec\n",
    "model = sent2vec.Sent2vecModel()\n",
    "model.load_model('../../../wiki_unigrams.bin')\n",
    "\n",
    "print('=== Ending, Total time (second): ', time.time() - start)"
   ]
  },
  {
   "cell_type": "code",
   "execution_count": 8,
   "metadata": {},
   "outputs": [],
   "source": [
    "srcfile = \"en_train\"\n",
    "tarfile = \"vi_train\"\n",
    "# lst_srcfile = open(srcfile, \"r\").readlines()\n",
    "# lst_tarfile = open(tarfile, \"r\").readlines()\n",
    "lst_srcfile = en_train\n",
    "lst_tarfile = vi_train\n",
    "\n",
    "vec_lst_srcfile = model.embed_sentences(lst_srcfile)"
   ]
  },
  {
   "cell_type": "markdown",
   "metadata": {},
   "source": [
    "Test Cosin similarity"
   ]
  },
  {
   "cell_type": "code",
   "execution_count": 9,
   "metadata": {
    "scrolled": true
   },
   "outputs": [
    {
     "name": "stdout",
     "output_type": "stream",
     "text": [
      "=== Ending, Total time (second):  0.720555305480957\n",
      "14373\n",
      "14373\n",
      "[[    0  4092  4120  3880 12276 11292]\n",
      " [    1  7317  3514  7883  9575 13622]\n",
      " [    2 11962  1745   514   378   583]\n",
      " ...\n",
      " [14370  6329 12151  6032  5663  9164]\n",
      " [14371  5816  8185 13903 13816  4554]\n",
      " [14372  8951 11020   127 11507   514]]\n",
      "[[0.0000000e+00 4.5765066e-01 4.7214556e-01 5.1959085e-01 5.5730844e-01\n",
      "  5.6726301e-01]\n",
      " [0.0000000e+00 5.3958035e-01 5.5549896e-01 6.5495539e-01 6.5672672e-01\n",
      "  6.7501473e-01]\n",
      " [1.1920929e-07 4.8932076e-01 6.9507873e-01 9.9999994e-01 9.9999994e-01\n",
      "  9.9999994e-01]\n",
      " ...\n",
      " [0.0000000e+00 6.6308725e-01 7.3182833e-01 8.1565511e-01 8.5339057e-01\n",
      "  8.5837018e-01]\n",
      " [0.0000000e+00 1.7185676e-01 2.0529890e-01 3.2067645e-01 3.9019966e-01\n",
      "  4.4887304e-01]\n",
      " [1.1920929e-07 4.5519710e-01 9.6420062e-01 9.6752667e-01 9.8171270e-01\n",
      "  1.0000000e+00]]\n"
     ]
    }
   ],
   "source": [
    "import faiss\n",
    "\n",
    "start = time.time()\n",
    "vec_lst_srcfile = model.embed_sentences(lst_srcfile)\n",
    "index = faiss.IndexFlatL2(600)\n",
    "index.ntotal\n",
    "faiss.normalize_L2(vec_lst_srcfile)\n",
    "index.add(vec_lst_srcfile)\n",
    "k = 6\n",
    "distance, index = index.search(vec_lst_srcfile, k)\n",
    "\n",
    "print('=== Ending, Total time (second): ', time.time() - start)\n",
    "print(len(distance))\n",
    "print(len(index))\n",
    "\n",
    "print(index)\n",
    "print(distance)"
   ]
  },
  {
   "cell_type": "code",
   "execution_count": 10,
   "metadata": {},
   "outputs": [
    {
     "name": "stdout",
     "output_type": "stream",
     "text": [
      "<class 'numpy.ndarray'>\n",
      "(14373, 600)\n"
     ]
    }
   ],
   "source": [
    "print(type(vec_lst_srcfile))\n",
    "print(vec_lst_srcfile.shape)\n"
   ]
  },
  {
   "cell_type": "code",
   "execution_count": 11,
   "metadata": {},
   "outputs": [
    {
     "name": "stdout",
     "output_type": "stream",
     "text": [
      "11445\n",
      "==================================\n",
      "0.8651743\n",
      "0.8651744\n"
     ]
    }
   ],
   "source": [
    "i = 6\n",
    "j = k-1\n",
    "print(index[i][j])\n",
    "print(\"==================================\")\n",
    "print(distance[i][j])\n",
    "a = vec_lst_srcfile[i]\n",
    "# print(a)\n",
    "b = vec_lst_srcfile[index[i][j]]\n",
    "# TEST\n",
    "dist_squared = np.sum(np.square(a - b))\n",
    "print(dist_squared)"
   ]
  },
  {
   "cell_type": "code",
   "execution_count": 12,
   "metadata": {},
   "outputs": [
    {
     "name": "stdout",
     "output_type": "stream",
     "text": [
      "threshold = 0.8 EM sentences = 2012 / 14373 0.13998469352257706 %\n",
      "threshold = 0.85 EM sentences = 1418 / 14373 0.09865720448062339 %\n",
      "threshold = 0.9 EM sentences = 947 / 14373 0.06588742781604397 %\n",
      "threshold = 0.95 EM sentences = 607 / 14373 0.04223196270785501 %\n",
      "threshold = 0.99 EM sentences = 431 / 14373 0.029986780769498365 %\n",
      "=== Ending, Total time (second):  1.168128252029419\n"
     ]
    }
   ],
   "source": [
    "start = time.time()\n",
    "saperate = \" || \"\n",
    "\n",
    "src_label = \"S\"\n",
    "emb_label = \"E\"\n",
    "thres_arr = [0.8, 0.85, 0.9, 0.95, 0.99]\n",
    "for i in range(len(thres_arr)):\n",
    "    threshold = thres_arr[i]\n",
    "    out_file_write = open(\"en_train_EM_\"+str(thres_arr[i]), 'w')\n",
    "    out_file_write_score = open(\"en_train_EM_score_\"+str(thres_arr[i]), 'w')\n",
    "    out_file_write_factor = open(\"en_train_EM_factor_\"+str(thres_arr[i]), 'w')\n",
    "    num_gth_thres = 0\n",
    "\n",
    "    for i in range(len(lst_srcfile)):\n",
    "        score = distance[i][1]\n",
    "        content = \"\"\n",
    "        content_label_arr = []\n",
    "        if score >= threshold:\n",
    "            num_gth_thres += 1\n",
    "            best_simi_index = index[i][1]\n",
    "            content = lst_srcfile[i].strip() + saperate + lst_tarfile[best_simi_index].strip()\n",
    "\n",
    "            content_label = [src_label] * len(lst_srcfile[i].split())\n",
    "            content_label.append(emb_label)\n",
    "            content_label = content_label + [emb_label] * len(lst_tarfile[best_simi_index].split())\n",
    "\n",
    "            content_label_arr = \" \".join(content_label)\n",
    "        else:\n",
    "            content = lst_srcfile[i].strip()\n",
    "            content_label = [src_label] * len(lst_srcfile[i].split())\n",
    "            content_label_arr = \" \".join(content_label)\n",
    " \n",
    "        out_file_write.writelines(content+ \"\\n\")    \n",
    "        out_file_write_factor.writelines(content_label_arr + \"\\n\")\n",
    "        out_file_write_score.writelines(str(score) + \"\\n\")\n",
    "\n",
    "    print('threshold =', threshold, \"EM sentences =\", num_gth_thres, \"/\", len(lst_srcfile), num_gth_thres/len(lst_srcfile), \"%\" )\n",
    "\n",
    "    out_file_write.close()\n",
    "    out_file_write_score.close()\n",
    "    out_file_write_factor.close()\n",
    "\n",
    "done = time.time()\n",
    "elapsed = done - start\n",
    "print('=== Ending, Total time (second): ', elapsed)"
   ]
  },
  {
   "cell_type": "code",
   "execution_count": null,
   "metadata": {},
   "outputs": [],
   "source": []
  }
 ],
 "metadata": {
  "kernelspec": {
   "display_name": "Python 3",
   "language": "python",
   "name": "python3"
  },
  "language_info": {
   "codemirror_mode": {
    "name": "ipython",
    "version": 3
   },
   "file_extension": ".py",
   "mimetype": "text/x-python",
   "name": "python",
   "nbconvert_exporter": "python",
   "pygments_lexer": "ipython3",
   "version": "3.8.5"
  }
 },
 "nbformat": 4,
 "nbformat_minor": 4
}
